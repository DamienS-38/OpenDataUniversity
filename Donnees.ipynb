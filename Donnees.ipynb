{
 "cells": [
  {
   "cell_type": "markdown",
   "metadata": {},
   "source": [
    "# Elections"
   ]
  },
  {
   "cell_type": "markdown",
   "metadata": {},
   "source": [
    "## Imports"
   ]
  },
  {
   "cell_type": "code",
   "execution_count": 1,
   "metadata": {},
   "outputs": [
    {
     "name": "stdout",
     "output_type": "stream",
     "text": [
      "/home/damien.schaeffer@Digital-Grenoble.local/anaconda3/bin/python\n",
      "['/home/damien.schaeffer@Digital-Grenoble.local/Documents/19-OpenDataUniversity-CasDusage', '/home/damien.schaeffer@Digital-Grenoble.local/anaconda3/lib/python312.zip', '/home/damien.schaeffer@Digital-Grenoble.local/anaconda3/lib/python3.12', '/home/damien.schaeffer@Digital-Grenoble.local/anaconda3/lib/python3.12/lib-dynload', '', '/home/damien.schaeffer@Digital-Grenoble.local/anaconda3/lib/python3.12/site-packages', '/home/damien.schaeffer@Digital-Grenoble.local/anaconda3/lib/python3.12/site-packages/setuptools/_vendor']\n"
     ]
    }
   ],
   "source": [
    "import sys\n",
    "print(sys.executable)  # Chemin vers Python\n",
    "print(sys.path)  "
   ]
  },
  {
   "cell_type": "code",
   "execution_count": 2,
   "metadata": {},
   "outputs": [],
   "source": [
    "import pandas as pd\n",
    "#import geopandas as gpd\n",
    "#import pandas_geojson as pdg\n",
    "import numpy as np\n",
    "import plotly as plt\n",
    "import csv\n",
    "import scipy.stats as stats\n",
    "import matplotlib.pyplot as plt\n",
    "import plotly.express as px\n",
    "import seaborn as sns\n",
    "import random"
   ]
  },
  {
   "cell_type": "markdown",
   "metadata": {},
   "source": [
    "## CSV"
   ]
  },
  {
   "cell_type": "markdown",
   "metadata": {},
   "source": [
    "df_1ertour=pd.read_csv('Data/presidentielle-2022-communes-t1.csv', delimiter=',')\n",
    "df_1ertour"
   ]
  },
  {
   "cell_type": "markdown",
   "metadata": {},
   "source": [
    "### Résultat 1erTour Présidentiel 2022"
   ]
  },
  {
   "cell_type": "code",
   "execution_count": 3,
   "metadata": {},
   "outputs": [],
   "source": [
    "# df_1ertour_2017_clean=pd.read_csv('Data/presidentielle-2017-resultats-bv-t1-clean-def.csv', delimiter=',')\n",
    "# df_1ertour_2017_clean"
   ]
  },
  {
   "cell_type": "code",
   "execution_count": 4,
   "metadata": {},
   "outputs": [
    {
     "name": "stderr",
     "output_type": "stream",
     "text": [
      "/tmp/ipykernel_12991/2296176448.py:1: DtypeWarning: Columns (4) have mixed types. Specify dtype option on import or set low_memory=False.\n",
      "  df_1ertour=pd.read_csv('Data/elections/presidentielle-2022-communes-t1.csv', delimiter=',')\n"
     ]
    },
    {
     "data": {
      "text/html": [
       "<div>\n",
       "<style scoped>\n",
       "    .dataframe tbody tr th:only-of-type {\n",
       "        vertical-align: middle;\n",
       "    }\n",
       "\n",
       "    .dataframe tbody tr th {\n",
       "        vertical-align: top;\n",
       "    }\n",
       "\n",
       "    .dataframe thead th {\n",
       "        text-align: right;\n",
       "    }\n",
       "</style>\n",
       "<table border=\"1\" class=\"dataframe\">\n",
       "  <thead>\n",
       "    <tr style=\"text-align: right;\">\n",
       "      <th></th>\n",
       "      <th>code_departement</th>\n",
       "      <th>libelle_departement</th>\n",
       "      <th>code_commune</th>\n",
       "      <th>libelle_commune</th>\n",
       "      <th>prenom</th>\n",
       "      <th>nom</th>\n",
       "      <th>voix</th>\n",
       "    </tr>\n",
       "  </thead>\n",
       "  <tbody>\n",
       "    <tr>\n",
       "      <th>0</th>\n",
       "      <td>01</td>\n",
       "      <td>Ain</td>\n",
       "      <td>1</td>\n",
       "      <td>L'Abergement-Clémenciat</td>\n",
       "      <td>Nathalie</td>\n",
       "      <td>ARTHAUD</td>\n",
       "      <td>3</td>\n",
       "    </tr>\n",
       "    <tr>\n",
       "      <th>1</th>\n",
       "      <td>01</td>\n",
       "      <td>Ain</td>\n",
       "      <td>2</td>\n",
       "      <td>L'Abergement-de-Varey</td>\n",
       "      <td>Nathalie</td>\n",
       "      <td>ARTHAUD</td>\n",
       "      <td>2</td>\n",
       "    </tr>\n",
       "    <tr>\n",
       "      <th>2</th>\n",
       "      <td>01</td>\n",
       "      <td>Ain</td>\n",
       "      <td>4</td>\n",
       "      <td>Ambérieu-en-Bugey</td>\n",
       "      <td>Nathalie</td>\n",
       "      <td>ARTHAUD</td>\n",
       "      <td>38</td>\n",
       "    </tr>\n",
       "    <tr>\n",
       "      <th>3</th>\n",
       "      <td>01</td>\n",
       "      <td>Ain</td>\n",
       "      <td>5</td>\n",
       "      <td>Ambérieux-en-Dombes</td>\n",
       "      <td>Nathalie</td>\n",
       "      <td>ARTHAUD</td>\n",
       "      <td>8</td>\n",
       "    </tr>\n",
       "    <tr>\n",
       "      <th>4</th>\n",
       "      <td>01</td>\n",
       "      <td>Ain</td>\n",
       "      <td>6</td>\n",
       "      <td>Ambléon</td>\n",
       "      <td>Nathalie</td>\n",
       "      <td>ARTHAUD</td>\n",
       "      <td>0</td>\n",
       "    </tr>\n",
       "    <tr>\n",
       "      <th>...</th>\n",
       "      <td>...</td>\n",
       "      <td>...</td>\n",
       "      <td>...</td>\n",
       "      <td>...</td>\n",
       "      <td>...</td>\n",
       "      <td>...</td>\n",
       "      <td>...</td>\n",
       "    </tr>\n",
       "    <tr>\n",
       "      <th>528670</th>\n",
       "      <td>fr_etranger</td>\n",
       "      <td>Français établis hors de France</td>\n",
       "      <td>229</td>\n",
       "      <td>Zurich</td>\n",
       "      <td>NaN</td>\n",
       "      <td>nuls</td>\n",
       "      <td>31</td>\n",
       "    </tr>\n",
       "    <tr>\n",
       "      <th>528671</th>\n",
       "      <td>fr_etranger</td>\n",
       "      <td>Français établis hors de France</td>\n",
       "      <td>231</td>\n",
       "      <td>Taipei</td>\n",
       "      <td>NaN</td>\n",
       "      <td>nuls</td>\n",
       "      <td>2</td>\n",
       "    </tr>\n",
       "    <tr>\n",
       "      <th>528672</th>\n",
       "      <td>fr_etranger</td>\n",
       "      <td>Français établis hors de France</td>\n",
       "      <td>233</td>\n",
       "      <td>Nour-Soultan</td>\n",
       "      <td>NaN</td>\n",
       "      <td>nuls</td>\n",
       "      <td>0</td>\n",
       "    </tr>\n",
       "    <tr>\n",
       "      <th>528673</th>\n",
       "      <td>fr_etranger</td>\n",
       "      <td>Français établis hors de France</td>\n",
       "      <td>234</td>\n",
       "      <td>Monterrey</td>\n",
       "      <td>NaN</td>\n",
       "      <td>nuls</td>\n",
       "      <td>2</td>\n",
       "    </tr>\n",
       "    <tr>\n",
       "      <th>528674</th>\n",
       "      <td>fr_etranger</td>\n",
       "      <td>Français établis hors de France</td>\n",
       "      <td>235</td>\n",
       "      <td>Bahamas (Nassau)</td>\n",
       "      <td>NaN</td>\n",
       "      <td>nuls</td>\n",
       "      <td>0</td>\n",
       "    </tr>\n",
       "  </tbody>\n",
       "</table>\n",
       "<p>528675 rows × 7 columns</p>\n",
       "</div>"
      ],
      "text/plain": [
       "       code_departement              libelle_departement  code_commune  \\\n",
       "0                    01                              Ain             1   \n",
       "1                    01                              Ain             2   \n",
       "2                    01                              Ain             4   \n",
       "3                    01                              Ain             5   \n",
       "4                    01                              Ain             6   \n",
       "...                 ...                              ...           ...   \n",
       "528670      fr_etranger  Français établis hors de France           229   \n",
       "528671      fr_etranger  Français établis hors de France           231   \n",
       "528672      fr_etranger  Français établis hors de France           233   \n",
       "528673      fr_etranger  Français établis hors de France           234   \n",
       "528674      fr_etranger  Français établis hors de France           235   \n",
       "\n",
       "                libelle_commune    prenom      nom  voix  \n",
       "0       L'Abergement-Clémenciat  Nathalie  ARTHAUD     3  \n",
       "1         L'Abergement-de-Varey  Nathalie  ARTHAUD     2  \n",
       "2             Ambérieu-en-Bugey  Nathalie  ARTHAUD    38  \n",
       "3           Ambérieux-en-Dombes  Nathalie  ARTHAUD     8  \n",
       "4                       Ambléon  Nathalie  ARTHAUD     0  \n",
       "...                         ...       ...      ...   ...  \n",
       "528670                   Zurich       NaN     nuls    31  \n",
       "528671                   Taipei       NaN     nuls     2  \n",
       "528672             Nour-Soultan       NaN     nuls     0  \n",
       "528673                Monterrey       NaN     nuls     2  \n",
       "528674         Bahamas (Nassau)       NaN     nuls     0  \n",
       "\n",
       "[528675 rows x 7 columns]"
      ]
     },
     "execution_count": 4,
     "metadata": {},
     "output_type": "execute_result"
    }
   ],
   "source": [
    "df_1ertour=pd.read_csv('Data/elections/presidentielle-2022-communes-t1.csv', delimiter=',')\n",
    "df_1ertour\n",
    "#df_1ertour.columns\n",
    "#df_1ertour['nom'].unique()"
   ]
  },
  {
   "cell_type": "markdown",
   "metadata": {},
   "source": [
    "#### NomComplet -> Candidat et renommer les colonnes"
   ]
  },
  {
   "cell_type": "code",
   "execution_count": 5,
   "metadata": {},
   "outputs": [
    {
     "data": {
      "text/html": [
       "<div>\n",
       "<style scoped>\n",
       "    .dataframe tbody tr th:only-of-type {\n",
       "        vertical-align: middle;\n",
       "    }\n",
       "\n",
       "    .dataframe tbody tr th {\n",
       "        vertical-align: top;\n",
       "    }\n",
       "\n",
       "    .dataframe thead th {\n",
       "        text-align: right;\n",
       "    }\n",
       "</style>\n",
       "<table border=\"1\" class=\"dataframe\">\n",
       "  <thead>\n",
       "    <tr style=\"text-align: right;\">\n",
       "      <th></th>\n",
       "      <th>cd_commune</th>\n",
       "      <th>lib_commune</th>\n",
       "      <th>cd_departement</th>\n",
       "      <th>lib_departement</th>\n",
       "      <th>nom_complet</th>\n",
       "      <th>nb_voix</th>\n",
       "    </tr>\n",
       "  </thead>\n",
       "  <tbody>\n",
       "    <tr>\n",
       "      <th>0</th>\n",
       "      <td>1</td>\n",
       "      <td>L'Abergement-Clémenciat</td>\n",
       "      <td>01</td>\n",
       "      <td>Ain</td>\n",
       "      <td>Nathalie ARTHAUD</td>\n",
       "      <td>3</td>\n",
       "    </tr>\n",
       "    <tr>\n",
       "      <th>1</th>\n",
       "      <td>2</td>\n",
       "      <td>L'Abergement-de-Varey</td>\n",
       "      <td>01</td>\n",
       "      <td>Ain</td>\n",
       "      <td>Nathalie ARTHAUD</td>\n",
       "      <td>2</td>\n",
       "    </tr>\n",
       "    <tr>\n",
       "      <th>2</th>\n",
       "      <td>4</td>\n",
       "      <td>Ambérieu-en-Bugey</td>\n",
       "      <td>01</td>\n",
       "      <td>Ain</td>\n",
       "      <td>Nathalie ARTHAUD</td>\n",
       "      <td>38</td>\n",
       "    </tr>\n",
       "    <tr>\n",
       "      <th>3</th>\n",
       "      <td>5</td>\n",
       "      <td>Ambérieux-en-Dombes</td>\n",
       "      <td>01</td>\n",
       "      <td>Ain</td>\n",
       "      <td>Nathalie ARTHAUD</td>\n",
       "      <td>8</td>\n",
       "    </tr>\n",
       "    <tr>\n",
       "      <th>4</th>\n",
       "      <td>6</td>\n",
       "      <td>Ambléon</td>\n",
       "      <td>01</td>\n",
       "      <td>Ain</td>\n",
       "      <td>Nathalie ARTHAUD</td>\n",
       "      <td>0</td>\n",
       "    </tr>\n",
       "  </tbody>\n",
       "</table>\n",
       "</div>"
      ],
      "text/plain": [
       "   cd_commune              lib_commune cd_departement lib_departement  \\\n",
       "0           1  L'Abergement-Clémenciat             01             Ain   \n",
       "1           2    L'Abergement-de-Varey             01             Ain   \n",
       "2           4        Ambérieu-en-Bugey             01             Ain   \n",
       "3           5      Ambérieux-en-Dombes             01             Ain   \n",
       "4           6                  Ambléon             01             Ain   \n",
       "\n",
       "        nom_complet  nb_voix  \n",
       "0  Nathalie ARTHAUD        3  \n",
       "1  Nathalie ARTHAUD        2  \n",
       "2  Nathalie ARTHAUD       38  \n",
       "3  Nathalie ARTHAUD        8  \n",
       "4  Nathalie ARTHAUD        0  "
      ]
     },
     "execution_count": 5,
     "metadata": {},
     "output_type": "execute_result"
    }
   ],
   "source": [
    "tour = []\n",
    "\n",
    "# Parcourir chaque ligne du DataFrame\n",
    "for i, row in df_1ertour.iterrows():\n",
    "    if pd.isna(row[\"prenom\"]):\n",
    "        nom_complet = row[\"nom\"]\n",
    "    else:\n",
    "        nom_complet = f\"{row['prenom']} {row['nom']}\"\n",
    "\n",
    "    tour.append({\n",
    "        \"cd_commune\": row[\"code_commune\"],\n",
    "        \"lib_commune\": row[\"libelle_commune\"],\n",
    "        \"cd_departement\": row[\"code_departement\"],\n",
    "        \"lib_departement\":row[\"libelle_departement\"],\n",
    "        \"nom_complet\": nom_complet,\n",
    "        \"nb_voix\": row[\"voix\"]\n",
    "    })\n",
    "df_1ertour = pd.DataFrame(tour)\n",
    "df_1ertour.head()\n",
    "# df_1ertour['nom_complet'].unique()"
   ]
  },
  {
   "cell_type": "markdown",
   "metadata": {},
   "source": [
    "#### Sensibilites Politique (Gauche/Droite/Centre/Non_Comptabilise)"
   ]
  },
  {
   "cell_type": "code",
   "execution_count": 6,
   "metadata": {},
   "outputs": [
    {
     "data": {
      "text/html": [
       "<div>\n",
       "<style scoped>\n",
       "    .dataframe tbody tr th:only-of-type {\n",
       "        vertical-align: middle;\n",
       "    }\n",
       "\n",
       "    .dataframe tbody tr th {\n",
       "        vertical-align: top;\n",
       "    }\n",
       "\n",
       "    .dataframe thead th {\n",
       "        text-align: right;\n",
       "    }\n",
       "</style>\n",
       "<table border=\"1\" class=\"dataframe\">\n",
       "  <thead>\n",
       "    <tr style=\"text-align: right;\">\n",
       "      <th></th>\n",
       "      <th>cd_commune</th>\n",
       "      <th>lib_commune</th>\n",
       "      <th>cd_departement</th>\n",
       "      <th>lib_departement</th>\n",
       "      <th>nom_complet</th>\n",
       "      <th>nb_voix</th>\n",
       "      <th>sensibilite_politique</th>\n",
       "    </tr>\n",
       "  </thead>\n",
       "  <tbody>\n",
       "    <tr>\n",
       "      <th>0</th>\n",
       "      <td>1</td>\n",
       "      <td>L'Abergement-Clémenciat</td>\n",
       "      <td>01</td>\n",
       "      <td>Ain</td>\n",
       "      <td>Nathalie ARTHAUD</td>\n",
       "      <td>3</td>\n",
       "      <td>Gauche</td>\n",
       "    </tr>\n",
       "    <tr>\n",
       "      <th>1</th>\n",
       "      <td>2</td>\n",
       "      <td>L'Abergement-de-Varey</td>\n",
       "      <td>01</td>\n",
       "      <td>Ain</td>\n",
       "      <td>Nathalie ARTHAUD</td>\n",
       "      <td>2</td>\n",
       "      <td>Gauche</td>\n",
       "    </tr>\n",
       "    <tr>\n",
       "      <th>2</th>\n",
       "      <td>4</td>\n",
       "      <td>Ambérieu-en-Bugey</td>\n",
       "      <td>01</td>\n",
       "      <td>Ain</td>\n",
       "      <td>Nathalie ARTHAUD</td>\n",
       "      <td>38</td>\n",
       "      <td>Gauche</td>\n",
       "    </tr>\n",
       "    <tr>\n",
       "      <th>3</th>\n",
       "      <td>5</td>\n",
       "      <td>Ambérieux-en-Dombes</td>\n",
       "      <td>01</td>\n",
       "      <td>Ain</td>\n",
       "      <td>Nathalie ARTHAUD</td>\n",
       "      <td>8</td>\n",
       "      <td>Gauche</td>\n",
       "    </tr>\n",
       "    <tr>\n",
       "      <th>4</th>\n",
       "      <td>6</td>\n",
       "      <td>Ambléon</td>\n",
       "      <td>01</td>\n",
       "      <td>Ain</td>\n",
       "      <td>Nathalie ARTHAUD</td>\n",
       "      <td>0</td>\n",
       "      <td>Gauche</td>\n",
       "    </tr>\n",
       "    <tr>\n",
       "      <th>...</th>\n",
       "      <td>...</td>\n",
       "      <td>...</td>\n",
       "      <td>...</td>\n",
       "      <td>...</td>\n",
       "      <td>...</td>\n",
       "      <td>...</td>\n",
       "      <td>...</td>\n",
       "    </tr>\n",
       "    <tr>\n",
       "      <th>528670</th>\n",
       "      <td>229</td>\n",
       "      <td>Zurich</td>\n",
       "      <td>fr_etranger</td>\n",
       "      <td>Français établis hors de France</td>\n",
       "      <td>nuls</td>\n",
       "      <td>31</td>\n",
       "      <td>Non_comptabilise</td>\n",
       "    </tr>\n",
       "    <tr>\n",
       "      <th>528671</th>\n",
       "      <td>231</td>\n",
       "      <td>Taipei</td>\n",
       "      <td>fr_etranger</td>\n",
       "      <td>Français établis hors de France</td>\n",
       "      <td>nuls</td>\n",
       "      <td>2</td>\n",
       "      <td>Non_comptabilise</td>\n",
       "    </tr>\n",
       "    <tr>\n",
       "      <th>528672</th>\n",
       "      <td>233</td>\n",
       "      <td>Nour-Soultan</td>\n",
       "      <td>fr_etranger</td>\n",
       "      <td>Français établis hors de France</td>\n",
       "      <td>nuls</td>\n",
       "      <td>0</td>\n",
       "      <td>Non_comptabilise</td>\n",
       "    </tr>\n",
       "    <tr>\n",
       "      <th>528673</th>\n",
       "      <td>234</td>\n",
       "      <td>Monterrey</td>\n",
       "      <td>fr_etranger</td>\n",
       "      <td>Français établis hors de France</td>\n",
       "      <td>nuls</td>\n",
       "      <td>2</td>\n",
       "      <td>Non_comptabilise</td>\n",
       "    </tr>\n",
       "    <tr>\n",
       "      <th>528674</th>\n",
       "      <td>235</td>\n",
       "      <td>Bahamas (Nassau)</td>\n",
       "      <td>fr_etranger</td>\n",
       "      <td>Français établis hors de France</td>\n",
       "      <td>nuls</td>\n",
       "      <td>0</td>\n",
       "      <td>Non_comptabilise</td>\n",
       "    </tr>\n",
       "  </tbody>\n",
       "</table>\n",
       "<p>528675 rows × 7 columns</p>\n",
       "</div>"
      ],
      "text/plain": [
       "        cd_commune              lib_commune cd_departement  \\\n",
       "0                1  L'Abergement-Clémenciat             01   \n",
       "1                2    L'Abergement-de-Varey             01   \n",
       "2                4        Ambérieu-en-Bugey             01   \n",
       "3                5      Ambérieux-en-Dombes             01   \n",
       "4                6                  Ambléon             01   \n",
       "...            ...                      ...            ...   \n",
       "528670         229                   Zurich    fr_etranger   \n",
       "528671         231                   Taipei    fr_etranger   \n",
       "528672         233             Nour-Soultan    fr_etranger   \n",
       "528673         234                Monterrey    fr_etranger   \n",
       "528674         235         Bahamas (Nassau)    fr_etranger   \n",
       "\n",
       "                        lib_departement       nom_complet  nb_voix  \\\n",
       "0                                   Ain  Nathalie ARTHAUD        3   \n",
       "1                                   Ain  Nathalie ARTHAUD        2   \n",
       "2                                   Ain  Nathalie ARTHAUD       38   \n",
       "3                                   Ain  Nathalie ARTHAUD        8   \n",
       "4                                   Ain  Nathalie ARTHAUD        0   \n",
       "...                                 ...               ...      ...   \n",
       "528670  Français établis hors de France              nuls       31   \n",
       "528671  Français établis hors de France              nuls        2   \n",
       "528672  Français établis hors de France              nuls        0   \n",
       "528673  Français établis hors de France              nuls        2   \n",
       "528674  Français établis hors de France              nuls        0   \n",
       "\n",
       "       sensibilite_politique  \n",
       "0                     Gauche  \n",
       "1                     Gauche  \n",
       "2                     Gauche  \n",
       "3                     Gauche  \n",
       "4                     Gauche  \n",
       "...                      ...  \n",
       "528670      Non_comptabilise  \n",
       "528671      Non_comptabilise  \n",
       "528672      Non_comptabilise  \n",
       "528673      Non_comptabilise  \n",
       "528674      Non_comptabilise  \n",
       "\n",
       "[528675 rows x 7 columns]"
      ]
     },
     "execution_count": 6,
     "metadata": {},
     "output_type": "execute_result"
    }
   ],
   "source": [
    "sensibilites = {\n",
    "    \"Nathalie ARTHAUD\": \"Gauche\",\n",
    "    \"Fabien ROUSSEL\": \"Gauche\",\n",
    "    \"Jean-Luc MÉLENCHON\": \"Gauche\",\n",
    "    \"Philippe POUTOU\": \"Gauche\",\n",
    "    \"Anne HIDALGO\": \"Gauche\",\n",
    "    \"Yannick JADOT\": \"Gauche\",\n",
    "    \"Emmanuel MACRON\": \"Centre\",\n",
    "    \"Valérie PÉCRESSE\": \"Droite\",\n",
    "    \"Nicolas DUPONT-AIGNAN\": \"Droite\",\n",
    "    \"Marine LE PEN\": \"Droite\",\n",
    "    \"Éric ZEMMOUR\": \"Droite\",\n",
    "    \"Jean LASSALLE\": \"Centre\",\n",
    "    \"nuls\": \"Non_comptabilise\",\n",
    "    \"abstentions\":\"Non_comptabilise\",\n",
    "    \"blancs\":\"Non_comptabilise\"\n",
    "}\n",
    "\n",
    "df_1ertour[\"sensibilite_politique\"] = df_1ertour[\"nom_complet\"].map(sensibilites)\n",
    "df_1ertour"
   ]
  },
  {
   "cell_type": "markdown",
   "metadata": {},
   "source": [
    "#### Région par département"
   ]
  },
  {
   "cell_type": "code",
   "execution_count": 7,
   "metadata": {},
   "outputs": [
    {
     "data": {
      "text/html": [
       "<div>\n",
       "<style scoped>\n",
       "    .dataframe tbody tr th:only-of-type {\n",
       "        vertical-align: middle;\n",
       "    }\n",
       "\n",
       "    .dataframe tbody tr th {\n",
       "        vertical-align: top;\n",
       "    }\n",
       "\n",
       "    .dataframe thead th {\n",
       "        text-align: right;\n",
       "    }\n",
       "</style>\n",
       "<table border=\"1\" class=\"dataframe\">\n",
       "  <thead>\n",
       "    <tr style=\"text-align: right;\">\n",
       "      <th></th>\n",
       "      <th>cd_commune</th>\n",
       "      <th>lib_commune</th>\n",
       "      <th>cd_departement</th>\n",
       "      <th>lib_departement</th>\n",
       "      <th>nom_complet</th>\n",
       "      <th>nb_voix</th>\n",
       "      <th>sensibilite_politique</th>\n",
       "      <th>region</th>\n",
       "    </tr>\n",
       "  </thead>\n",
       "  <tbody>\n",
       "    <tr>\n",
       "      <th>0</th>\n",
       "      <td>1</td>\n",
       "      <td>L'Abergement-Clémenciat</td>\n",
       "      <td>01</td>\n",
       "      <td>Ain</td>\n",
       "      <td>Nathalie ARTHAUD</td>\n",
       "      <td>3</td>\n",
       "      <td>Gauche</td>\n",
       "      <td>Auvergne-Rhône-Alpes</td>\n",
       "    </tr>\n",
       "    <tr>\n",
       "      <th>1</th>\n",
       "      <td>2</td>\n",
       "      <td>L'Abergement-de-Varey</td>\n",
       "      <td>01</td>\n",
       "      <td>Ain</td>\n",
       "      <td>Nathalie ARTHAUD</td>\n",
       "      <td>2</td>\n",
       "      <td>Gauche</td>\n",
       "      <td>Auvergne-Rhône-Alpes</td>\n",
       "    </tr>\n",
       "    <tr>\n",
       "      <th>2</th>\n",
       "      <td>4</td>\n",
       "      <td>Ambérieu-en-Bugey</td>\n",
       "      <td>01</td>\n",
       "      <td>Ain</td>\n",
       "      <td>Nathalie ARTHAUD</td>\n",
       "      <td>38</td>\n",
       "      <td>Gauche</td>\n",
       "      <td>Auvergne-Rhône-Alpes</td>\n",
       "    </tr>\n",
       "    <tr>\n",
       "      <th>3</th>\n",
       "      <td>5</td>\n",
       "      <td>Ambérieux-en-Dombes</td>\n",
       "      <td>01</td>\n",
       "      <td>Ain</td>\n",
       "      <td>Nathalie ARTHAUD</td>\n",
       "      <td>8</td>\n",
       "      <td>Gauche</td>\n",
       "      <td>Auvergne-Rhône-Alpes</td>\n",
       "    </tr>\n",
       "    <tr>\n",
       "      <th>4</th>\n",
       "      <td>6</td>\n",
       "      <td>Ambléon</td>\n",
       "      <td>01</td>\n",
       "      <td>Ain</td>\n",
       "      <td>Nathalie ARTHAUD</td>\n",
       "      <td>0</td>\n",
       "      <td>Gauche</td>\n",
       "      <td>Auvergne-Rhône-Alpes</td>\n",
       "    </tr>\n",
       "    <tr>\n",
       "      <th>...</th>\n",
       "      <td>...</td>\n",
       "      <td>...</td>\n",
       "      <td>...</td>\n",
       "      <td>...</td>\n",
       "      <td>...</td>\n",
       "      <td>...</td>\n",
       "      <td>...</td>\n",
       "      <td>...</td>\n",
       "    </tr>\n",
       "    <tr>\n",
       "      <th>528670</th>\n",
       "      <td>229</td>\n",
       "      <td>Zurich</td>\n",
       "      <td>fr_etranger</td>\n",
       "      <td>Français établis hors de France</td>\n",
       "      <td>nuls</td>\n",
       "      <td>31</td>\n",
       "      <td>Non_comptabilise</td>\n",
       "      <td>Français de l'étranger</td>\n",
       "    </tr>\n",
       "    <tr>\n",
       "      <th>528671</th>\n",
       "      <td>231</td>\n",
       "      <td>Taipei</td>\n",
       "      <td>fr_etranger</td>\n",
       "      <td>Français établis hors de France</td>\n",
       "      <td>nuls</td>\n",
       "      <td>2</td>\n",
       "      <td>Non_comptabilise</td>\n",
       "      <td>Français de l'étranger</td>\n",
       "    </tr>\n",
       "    <tr>\n",
       "      <th>528672</th>\n",
       "      <td>233</td>\n",
       "      <td>Nour-Soultan</td>\n",
       "      <td>fr_etranger</td>\n",
       "      <td>Français établis hors de France</td>\n",
       "      <td>nuls</td>\n",
       "      <td>0</td>\n",
       "      <td>Non_comptabilise</td>\n",
       "      <td>Français de l'étranger</td>\n",
       "    </tr>\n",
       "    <tr>\n",
       "      <th>528673</th>\n",
       "      <td>234</td>\n",
       "      <td>Monterrey</td>\n",
       "      <td>fr_etranger</td>\n",
       "      <td>Français établis hors de France</td>\n",
       "      <td>nuls</td>\n",
       "      <td>2</td>\n",
       "      <td>Non_comptabilise</td>\n",
       "      <td>Français de l'étranger</td>\n",
       "    </tr>\n",
       "    <tr>\n",
       "      <th>528674</th>\n",
       "      <td>235</td>\n",
       "      <td>Bahamas (Nassau)</td>\n",
       "      <td>fr_etranger</td>\n",
       "      <td>Français établis hors de France</td>\n",
       "      <td>nuls</td>\n",
       "      <td>0</td>\n",
       "      <td>Non_comptabilise</td>\n",
       "      <td>Français de l'étranger</td>\n",
       "    </tr>\n",
       "  </tbody>\n",
       "</table>\n",
       "<p>528675 rows × 8 columns</p>\n",
       "</div>"
      ],
      "text/plain": [
       "        cd_commune              lib_commune cd_departement  \\\n",
       "0                1  L'Abergement-Clémenciat             01   \n",
       "1                2    L'Abergement-de-Varey             01   \n",
       "2                4        Ambérieu-en-Bugey             01   \n",
       "3                5      Ambérieux-en-Dombes             01   \n",
       "4                6                  Ambléon             01   \n",
       "...            ...                      ...            ...   \n",
       "528670         229                   Zurich    fr_etranger   \n",
       "528671         231                   Taipei    fr_etranger   \n",
       "528672         233             Nour-Soultan    fr_etranger   \n",
       "528673         234                Monterrey    fr_etranger   \n",
       "528674         235         Bahamas (Nassau)    fr_etranger   \n",
       "\n",
       "                        lib_departement       nom_complet  nb_voix  \\\n",
       "0                                   Ain  Nathalie ARTHAUD        3   \n",
       "1                                   Ain  Nathalie ARTHAUD        2   \n",
       "2                                   Ain  Nathalie ARTHAUD       38   \n",
       "3                                   Ain  Nathalie ARTHAUD        8   \n",
       "4                                   Ain  Nathalie ARTHAUD        0   \n",
       "...                                 ...               ...      ...   \n",
       "528670  Français établis hors de France              nuls       31   \n",
       "528671  Français établis hors de France              nuls        2   \n",
       "528672  Français établis hors de France              nuls        0   \n",
       "528673  Français établis hors de France              nuls        2   \n",
       "528674  Français établis hors de France              nuls        0   \n",
       "\n",
       "       sensibilite_politique                  region  \n",
       "0                     Gauche    Auvergne-Rhône-Alpes  \n",
       "1                     Gauche    Auvergne-Rhône-Alpes  \n",
       "2                     Gauche    Auvergne-Rhône-Alpes  \n",
       "3                     Gauche    Auvergne-Rhône-Alpes  \n",
       "4                     Gauche    Auvergne-Rhône-Alpes  \n",
       "...                      ...                     ...  \n",
       "528670      Non_comptabilise  Français de l'étranger  \n",
       "528671      Non_comptabilise  Français de l'étranger  \n",
       "528672      Non_comptabilise  Français de l'étranger  \n",
       "528673      Non_comptabilise  Français de l'étranger  \n",
       "528674      Non_comptabilise  Français de l'étranger  \n",
       "\n",
       "[528675 rows x 8 columns]"
      ]
     },
     "execution_count": 7,
     "metadata": {},
     "output_type": "execute_result"
    }
   ],
   "source": [
    "departement_to_region = {\n",
    "    # Auvergne-Rhône-Alpes\n",
    "    \"01\": \"Auvergne-Rhône-Alpes\",    \"03\": \"Auvergne-Rhône-Alpes\",    \"07\": \"Auvergne-Rhône-Alpes\",    \"15\": \"Auvergne-Rhône-Alpes\",    \"26\": \"Auvergne-Rhône-Alpes\",\n",
    "    \"38\": \"Auvergne-Rhône-Alpes\",    \"42\": \"Auvergne-Rhône-Alpes\",    \"43\": \"Auvergne-Rhône-Alpes\",    \"63\": \"Auvergne-Rhône-Alpes\",    \"69\": \"Auvergne-Rhône-Alpes\",\n",
    "    \"73\": \"Auvergne-Rhône-Alpes\",    \"74\": \"Auvergne-Rhône-Alpes\",\n",
    "    \n",
    "    # Bourgogne-Franche-Comté\n",
    "    \"21\": \"Bourgogne-Franche-Comté\",    \"25\": \"Bourgogne-Franche-Comté\",    \"39\": \"Bourgogne-Franche-Comté\",    \"58\": \"Bourgogne-Franche-Comté\",\n",
    "    \"70\": \"Bourgogne-Franche-Comté\",    \"71\": \"Bourgogne-Franche-Comté\",    \"89\": \"Bourgogne-Franche-Comté\",    \"90\": \"Bourgogne-Franche-Comté\",\n",
    "    \n",
    "    # Bretagne\n",
    "    \"22\": \"Bretagne\",    \"29\": \"Bretagne\",    \"35\": \"Bretagne\",    \"56\": \"Bretagne\",\n",
    "    \n",
    "    # Centre-Val de Loire\n",
    "    \"18\": \"Centre-Val de Loire\",    \"28\": \"Centre-Val de Loire\",    \"36\": \"Centre-Val de Loire\",    \"37\": \"Centre-Val de Loire\",    \"41\": \"Centre-Val de Loire\",\n",
    "    \"45\": \"Centre-Val de Loire\",\n",
    "    \n",
    "    # Corse\n",
    "    \"2A\": \"Corse\",    \"2B\": \"Corse\",\n",
    "    \n",
    "    # Grand Est\n",
    "    \"08\": \"Grand Est\",    \"10\": \"Grand Est\",    \"51\": \"Grand Est\",    \"52\": \"Grand Est\",    \"54\": \"Grand Est\",    \"55\": \"Grand Est\",\n",
    "    \"57\": \"Grand Est\",    \"67\": \"Grand Est\",    \"68\": \"Grand Est\",    \"88\": \"Grand Est\",\n",
    "\n",
    "    # Hauts-de-France\n",
    "    \"02\": \"Hauts-de-France\",    \"59\": \"Hauts-de-France\",    \"60\": \"Hauts-de-France\",    \"62\": \"Hauts-de-France\",    \"80\": \"Hauts-de-France\",\n",
    "    \n",
    "    # Île-de-France\n",
    "    \"75\": \"Île-de-France\",    \"77\": \"Île-de-France\",    \"78\": \"Île-de-France\",    \"91\": \"Île-de-France\",    \"92\": \"Île-de-France\",\n",
    "    \"93\": \"Île-de-France\",    \"94\": \"Île-de-France\",    \"95\": \"Île-de-France\",\n",
    "    \n",
    "    # Normandie\n",
    "    \"14\": \"Normandie\",    \"27\": \"Normandie\",    \"50\": \"Normandie\",    \"61\": \"Normandie\",    \"76\": \"Normandie\",\n",
    "    \n",
    "    # Nouvelle-Aquitaine\n",
    "    \"16\": \"Nouvelle-Aquitaine\",    \"17\": \"Nouvelle-Aquitaine\",    \"19\": \"Nouvelle-Aquitaine\",    \"23\": \"Nouvelle-Aquitaine\",    \"24\": \"Nouvelle-Aquitaine\",\n",
    "    \"33\": \"Nouvelle-Aquitaine\",    \"40\": \"Nouvelle-Aquitaine\",    \"47\": \"Nouvelle-Aquitaine\",    \"64\": \"Nouvelle-Aquitaine\",    \"79\": \"Nouvelle-Aquitaine\",\n",
    "    \"86\": \"Nouvelle-Aquitaine\",    \"87\": \"Nouvelle-Aquitaine\",\n",
    "    \n",
    "    # Occitanie\n",
    "    \"09\": \"Occitanie\",    \"11\": \"Occitanie\",    \"12\": \"Occitanie\",    \"30\": \"Occitanie\",    \"31\": \"Occitanie\",    \"32\": \"Occitanie\",\n",
    "    \"34\": \"Occitanie\",    \"46\": \"Occitanie\",    \"48\": \"Occitanie\",    \"65\": \"Occitanie\",    \"66\": \"Occitanie\",    \"81\": \"Occitanie\",    \"82\": \"Occitanie\",\n",
    "    \n",
    "    # Pays de la Loire\n",
    "    \"44\": \"Pays de la Loire\",    \"49\": \"Pays de la Loire\",    \"53\": \"Pays de la Loire\",    \"72\": \"Pays de la Loire\",    \"85\": \"Pays de la Loire\",\n",
    "    \n",
    "    # Provence-Alpes-Côte d'Azur\n",
    "    \"04\": \"Provence-Alpes-Côte d'Azur\",    \"05\": \"Provence-Alpes-Côte d'Azur\",    \"06\": \"Provence-Alpes-Côte d'Azur\",\n",
    "    \"13\": \"Provence-Alpes-Côte d'Azur\",    \"83\": \"Provence-Alpes-Côte d'Azur\",    \"84\": \"Provence-Alpes-Côte d'Azur\",\n",
    "    \n",
    "    # Guadeloupe\n",
    "    \"971\": \"Guadeloupe\",\n",
    "    \n",
    "    # Martinique\n",
    "    \"972\": \"Martinique\",\n",
    "    \n",
    "    # Guyane\n",
    "    \"973\": \"Guyane\",\n",
    "    \n",
    "    # La Réunion\n",
    "    \"974\": \"La Réunion\",\n",
    "    \n",
    "    # Mayotte\n",
    "    \"976\": \"Mayotte\",\n",
    "    \n",
    "    # Nouvelle-Calédonie\n",
    "    \"988\": \"Nouvelle-Calédonie\",\n",
    "    \n",
    "    # Wallis-et-Futuna\n",
    "    \"986\": \"Wallis-et-Futuna\",\n",
    "    \n",
    "    # Polynésie française\n",
    "    \"987\": \"Polynésie française\",\n",
    "    \n",
    "    # Saint-Pierre-et-Miquelon\n",
    "    \"975\": \"Saint-Pierre-et-Miquelon\",\n",
    "    \n",
    "    # Français de l'étranger\n",
    "    \"fr_etranger\": \"Français de l'étranger\"\n",
    "}\n",
    "df_1ertour[\"region\"] = df_1ertour[\"cd_departement\"].map(departement_to_region)\n",
    "df_1ertour"
   ]
  },
  {
   "cell_type": "markdown",
   "metadata": {},
   "source": [
    "#### Problème sur le comptage de voix (Soucis avec Subset)"
   ]
  },
  {
   "cell_type": "code",
   "execution_count": 8,
   "metadata": {},
   "outputs": [],
   "source": [
    "# df_filtered = df_1ertour.drop_duplicates(subset=['sensibilite_politique', 'region'])\n",
    "# result_filter=pd.DataFrame(df_filtered.groupby(['cd_departement', 'nom_complet'])[['nb_voix','sensibilite_politique',\t'region']].sum().reset_index())\n",
    "# result_filter"
   ]
  },
  {
   "cell_type": "markdown",
   "metadata": {},
   "source": [
    "#### Résultat et GroupBy"
   ]
  },
  {
   "cell_type": "markdown",
   "metadata": {},
   "source": [
    "#### Département"
   ]
  },
  {
   "cell_type": "code",
   "execution_count": 9,
   "metadata": {},
   "outputs": [
    {
     "data": {
      "text/html": [
       "<div>\n",
       "<style scoped>\n",
       "    .dataframe tbody tr th:only-of-type {\n",
       "        vertical-align: middle;\n",
       "    }\n",
       "\n",
       "    .dataframe tbody tr th {\n",
       "        vertical-align: top;\n",
       "    }\n",
       "\n",
       "    .dataframe thead th {\n",
       "        text-align: right;\n",
       "    }\n",
       "</style>\n",
       "<table border=\"1\" class=\"dataframe\">\n",
       "  <thead>\n",
       "    <tr style=\"text-align: right;\">\n",
       "      <th></th>\n",
       "      <th>cd_departement</th>\n",
       "      <th>nom_complet</th>\n",
       "      <th>nb_voix</th>\n",
       "      <th>sensibilite_politique</th>\n",
       "      <th>region</th>\n",
       "    </tr>\n",
       "  </thead>\n",
       "  <tbody>\n",
       "    <tr>\n",
       "      <th>0</th>\n",
       "      <td>01</td>\n",
       "      <td>Anne HIDALGO</td>\n",
       "      <td>5644</td>\n",
       "      <td>Gauche</td>\n",
       "      <td>Auvergne-Rhône-Alpes</td>\n",
       "    </tr>\n",
       "    <tr>\n",
       "      <th>1</th>\n",
       "      <td>01</td>\n",
       "      <td>Emmanuel MACRON</td>\n",
       "      <td>92206</td>\n",
       "      <td>Centre</td>\n",
       "      <td>Auvergne-Rhône-Alpes</td>\n",
       "    </tr>\n",
       "    <tr>\n",
       "      <th>2</th>\n",
       "      <td>01</td>\n",
       "      <td>Fabien ROUSSEL</td>\n",
       "      <td>5938</td>\n",
       "      <td>Gauche</td>\n",
       "      <td>Auvergne-Rhône-Alpes</td>\n",
       "    </tr>\n",
       "    <tr>\n",
       "      <th>3</th>\n",
       "      <td>01</td>\n",
       "      <td>Jean LASSALLE</td>\n",
       "      <td>10876</td>\n",
       "      <td>Centre</td>\n",
       "      <td>Auvergne-Rhône-Alpes</td>\n",
       "    </tr>\n",
       "    <tr>\n",
       "      <th>4</th>\n",
       "      <td>01</td>\n",
       "      <td>Jean-Luc MÉLENCHON</td>\n",
       "      <td>57832</td>\n",
       "      <td>Gauche</td>\n",
       "      <td>Auvergne-Rhône-Alpes</td>\n",
       "    </tr>\n",
       "    <tr>\n",
       "      <th>...</th>\n",
       "      <td>...</td>\n",
       "      <td>...</td>\n",
       "      <td>...</td>\n",
       "      <td>...</td>\n",
       "      <td>...</td>\n",
       "    </tr>\n",
       "    <tr>\n",
       "      <th>1615</th>\n",
       "      <td>fr_etranger</td>\n",
       "      <td>Yannick JADOT</td>\n",
       "      <td>40774</td>\n",
       "      <td>Gauche</td>\n",
       "      <td>Français de l'étranger</td>\n",
       "    </tr>\n",
       "    <tr>\n",
       "      <th>1616</th>\n",
       "      <td>fr_etranger</td>\n",
       "      <td>abstentions</td>\n",
       "      <td>931455</td>\n",
       "      <td>Non_comptabilise</td>\n",
       "      <td>Français de l'étranger</td>\n",
       "    </tr>\n",
       "    <tr>\n",
       "      <th>1617</th>\n",
       "      <td>fr_etranger</td>\n",
       "      <td>blancs</td>\n",
       "      <td>3193</td>\n",
       "      <td>Non_comptabilise</td>\n",
       "      <td>Français de l'étranger</td>\n",
       "    </tr>\n",
       "    <tr>\n",
       "      <th>1618</th>\n",
       "      <td>fr_etranger</td>\n",
       "      <td>nuls</td>\n",
       "      <td>2147</td>\n",
       "      <td>Non_comptabilise</td>\n",
       "      <td>Français de l'étranger</td>\n",
       "    </tr>\n",
       "    <tr>\n",
       "      <th>1619</th>\n",
       "      <td>fr_etranger</td>\n",
       "      <td>Éric ZEMMOUR</td>\n",
       "      <td>43252</td>\n",
       "      <td>Droite</td>\n",
       "      <td>Français de l'étranger</td>\n",
       "    </tr>\n",
       "  </tbody>\n",
       "</table>\n",
       "<p>1620 rows × 5 columns</p>\n",
       "</div>"
      ],
      "text/plain": [
       "     cd_departement         nom_complet  nb_voix sensibilite_politique  \\\n",
       "0                01        Anne HIDALGO     5644                Gauche   \n",
       "1                01     Emmanuel MACRON    92206                Centre   \n",
       "2                01      Fabien ROUSSEL     5938                Gauche   \n",
       "3                01       Jean LASSALLE    10876                Centre   \n",
       "4                01  Jean-Luc MÉLENCHON    57832                Gauche   \n",
       "...             ...                 ...      ...                   ...   \n",
       "1615    fr_etranger       Yannick JADOT    40774                Gauche   \n",
       "1616    fr_etranger         abstentions   931455      Non_comptabilise   \n",
       "1617    fr_etranger              blancs     3193      Non_comptabilise   \n",
       "1618    fr_etranger                nuls     2147      Non_comptabilise   \n",
       "1619    fr_etranger        Éric ZEMMOUR    43252                Droite   \n",
       "\n",
       "                      region  \n",
       "0       Auvergne-Rhône-Alpes  \n",
       "1       Auvergne-Rhône-Alpes  \n",
       "2       Auvergne-Rhône-Alpes  \n",
       "3       Auvergne-Rhône-Alpes  \n",
       "4       Auvergne-Rhône-Alpes  \n",
       "...                      ...  \n",
       "1615  Français de l'étranger  \n",
       "1616  Français de l'étranger  \n",
       "1617  Français de l'étranger  \n",
       "1618  Français de l'étranger  \n",
       "1619  Français de l'étranger  \n",
       "\n",
       "[1620 rows x 5 columns]"
      ]
     },
     "execution_count": 9,
     "metadata": {},
     "output_type": "execute_result"
    }
   ],
   "source": [
    "result = pd.DataFrame(df_1ertour.groupby(['cd_departement', 'nom_complet'], as_index=False).agg({'nb_voix': 'sum','sensibilite_politique': 'first','region': 'first' }))\n",
    "result"
   ]
  },
  {
   "cell_type": "code",
   "execution_count": 10,
   "metadata": {},
   "outputs": [
    {
     "data": {
      "application/vnd.plotly.v1+json": {
       "config": {
        "plotlyServerURL": "https://plot.ly"
       },
       "data": [
        {
         "alignmentgroup": "True",
         "hovertemplate": "Candidat=Anne HIDALGO<br>Département=%{x}<br>Nombre de voix=%{y}<extra></extra>",
         "legendgroup": "Anne HIDALGO",
         "marker": {
          "color": "#636efa",
          "pattern": {
           "shape": ""
          }
         },
         "name": "Anne HIDALGO",
         "offsetgroup": "Anne HIDALGO",
         "orientation": "v",
         "showlegend": true,
         "textposition": "auto",
         "type": "bar",
         "x": [
          "01",
          "02",
          "03",
          "04",
          "05",
          "06",
          "07",
          "08",
          "09",
          "10",
          "11",
          "12",
          "13",
          "14",
          "15",
          "16",
          "17",
          "18",
          "19",
          "21",
          "22",
          "23",
          "24",
          "25",
          "26",
          "27",
          "28",
          "29",
          "2A",
          "2B",
          "30",
          "31",
          "32",
          "33",
          "34",
          "35",
          "36",
          "37",
          "38",
          "39",
          "40",
          "41",
          "42",
          "43",
          "44",
          "45",
          "46",
          "47",
          "48",
          "49",
          "50",
          "51",
          "52",
          "53",
          "54",
          "55",
          "56",
          "57",
          "58",
          "59",
          "60",
          "61",
          "62",
          "63",
          "64",
          "65",
          "66",
          "67",
          "68",
          "69",
          "70",
          "71",
          "72",
          "73",
          "74",
          "75",
          "76",
          "77",
          "78",
          "79",
          "80",
          "81",
          "82",
          "83",
          "84",
          "85",
          "86",
          "87",
          "88",
          "89",
          "90",
          "91",
          "92",
          "93",
          "94",
          "95",
          "971",
          "972",
          "973",
          "974",
          "975",
          "976",
          "977",
          "978",
          "986",
          "987",
          "988",
          "fr_etranger"
         ],
         "xaxis": "x",
         "y": [
          5644,
          2983,
          3280,
          1396,
          1459,
          5414,
          4189,
          1741,
          3208,
          1720,
          6166,
          4470,
          11760,
          6848,
          1810,
          4003,
          6857,
          2585,
          3605,
          5126,
          8279,
          1641,
          5362,
          4902,
          5311,
          4027,
          3076,
          13077,
          624,
          959,
          6585,
          19658,
          3861,
          19598,
          12150,
          13973,
          2464,
          6216,
          12736,
          2635,
          9071,
          3165,
          6970,
          2491,
          18369,
          5656,
          2766,
          3357,
          1045,
          8801,
          5853,
          3542,
          1305,
          3468,
          6362,
          1483,
          8267,
          7534,
          2160,
          18215,
          4251,
          2368,
          11619,
          8216,
          9276,
          3315,
          5013,
          8348,
          4881,
          15895,
          2345,
          6037,
          5409,
          4418,
          6606,
          22901,
          11139,
          7853,
          9046,
          4340,
          3746,
          5818,
          3069,
          5703,
          3769,
          7244,
          4542,
          5654,
          3114,
          2286,
          1052,
          7944,
          10518,
          5890,
          8276,
          6094,
          2266,
          3935,
          535,
          5549,
          75,
          318,
          27,
          65,
          118,
          865,
          963,
          12489
         ],
         "yaxis": "y"
        },
        {
         "alignmentgroup": "True",
         "hovertemplate": "Candidat=Emmanuel MACRON<br>Département=%{x}<br>Nombre de voix=%{y}<extra></extra>",
         "legendgroup": "Emmanuel MACRON",
         "marker": {
          "color": "#EF553B",
          "pattern": {
           "shape": ""
          }
         },
         "name": "Emmanuel MACRON",
         "offsetgroup": "Emmanuel MACRON",
         "orientation": "v",
         "showlegend": true,
         "textposition": "auto",
         "type": "bar",
         "x": [
          "01",
          "02",
          "03",
          "04",
          "05",
          "06",
          "07",
          "08",
          "09",
          "10",
          "11",
          "12",
          "13",
          "14",
          "15",
          "16",
          "17",
          "18",
          "19",
          "21",
          "22",
          "23",
          "24",
          "25",
          "26",
          "27",
          "28",
          "29",
          "2A",
          "2B",
          "30",
          "31",
          "32",
          "33",
          "34",
          "35",
          "36",
          "37",
          "38",
          "39",
          "40",
          "41",
          "42",
          "43",
          "44",
          "45",
          "46",
          "47",
          "48",
          "49",
          "50",
          "51",
          "52",
          "53",
          "54",
          "55",
          "56",
          "57",
          "58",
          "59",
          "60",
          "61",
          "62",
          "63",
          "64",
          "65",
          "66",
          "67",
          "68",
          "69",
          "70",
          "71",
          "72",
          "73",
          "74",
          "75",
          "76",
          "77",
          "78",
          "79",
          "80",
          "81",
          "82",
          "83",
          "84",
          "85",
          "86",
          "87",
          "88",
          "89",
          "90",
          "91",
          "92",
          "93",
          "94",
          "95",
          "971",
          "972",
          "973",
          "974",
          "975",
          "976",
          "977",
          "978",
          "986",
          "987",
          "988",
          "fr_etranger"
         ],
         "xaxis": "x",
         "y": [
          92206,
          58721,
          49706,
          20800,
          20507,
          139707,
          45353,
          31656,
          18071,
          38321,
          43104,
          47430,
          229038,
          120366,
          25038,
          53126,
          113753,
          43497,
          33125,
          80734,
          113656,
          15542,
          58532,
          76338,
          72228,
          83058,
          59869,
          174894,
          12932,
          13773,
          88278,
          196712,
          28970,
          256179,
          142306,
          205882,
          31498,
          101503,
          180533,
          36139,
          69459,
          50480,
          104003,
          32417,
          256609,
          97004,
          27311,
          42568,
          10739,
          157063,
          92642,
          78472,
          21886,
          60755,
          95252,
          24539,
          152740,
          136366,
          28686,
          336138,
          100043,
          46005,
          194610,
          100134,
          111610,
          33692,
          55169,
          177069,
          107248,
          278243,
          30204,
          82633,
          83876,
          64689,
          130422,
          372820,
          179698,
          165208,
          246062,
          68446,
          83107,
          53925,
          31737,
          142335,
          66885,
          149587,
          67831,
          54951,
          51432,
          42617,
          16768,
          164503,
          287494,
          110118,
          171409,
          138166,
          18137,
          20043,
          5101,
          62542,
          534,
          5936,
          629,
          1441,
          2115,
          24106,
          28561,
          224957
         ],
         "yaxis": "y"
        },
        {
         "alignmentgroup": "True",
         "hovertemplate": "Candidat=Fabien ROUSSEL<br>Département=%{x}<br>Nombre de voix=%{y}<extra></extra>",
         "legendgroup": "Fabien ROUSSEL",
         "marker": {
          "color": "#00cc96",
          "pattern": {
           "shape": ""
          }
         },
         "name": "Fabien ROUSSEL",
         "offsetgroup": "Fabien ROUSSEL",
         "orientation": "v",
         "showlegend": true,
         "textposition": "auto",
         "type": "bar",
         "x": [
          "01",
          "02",
          "03",
          "04",
          "05",
          "06",
          "07",
          "08",
          "09",
          "10",
          "11",
          "12",
          "13",
          "14",
          "15",
          "16",
          "17",
          "18",
          "19",
          "21",
          "22",
          "23",
          "24",
          "25",
          "26",
          "27",
          "28",
          "29",
          "2A",
          "2B",
          "30",
          "31",
          "32",
          "33",
          "34",
          "35",
          "36",
          "37",
          "38",
          "39",
          "40",
          "41",
          "42",
          "43",
          "44",
          "45",
          "46",
          "47",
          "48",
          "49",
          "50",
          "51",
          "52",
          "53",
          "54",
          "55",
          "56",
          "57",
          "58",
          "59",
          "60",
          "61",
          "62",
          "63",
          "64",
          "65",
          "66",
          "67",
          "68",
          "69",
          "70",
          "71",
          "72",
          "73",
          "74",
          "75",
          "76",
          "77",
          "78",
          "79",
          "80",
          "81",
          "82",
          "83",
          "84",
          "85",
          "86",
          "87",
          "88",
          "89",
          "90",
          "91",
          "92",
          "93",
          "94",
          "95",
          "971",
          "972",
          "973",
          "974",
          "975",
          "976",
          "977",
          "978",
          "986",
          "987",
          "988",
          "fr_etranger"
         ],
         "xaxis": "x",
         "y": [
          5938,
          5968,
          8119,
          2721,
          1925,
          8858,
          5710,
          3009,
          2701,
          3094,
          5622,
          4515,
          24295,
          8777,
          2496,
          5374,
          10002,
          5749,
          6292,
          5721,
          11628,
          2430,
          8855,
          5001,
          6752,
          7056,
          4267,
          15340,
          1850,
          2687,
          12123,
          16307,
          3128,
          21522,
          14165,
          12696,
          3702,
          7835,
          14694,
          3166,
          8176,
          4507,
          9017,
          3493,
          18322,
          7530,
          3559,
          4970,
          1343,
          8362,
          7368,
          5307,
          1833,
          3313,
          7961,
          1957,
          11529,
          8750,
          4281,
          45902,
          9054,
          3261,
          26146,
          12713,
          10170,
          4539,
          6509,
          7015,
          4649,
          15938,
          2836,
          7419,
          6908,
          5536,
          5997,
          17267,
          19896,
          12843,
          11721,
          4538,
          7706,
          5313,
          3628,
          10672,
          6247,
          8153,
          6412,
          8030,
          3847,
          4023,
          1485,
          13480,
          13170,
          11642,
          14954,
          10060,
          668,
          747,
          246,
          3074,
          19,
          206,
          14,
          34,
          34,
          368,
          399,
          3266
         ],
         "yaxis": "y"
        },
        {
         "alignmentgroup": "True",
         "hovertemplate": "Candidat=Jean LASSALLE<br>Département=%{x}<br>Nombre de voix=%{y}<extra></extra>",
         "legendgroup": "Jean LASSALLE",
         "marker": {
          "color": "#ab63fa",
          "pattern": {
           "shape": ""
          }
         },
         "name": "Jean LASSALLE",
         "offsetgroup": "Jean LASSALLE",
         "orientation": "v",
         "showlegend": true,
         "textposition": "auto",
         "type": "bar",
         "x": [
          "01",
          "02",
          "03",
          "04",
          "05",
          "06",
          "07",
          "08",
          "09",
          "10",
          "11",
          "12",
          "13",
          "14",
          "15",
          "16",
          "17",
          "18",
          "19",
          "21",
          "22",
          "23",
          "24",
          "25",
          "26",
          "27",
          "28",
          "29",
          "2A",
          "2B",
          "30",
          "31",
          "32",
          "33",
          "34",
          "35",
          "36",
          "37",
          "38",
          "39",
          "40",
          "41",
          "42",
          "43",
          "44",
          "45",
          "46",
          "47",
          "48",
          "49",
          "50",
          "51",
          "52",
          "53",
          "54",
          "55",
          "56",
          "57",
          "58",
          "59",
          "60",
          "61",
          "62",
          "63",
          "64",
          "65",
          "66",
          "67",
          "68",
          "69",
          "70",
          "71",
          "72",
          "73",
          "74",
          "75",
          "76",
          "77",
          "78",
          "79",
          "80",
          "81",
          "82",
          "83",
          "84",
          "85",
          "86",
          "87",
          "88",
          "89",
          "90",
          "91",
          "92",
          "93",
          "94",
          "95",
          "971",
          "972",
          "973",
          "974",
          "975",
          "976",
          "977",
          "978",
          "986",
          "987",
          "988",
          "fr_etranger"
         ],
         "xaxis": "x",
         "y": [
          10876,
          6468,
          7782,
          4309,
          3871,
          12767,
          9033,
          4084,
          7532,
          3787,
          12382,
          14825,
          24256,
          9816,
          6848,
          8482,
          14335,
          5495,
          10177,
          8183,
          11949,
          4275,
          15850,
          8688,
          9945,
          7768,
          5694,
          18320,
          6729,
          8601,
          15162,
          35479,
          11720,
          37725,
          22068,
          13985,
          4984,
          8520,
          17025,
          6218,
          24308,
          5483,
          11928,
          7817,
          18298,
          8483,
          8032,
          13600,
          4722,
          11036,
          9421,
          6921,
          3327,
          4673,
          8739,
          3500,
          14399,
          14163,
          4106,
          22459,
          9179,
          4895,
          17010,
          16136,
          48246,
          14761,
          11690,
          14652,
          11063,
          17572,
          4820,
          10186,
          7546,
          8081,
          13371,
          12139,
          13588,
          13797,
          13687,
          7014,
          7371,
          17010,
          9573,
          17784,
          9843,
          13039,
          7741,
          9973,
          7203,
          5356,
          2000,
          11610,
          11260,
          6805,
          8944,
          9101,
          1033,
          1162,
          516,
          4844,
          108,
          359,
          93,
          115,
          78,
          610,
          1031,
          5964
         ],
         "yaxis": "y"
        },
        {
         "alignmentgroup": "True",
         "hovertemplate": "Candidat=Jean-Luc MÉLENCHON<br>Département=%{x}<br>Nombre de voix=%{y}<extra></extra>",
         "legendgroup": "Jean-Luc MÉLENCHON",
         "marker": {
          "color": "#FFA15A",
          "pattern": {
           "shape": ""
          }
         },
         "name": "Jean-Luc MÉLENCHON",
         "offsetgroup": "Jean-Luc MÉLENCHON",
         "orientation": "v",
         "showlegend": true,
         "textposition": "auto",
         "type": "bar",
         "x": [
          "01",
          "02",
          "03",
          "04",
          "05",
          "06",
          "07",
          "08",
          "09",
          "10",
          "11",
          "12",
          "13",
          "14",
          "15",
          "16",
          "17",
          "18",
          "19",
          "21",
          "22",
          "23",
          "24",
          "25",
          "26",
          "27",
          "28",
          "29",
          "2A",
          "2B",
          "30",
          "31",
          "32",
          "33",
          "34",
          "35",
          "36",
          "37",
          "38",
          "39",
          "40",
          "41",
          "42",
          "43",
          "44",
          "45",
          "46",
          "47",
          "48",
          "49",
          "50",
          "51",
          "52",
          "53",
          "54",
          "55",
          "56",
          "57",
          "58",
          "59",
          "60",
          "61",
          "62",
          "63",
          "64",
          "65",
          "66",
          "67",
          "68",
          "69",
          "70",
          "71",
          "72",
          "73",
          "74",
          "75",
          "76",
          "77",
          "78",
          "79",
          "80",
          "81",
          "82",
          "83",
          "84",
          "85",
          "86",
          "87",
          "88",
          "89",
          "90",
          "91",
          "92",
          "93",
          "94",
          "95",
          "971",
          "972",
          "973",
          "974",
          "975",
          "976",
          "977",
          "978",
          "986",
          "987",
          "988",
          "fr_etranger"
         ],
         "xaxis": "x",
         "y": [
          57832,
          41172,
          31013,
          21856,
          19718,
          92345,
          42837,
          22281,
          23908,
          22483,
          42039,
          32734,
          237971,
          73950,
          12944,
          37305,
          71633,
          27901,
          27731,
          53875,
          74226,
          13679,
          50054,
          55587,
          65258,
          55571,
          40529,
          116591,
          9330,
          10368,
          88827,
          188867,
          21353,
          194775,
          154819,
          132510,
          20954,
          68012,
          153474,
          28882,
          44548,
          30377,
          78169,
          24332,
          187977,
          63486,
          25932,
          34044,
          9153,
          80616,
          46940,
          42858,
          13228,
          25608,
          73892,
          13559,
          84200,
          100159,
          19930,
          279785,
          79446,
          22993,
          124741,
          74534,
          76030,
          26449,
          51556,
          105055,
          66238,
          229036,
          21089,
          52336,
          54244,
          49858,
          78062,
          317372,
          136136,
          170969,
          168585,
          39120,
          52343,
          48430,
          27881,
          89272,
          63049,
          60524,
          49162,
          43137,
          32655,
          31601,
          14601,
          167310,
          199640,
          266632,
          192427,
          175666,
          75862,
          65292,
          18143,
          139604,
          1105,
          8398,
          348,
          2006,
          501,
          7990,
          9711,
          109394
         ],
         "yaxis": "y"
        },
        {
         "alignmentgroup": "True",
         "hovertemplate": "Candidat=Marine LE PEN<br>Département=%{x}<br>Nombre de voix=%{y}<extra></extra>",
         "legendgroup": "Marine LE PEN",
         "marker": {
          "color": "#19d3f3",
          "pattern": {
           "shape": ""
          }
         },
         "name": "Marine LE PEN",
         "offsetgroup": "Marine LE PEN",
         "orientation": "v",
         "showlegend": true,
         "textposition": "auto",
         "type": "bar",
         "x": [
          "01",
          "02",
          "03",
          "04",
          "05",
          "06",
          "07",
          "08",
          "09",
          "10",
          "11",
          "12",
          "13",
          "14",
          "15",
          "16",
          "17",
          "18",
          "19",
          "21",
          "22",
          "23",
          "24",
          "25",
          "26",
          "27",
          "28",
          "29",
          "2A",
          "2B",
          "30",
          "31",
          "32",
          "33",
          "34",
          "35",
          "36",
          "37",
          "38",
          "39",
          "40",
          "41",
          "42",
          "43",
          "44",
          "45",
          "46",
          "47",
          "48",
          "49",
          "50",
          "51",
          "52",
          "53",
          "54",
          "55",
          "56",
          "57",
          "58",
          "59",
          "60",
          "61",
          "62",
          "63",
          "64",
          "65",
          "66",
          "67",
          "68",
          "69",
          "70",
          "71",
          "72",
          "73",
          "74",
          "75",
          "76",
          "77",
          "78",
          "79",
          "80",
          "81",
          "82",
          "83",
          "84",
          "85",
          "86",
          "87",
          "88",
          "89",
          "90",
          "91",
          "92",
          "93",
          "94",
          "95",
          "971",
          "972",
          "973",
          "974",
          "975",
          "976",
          "977",
          "978",
          "986",
          "987",
          "988",
          "fr_etranger"
         ],
         "xaxis": "x",
         "y": [
          86755,
          104342,
          50315,
          26010,
          19696,
          148919,
          49594,
          48242,
          21958,
          49316,
          64027,
          34357,
          264753,
          91774,
          21570,
          50432,
          99790,
          44772,
          31658,
          69110,
          79850,
          16772,
          63327,
          66703,
          70574,
          102952,
          61960,
          100890,
          20139,
          21998,
          121480,
          133254,
          26015,
          191542,
          165734,
          101797,
          34516,
          70553,
          154799,
          38179,
          58646,
          50212,
          97764,
          38629,
          135702,
          85832,
          21422,
          50290,
          10497,
          89433,
          69770,
          83756,
          34331,
          37376,
          97243,
          34588,
          102856,
          159254,
          32838,
          373127,
          132873,
          41804,
          305816,
          78182,
          69768,
          29938,
          87930,
          145883,
          106937,
          150463,
          46618,
          81970,
          82234,
          56733,
          87744,
          58429,
          177806,
          155738,
          101398,
          47903,
          98024,
          56543,
          42183,
          183287,
          89413,
          97280,
          54214,
          45357,
          65646,
          55164,
          19061,
          105862,
          64812,
          64543,
          69599,
          91081,
          24204,
          16495,
          6334,
          85770,
          459,
          14958,
          592,
          853,
          579,
          11705,
          13273,
          26380
         ],
         "yaxis": "y"
        },
        {
         "alignmentgroup": "True",
         "hovertemplate": "Candidat=Nathalie ARTHAUD<br>Département=%{x}<br>Nombre de voix=%{y}<extra></extra>",
         "legendgroup": "Nathalie ARTHAUD",
         "marker": {
          "color": "#FF6692",
          "pattern": {
           "shape": ""
          }
         },
         "name": "Nathalie ARTHAUD",
         "offsetgroup": "Nathalie ARTHAUD",
         "orientation": "v",
         "showlegend": true,
         "textposition": "auto",
         "type": "bar",
         "x": [
          "01",
          "02",
          "03",
          "04",
          "05",
          "06",
          "07",
          "08",
          "09",
          "10",
          "11",
          "12",
          "13",
          "14",
          "15",
          "16",
          "17",
          "18",
          "19",
          "21",
          "22",
          "23",
          "24",
          "25",
          "26",
          "27",
          "28",
          "29",
          "2A",
          "2B",
          "30",
          "31",
          "32",
          "33",
          "34",
          "35",
          "36",
          "37",
          "38",
          "39",
          "40",
          "41",
          "42",
          "43",
          "44",
          "45",
          "46",
          "47",
          "48",
          "49",
          "50",
          "51",
          "52",
          "53",
          "54",
          "55",
          "56",
          "57",
          "58",
          "59",
          "60",
          "61",
          "62",
          "63",
          "64",
          "65",
          "66",
          "67",
          "68",
          "69",
          "70",
          "71",
          "72",
          "73",
          "74",
          "75",
          "76",
          "77",
          "78",
          "79",
          "80",
          "81",
          "82",
          "83",
          "84",
          "85",
          "86",
          "87",
          "88",
          "89",
          "90",
          "91",
          "92",
          "93",
          "94",
          "95",
          "971",
          "972",
          "973",
          "974",
          "975",
          "976",
          "977",
          "978",
          "986",
          "987",
          "988",
          "fr_etranger"
         ],
         "xaxis": "x",
         "y": [
          1658,
          2038,
          1359,
          505,
          428,
          1627,
          1219,
          1081,
          417,
          1005,
          1026,
          894,
          3578,
          2757,
          555,
          1319,
          2330,
          1304,
          885,
          1775,
          2603,
          490,
          1294,
          2069,
          2041,
          2197,
          1419,
          3627,
          197,
          257,
          1768,
          3006,
          529,
          3679,
          2580,
          3783,
          1085,
          2243,
          3479,
          1053,
          1115,
          1246,
          2390,
          1020,
          4712,
          1959,
          618,
          889,
          235,
          3071,
          2249,
          1778,
          696,
          1273,
          2373,
          702,
          2952,
          3499,
          833,
          7673,
          2859,
          1203,
          5887,
          2556,
          1677,
          636,
          1312,
          3687,
          2265,
          3774,
          1171,
          1979,
          2150,
          1205,
          1880,
          2891,
          4433,
          3440,
          2774,
          1644,
          2486,
          1175,
          679,
          2098,
          1221,
          2647,
          1715,
          1457,
          1569,
          1203,
          560,
          2831,
          2306,
          2756,
          2504,
          2392,
          1084,
          1447,
          297,
          3538,
          22,
          430,
          10,
          31,
          98,
          808,
          565,
          1300
         ],
         "yaxis": "y"
        },
        {
         "alignmentgroup": "True",
         "hovertemplate": "Candidat=Nicolas DUPONT-AIGNAN<br>Département=%{x}<br>Nombre de voix=%{y}<extra></extra>",
         "legendgroup": "Nicolas DUPONT-AIGNAN",
         "marker": {
          "color": "#B6E880",
          "pattern": {
           "shape": ""
          }
         },
         "name": "Nicolas DUPONT-AIGNAN",
         "offsetgroup": "Nicolas DUPONT-AIGNAN",
         "orientation": "v",
         "showlegend": true,
         "textposition": "auto",
         "type": "bar",
         "x": [
          "01",
          "02",
          "03",
          "04",
          "05",
          "06",
          "07",
          "08",
          "09",
          "10",
          "11",
          "12",
          "13",
          "14",
          "15",
          "16",
          "17",
          "18",
          "19",
          "21",
          "22",
          "23",
          "24",
          "25",
          "26",
          "27",
          "28",
          "29",
          "2A",
          "2B",
          "30",
          "31",
          "32",
          "33",
          "34",
          "35",
          "36",
          "37",
          "38",
          "39",
          "40",
          "41",
          "42",
          "43",
          "44",
          "45",
          "46",
          "47",
          "48",
          "49",
          "50",
          "51",
          "52",
          "53",
          "54",
          "55",
          "56",
          "57",
          "58",
          "59",
          "60",
          "61",
          "62",
          "63",
          "64",
          "65",
          "66",
          "67",
          "68",
          "69",
          "70",
          "71",
          "72",
          "73",
          "74",
          "75",
          "76",
          "77",
          "78",
          "79",
          "80",
          "81",
          "82",
          "83",
          "84",
          "85",
          "86",
          "87",
          "88",
          "89",
          "90",
          "91",
          "92",
          "93",
          "94",
          "95",
          "971",
          "972",
          "973",
          "974",
          "975",
          "976",
          "977",
          "978",
          "986",
          "987",
          "988",
          "fr_etranger"
         ],
         "xaxis": "x",
         "y": [
          8998,
          5790,
          4216,
          2504,
          2142,
          13307,
          4927,
          2957,
          1621,
          3966,
          4206,
          3477,
          20051,
          7920,
          1547,
          4345,
          9289,
          3770,
          2618,
          6478,
          6404,
          1556,
          5416,
          7775,
          7758,
          7563,
          5731,
          8566,
          1215,
          1374,
          8137,
          12443,
          2418,
          15693,
          11475,
          10560,
          2886,
          7271,
          14327,
          4143,
          4914,
          4427,
          9029,
          3366,
          14779,
          7674,
          2400,
          3912,
          913,
          9420,
          6886,
          6159,
          2584,
          3858,
          7271,
          2422,
          9586,
          12651,
          2495,
          20617,
          9393,
          3826,
          13970,
          6922,
          6721,
          2409,
          5209,
          17009,
          13745,
          16487,
          3640,
          7745,
          6494,
          6694,
          14175,
          9591,
          12365,
          15042,
          13097,
          4531,
          5616,
          5123,
          3412,
          15286,
          6896,
          9664,
          5095,
          3555,
          6152,
          4594,
          1821,
          15203,
          9743,
          6300,
          9359,
          8996,
          2114,
          2989,
          717,
          8338,
          82,
          530,
          169,
          170,
          244,
          1969,
          2697,
          7074
         ],
         "yaxis": "y"
        },
        {
         "alignmentgroup": "True",
         "hovertemplate": "Candidat=Philippe POUTOU<br>Département=%{x}<br>Nombre de voix=%{y}<extra></extra>",
         "legendgroup": "Philippe POUTOU",
         "marker": {
          "color": "#FF97FF",
          "pattern": {
           "shape": ""
          }
         },
         "name": "Philippe POUTOU",
         "offsetgroup": "Philippe POUTOU",
         "orientation": "v",
         "showlegend": true,
         "textposition": "auto",
         "type": "bar",
         "x": [
          "01",
          "02",
          "03",
          "04",
          "05",
          "06",
          "07",
          "08",
          "09",
          "10",
          "11",
          "12",
          "13",
          "14",
          "15",
          "16",
          "17",
          "18",
          "19",
          "21",
          "22",
          "23",
          "24",
          "25",
          "26",
          "27",
          "28",
          "29",
          "2A",
          "2B",
          "30",
          "31",
          "32",
          "33",
          "34",
          "35",
          "36",
          "37",
          "38",
          "39",
          "40",
          "41",
          "42",
          "43",
          "44",
          "45",
          "46",
          "47",
          "48",
          "49",
          "50",
          "51",
          "52",
          "53",
          "54",
          "55",
          "56",
          "57",
          "58",
          "59",
          "60",
          "61",
          "62",
          "63",
          "64",
          "65",
          "66",
          "67",
          "68",
          "69",
          "70",
          "71",
          "72",
          "73",
          "74",
          "75",
          "76",
          "77",
          "78",
          "79",
          "80",
          "81",
          "82",
          "83",
          "84",
          "85",
          "86",
          "87",
          "88",
          "89",
          "90",
          "91",
          "92",
          "93",
          "94",
          "95",
          "971",
          "972",
          "973",
          "974",
          "975",
          "976",
          "977",
          "978",
          "986",
          "987",
          "988",
          "fr_etranger"
         ],
         "xaxis": "x",
         "y": [
          2172,
          2118,
          1503,
          865,
          801,
          2989,
          1817,
          1112,
          723,
          1062,
          1748,
          1354,
          5963,
          3764,
          650,
          1763,
          3403,
          1463,
          1179,
          2286,
          3895,
          665,
          2223,
          2345,
          2109,
          2710,
          1766,
          6266,
          608,
          762,
          2706,
          4888,
          793,
          8734,
          4393,
          5376,
          1155,
          2882,
          4826,
          1343,
          1975,
          1527,
          2767,
          1205,
          7280,
          2433,
          976,
          1437,
          426,
          3663,
          2720,
          1894,
          747,
          1372,
          3214,
          883,
          4376,
          4343,
          1010,
          8265,
          3048,
          1334,
          5488,
          3189,
          4982,
          1003,
          1995,
          4158,
          2842,
          5267,
          1295,
          2369,
          2505,
          1849,
          3232,
          5732,
          5477,
          4600,
          3963,
          2134,
          2206,
          1829,
          1057,
          3578,
          2023,
          3621,
          2315,
          1787,
          1986,
          1487,
          603,
          4306,
          3704,
          3663,
          3730,
          3352,
          713,
          977,
          462,
          2705,
          50,
          328,
          27,
          36,
          48,
          451,
          560,
          3145
         ],
         "yaxis": "y"
        },
        {
         "alignmentgroup": "True",
         "hovertemplate": "Candidat=Valérie PÉCRESSE<br>Département=%{x}<br>Nombre de voix=%{y}<extra></extra>",
         "legendgroup": "Valérie PÉCRESSE",
         "marker": {
          "color": "#FECB52",
          "pattern": {
           "shape": ""
          }
         },
         "name": "Valérie PÉCRESSE",
         "offsetgroup": "Valérie PÉCRESSE",
         "orientation": "v",
         "showlegend": true,
         "textposition": "auto",
         "type": "bar",
         "x": [
          "01",
          "02",
          "03",
          "04",
          "05",
          "06",
          "07",
          "08",
          "09",
          "10",
          "11",
          "12",
          "13",
          "14",
          "15",
          "16",
          "17",
          "18",
          "19",
          "21",
          "22",
          "23",
          "24",
          "25",
          "26",
          "27",
          "28",
          "29",
          "2A",
          "2B",
          "30",
          "31",
          "32",
          "33",
          "34",
          "35",
          "36",
          "37",
          "38",
          "39",
          "40",
          "41",
          "42",
          "43",
          "44",
          "45",
          "46",
          "47",
          "48",
          "49",
          "50",
          "51",
          "52",
          "53",
          "54",
          "55",
          "56",
          "57",
          "58",
          "59",
          "60",
          "61",
          "62",
          "63",
          "64",
          "65",
          "66",
          "67",
          "68",
          "69",
          "70",
          "71",
          "72",
          "73",
          "74",
          "75",
          "76",
          "77",
          "78",
          "79",
          "80",
          "81",
          "82",
          "83",
          "84",
          "85",
          "86",
          "87",
          "88",
          "89",
          "90",
          "91",
          "92",
          "93",
          "94",
          "95",
          "971",
          "972",
          "973",
          "974",
          "975",
          "976",
          "977",
          "978",
          "986",
          "987",
          "988",
          "fr_etranger"
         ],
         "xaxis": "x",
         "y": [
          17572,
          10920,
          10319,
          3834,
          4511,
          31260,
          9553,
          5556,
          2724,
          8923,
          7350,
          9988,
          36229,
          18383,
          6987,
          8343,
          19316,
          8147,
          12278,
          14344,
          17235,
          4391,
          11280,
          15107,
          13204,
          13552,
          13003,
          26541,
          3772,
          5555,
          15460,
          27153,
          5126,
          37575,
          23230,
          26194,
          6589,
          16279,
          28575,
          7424,
          10393,
          9586,
          18539,
          9560,
          37541,
          18086,
          5648,
          7703,
          3039,
          21538,
          14746,
          14357,
          4841,
          9236,
          13387,
          4403,
          22838,
          19300,
          5172,
          42470,
          17450,
          8838,
          25307,
          17352,
          17166,
          4560,
          8815,
          24812,
          15994,
          50263,
          6754,
          15210,
          15937,
          13608,
          22349,
          69564,
          24281,
          36828,
          61296,
          9257,
          11380,
          10014,
          5994,
          28342,
          11918,
          22534,
          9959,
          9544,
          9344,
          9322,
          3322,
          33046,
          62231,
          17481,
          32522,
          26403,
          3979,
          4731,
          997,
          9738,
          51,
          2810,
          150,
          204,
          1354,
          4725,
          4144,
          20956
         ],
         "yaxis": "y"
        },
        {
         "alignmentgroup": "True",
         "hovertemplate": "Candidat=Yannick JADOT<br>Département=%{x}<br>Nombre de voix=%{y}<extra></extra>",
         "legendgroup": "Yannick JADOT",
         "marker": {
          "color": "#636efa",
          "pattern": {
           "shape": ""
          }
         },
         "name": "Yannick JADOT",
         "offsetgroup": "Yannick JADOT",
         "orientation": "v",
         "showlegend": true,
         "textposition": "auto",
         "type": "bar",
         "x": [
          "01",
          "02",
          "03",
          "04",
          "05",
          "06",
          "07",
          "08",
          "09",
          "10",
          "11",
          "12",
          "13",
          "14",
          "15",
          "16",
          "17",
          "18",
          "19",
          "21",
          "22",
          "23",
          "24",
          "25",
          "26",
          "27",
          "28",
          "29",
          "2A",
          "2B",
          "30",
          "31",
          "32",
          "33",
          "34",
          "35",
          "36",
          "37",
          "38",
          "39",
          "40",
          "41",
          "42",
          "43",
          "44",
          "45",
          "46",
          "47",
          "48",
          "49",
          "50",
          "51",
          "52",
          "53",
          "54",
          "55",
          "56",
          "57",
          "58",
          "59",
          "60",
          "61",
          "62",
          "63",
          "64",
          "65",
          "66",
          "67",
          "68",
          "69",
          "70",
          "71",
          "72",
          "73",
          "74",
          "75",
          "76",
          "77",
          "78",
          "79",
          "80",
          "81",
          "82",
          "83",
          "84",
          "85",
          "86",
          "87",
          "88",
          "89",
          "90",
          "91",
          "92",
          "93",
          "94",
          "95",
          "971",
          "972",
          "973",
          "974",
          "975",
          "976",
          "977",
          "978",
          "986",
          "987",
          "988",
          "fr_etranger"
         ],
         "xaxis": "x",
         "y": [
          15843,
          7074,
          5982,
          3957,
          5013,
          23374,
          8544,
          3446,
          3020,
          4619,
          6322,
          6746,
          42109,
          19621,
          2751,
          7557,
          19012,
          5028,
          5040,
          13462,
          19349,
          1906,
          8563,
          13096,
          14234,
          11477,
          7904,
          33200,
          2266,
          2520,
          14974,
          42599,
          4090,
          46677,
          28057,
          42613,
          3726,
          16245,
          40378,
          6388,
          8628,
          7097,
          16656,
          5796,
          60072,
          14401,
          4603,
          5686,
          1736,
          26635,
          11873,
          9561,
          2580,
          7934,
          14588,
          3130,
          27036,
          18931,
          3552,
          46962,
          13785,
          5513,
          19295,
          17029,
          19967,
          4872,
          8588,
          28573,
          18963,
          51907,
          4292,
          10730,
          13541,
          15642,
          29948,
          80268,
          24785,
          26718,
          40470,
          10074,
          8048,
          8680,
          4835,
          21044,
          12128,
          19753,
          10727,
          7877,
          7562,
          5917,
          2798,
          29562,
          47103,
          19352,
          31904,
          20710,
          1927,
          1978,
          940,
          7994,
          116,
          295,
          114,
          133,
          72,
          2150,
          2161,
          40774
         ],
         "yaxis": "y"
        },
        {
         "alignmentgroup": "True",
         "hovertemplate": "Candidat=abstentions<br>Département=%{x}<br>Nombre de voix=%{y}<extra></extra>",
         "legendgroup": "abstentions",
         "marker": {
          "color": "#EF553B",
          "pattern": {
           "shape": ""
          }
         },
         "name": "abstentions",
         "offsetgroup": "abstentions",
         "orientation": "v",
         "showlegend": true,
         "textposition": "auto",
         "type": "bar",
         "x": [
          "01",
          "02",
          "03",
          "04",
          "05",
          "06",
          "07",
          "08",
          "09",
          "10",
          "11",
          "12",
          "13",
          "14",
          "15",
          "16",
          "17",
          "18",
          "19",
          "21",
          "22",
          "23",
          "24",
          "25",
          "26",
          "27",
          "28",
          "29",
          "2A",
          "2B",
          "30",
          "31",
          "32",
          "33",
          "34",
          "35",
          "36",
          "37",
          "38",
          "39",
          "40",
          "41",
          "42",
          "43",
          "44",
          "45",
          "46",
          "47",
          "48",
          "49",
          "50",
          "51",
          "52",
          "53",
          "54",
          "55",
          "56",
          "57",
          "58",
          "59",
          "60",
          "61",
          "62",
          "63",
          "64",
          "65",
          "66",
          "67",
          "68",
          "69",
          "70",
          "71",
          "72",
          "73",
          "74",
          "75",
          "76",
          "77",
          "78",
          "79",
          "80",
          "81",
          "82",
          "83",
          "84",
          "85",
          "86",
          "87",
          "88",
          "89",
          "90",
          "91",
          "92",
          "93",
          "94",
          "95",
          "971",
          "972",
          "973",
          "974",
          "975",
          "976",
          "977",
          "978",
          "986",
          "987",
          "988",
          "fr_etranger"
         ],
         "xaxis": "x",
         "y": [
          97541,
          101089,
          58497,
          29290,
          25357,
          208250,
          54114,
          49368,
          25028,
          52384,
          62972,
          43833,
          383816,
          117799,
          25019,
          59909,
          116437,
          59808,
          38430,
          77886,
          96597,
          21967,
          64856,
          84117,
          84289,
          106463,
          78960,
          154870,
          42366,
          48263,
          132723,
          183366,
          28267,
          249014,
          195766,
          161427,
          41406,
          105536,
          198676,
          41634,
          65654,
          59350,
          118592,
          37000,
          236339,
          114468,
          27164,
          52907,
          11680,
          136866,
          93460,
          101010,
          33273,
          52812,
          130919,
          34092,
          130520,
          210299,
          38850,
          514033,
          142081,
          50935,
          286319,
          100869,
          110134,
          39595,
          87704,
          190224,
          137861,
          255580,
          39039,
          95369,
          105454,
          68929,
          129384,
          296668,
          222147,
          223172,
          211708,
          59403,
          102687,
          62818,
          39625,
          211212,
          101650,
          120547,
          68304,
          55484,
          68914,
          57549,
          22238,
          192200,
          208790,
          239927,
          195409,
          192853,
          174592,
          174588,
          65754,
          313159,
          2272,
          55024,
          2563,
          13249,
          4125,
          142121,
          145807,
          931455
         ],
         "yaxis": "y"
        },
        {
         "alignmentgroup": "True",
         "hovertemplate": "Candidat=blancs<br>Département=%{x}<br>Nombre de voix=%{y}<extra></extra>",
         "legendgroup": "blancs",
         "marker": {
          "color": "#00cc96",
          "pattern": {
           "shape": ""
          }
         },
         "name": "blancs",
         "offsetgroup": "blancs",
         "orientation": "v",
         "showlegend": true,
         "textposition": "auto",
         "type": "bar",
         "x": [
          "01",
          "02",
          "03",
          "04",
          "05",
          "06",
          "07",
          "08",
          "09",
          "10",
          "11",
          "12",
          "13",
          "14",
          "15",
          "16",
          "17",
          "18",
          "19",
          "21",
          "22",
          "23",
          "24",
          "25",
          "26",
          "27",
          "28",
          "29",
          "2A",
          "2B",
          "30",
          "31",
          "32",
          "33",
          "34",
          "35",
          "36",
          "37",
          "38",
          "39",
          "40",
          "41",
          "42",
          "43",
          "44",
          "45",
          "46",
          "47",
          "48",
          "49",
          "50",
          "51",
          "52",
          "53",
          "54",
          "55",
          "56",
          "57",
          "58",
          "59",
          "60",
          "61",
          "62",
          "63",
          "64",
          "65",
          "66",
          "67",
          "68",
          "69",
          "70",
          "71",
          "72",
          "73",
          "74",
          "75",
          "76",
          "77",
          "78",
          "79",
          "80",
          "81",
          "82",
          "83",
          "84",
          "85",
          "86",
          "87",
          "88",
          "89",
          "90",
          "91",
          "92",
          "93",
          "94",
          "95",
          "971",
          "972",
          "973",
          "974",
          "975",
          "976",
          "977",
          "978",
          "986",
          "987",
          "988",
          "fr_etranger"
         ],
         "xaxis": "x",
         "y": [
          5641,
          3767,
          3749,
          1478,
          1395,
          7550,
          3311,
          1909,
          1532,
          2339,
          2962,
          3079,
          13341,
          5547,
          1803,
          3293,
          5918,
          3146,
          2517,
          4577,
          5722,
          1388,
          3636,
          4989,
          4577,
          5085,
          3489,
          8692,
          1130,
          1463,
          5840,
          10129,
          1762,
          12367,
          8867,
          9511,
          2451,
          5437,
          10990,
          2625,
          4033,
          3181,
          6664,
          2837,
          13373,
          5512,
          1767,
          2793,
          741,
          8072,
          4747,
          3826,
          1489,
          3483,
          5092,
          1509,
          7959,
          7943,
          1957,
          17416,
          6324,
          2586,
          10601,
          6938,
          5816,
          2064,
          3528,
          8335,
          6382,
          12708,
          2364,
          5923,
          6694,
          3931,
          6918,
          11028,
          10982,
          11057,
          9601,
          3839,
          4837,
          3451,
          2169,
          7803,
          4350,
          7312,
          4053,
          3787,
          3431,
          2715,
          1242,
          8954,
          11841,
          7607,
          8501,
          8027,
          2719,
          4001,
          825,
          7361,
          47,
          922,
          50,
          100,
          27,
          1490,
          1777,
          3193
         ],
         "yaxis": "y"
        },
        {
         "alignmentgroup": "True",
         "hovertemplate": "Candidat=nuls<br>Département=%{x}<br>Nombre de voix=%{y}<extra></extra>",
         "legendgroup": "nuls",
         "marker": {
          "color": "#ab63fa",
          "pattern": {
           "shape": ""
          }
         },
         "name": "nuls",
         "offsetgroup": "nuls",
         "orientation": "v",
         "showlegend": true,
         "textposition": "auto",
         "type": "bar",
         "x": [
          "01",
          "02",
          "03",
          "04",
          "05",
          "06",
          "07",
          "08",
          "09",
          "10",
          "11",
          "12",
          "13",
          "14",
          "15",
          "16",
          "17",
          "18",
          "19",
          "21",
          "22",
          "23",
          "24",
          "25",
          "26",
          "27",
          "28",
          "29",
          "2A",
          "2B",
          "30",
          "31",
          "32",
          "33",
          "34",
          "35",
          "36",
          "37",
          "38",
          "39",
          "40",
          "41",
          "42",
          "43",
          "44",
          "45",
          "46",
          "47",
          "48",
          "49",
          "50",
          "51",
          "52",
          "53",
          "54",
          "55",
          "56",
          "57",
          "58",
          "59",
          "60",
          "61",
          "62",
          "63",
          "64",
          "65",
          "66",
          "67",
          "68",
          "69",
          "70",
          "71",
          "72",
          "73",
          "74",
          "75",
          "76",
          "77",
          "78",
          "79",
          "80",
          "81",
          "82",
          "83",
          "84",
          "85",
          "86",
          "87",
          "88",
          "89",
          "90",
          "91",
          "92",
          "93",
          "94",
          "95",
          "971",
          "972",
          "973",
          "974",
          "975",
          "976",
          "977",
          "978",
          "986",
          "987",
          "988",
          "fr_etranger"
         ],
         "xaxis": "x",
         "y": [
          1903,
          2828,
          1790,
          624,
          532,
          4007,
          1459,
          984,
          775,
          1158,
          1567,
          1654,
          5407,
          2571,
          821,
          1740,
          2780,
          1083,
          1485,
          1651,
          3040,
          743,
          3120,
          2176,
          1898,
          1789,
          1418,
          3220,
          1561,
          877,
          2496,
          5847,
          850,
          5147,
          4004,
          3866,
          1246,
          2039,
          3478,
          1111,
          1600,
          1377,
          2600,
          1214,
          4559,
          2148,
          957,
          1502,
          395,
          2983,
          1948,
          1702,
          819,
          1519,
          2246,
          691,
          3119,
          3353,
          938,
          7676,
          4002,
          1067,
          6150,
          2709,
          2489,
          896,
          2276,
          3434,
          2386,
          3925,
          1573,
          2400,
          2098,
          1491,
          2224,
          5267,
          3158,
          4145,
          3430,
          2168,
          3614,
          2067,
          1092,
          3159,
          1742,
          3395,
          2002,
          2353,
          1874,
          1182,
          590,
          3405,
          2294,
          3244,
          3118,
          3064,
          3627,
          3056,
          553,
          8253,
          25,
          1191,
          12,
          72,
          17,
          1935,
          689,
          2147
         ],
         "yaxis": "y"
        },
        {
         "alignmentgroup": "True",
         "hovertemplate": "Candidat=Éric ZEMMOUR<br>Département=%{x}<br>Nombre de voix=%{y}<extra></extra>",
         "legendgroup": "Éric ZEMMOUR",
         "marker": {
          "color": "#FFA15A",
          "pattern": {
           "shape": ""
          }
         },
         "name": "Éric ZEMMOUR",
         "offsetgroup": "Éric ZEMMOUR",
         "orientation": "v",
         "showlegend": true,
         "textposition": "auto",
         "type": "bar",
         "x": [
          "01",
          "02",
          "03",
          "04",
          "05",
          "06",
          "07",
          "08",
          "09",
          "10",
          "11",
          "12",
          "13",
          "14",
          "15",
          "16",
          "17",
          "18",
          "19",
          "21",
          "22",
          "23",
          "24",
          "25",
          "26",
          "27",
          "28",
          "29",
          "2A",
          "2B",
          "30",
          "31",
          "32",
          "33",
          "34",
          "35",
          "36",
          "37",
          "38",
          "39",
          "40",
          "41",
          "42",
          "43",
          "44",
          "45",
          "46",
          "47",
          "48",
          "49",
          "50",
          "51",
          "52",
          "53",
          "54",
          "55",
          "56",
          "57",
          "58",
          "59",
          "60",
          "61",
          "62",
          "63",
          "64",
          "65",
          "66",
          "67",
          "68",
          "69",
          "70",
          "71",
          "72",
          "73",
          "74",
          "75",
          "76",
          "77",
          "78",
          "79",
          "80",
          "81",
          "82",
          "83",
          "84",
          "85",
          "86",
          "87",
          "88",
          "89",
          "90",
          "91",
          "92",
          "93",
          "94",
          "95",
          "971",
          "972",
          "973",
          "974",
          "975",
          "976",
          "977",
          "978",
          "986",
          "987",
          "988",
          "fr_etranger"
         ],
         "xaxis": "x",
         "y": [
          27530,
          18266,
          12361,
          7926,
          6164,
          78208,
          14199,
          8771,
          5821,
          11374,
          18434,
          10112,
          108617,
          22255,
          4906,
          10617,
          24347,
          10822,
          8012,
          21651,
          17319,
          3501,
          15800,
          19486,
          22010,
          20930,
          14803,
          25607,
          9199,
          9657,
          38479,
          50613,
          8396,
          58321,
          57751,
          27463,
          7438,
          19931,
          47450,
          9657,
          16817,
          12703,
          28706,
          9529,
          42761,
          22878,
          6123,
          15646,
          3148,
          21704,
          13990,
          19501,
          6450,
          8042,
          23518,
          7347,
          26595,
          39369,
          7378,
          73168,
          30333,
          8910,
          40764,
          20624,
          25877,
          8714,
          24782,
          40458,
          30284,
          74168,
          9675,
          20686,
          16218,
          18045,
          33353,
          86088,
          33361,
          47893,
          64407,
          8803,
          16885,
          15982,
          11772,
          79329,
          30473,
          25663,
          11939,
          10796,
          13184,
          12941,
          5583,
          39284,
          62761,
          27969,
          43430,
          37564,
          3098,
          3153,
          1573,
          13070,
          80,
          482,
          469,
          638,
          118,
          4283,
          6435,
          43252
         ],
         "yaxis": "y"
        }
       ],
       "layout": {
        "barmode": "stack",
        "legend": {
         "title": {
          "text": "Candidat"
         },
         "tracegroupgap": 0
        },
        "template": {
         "data": {
          "bar": [
           {
            "error_x": {
             "color": "#2a3f5f"
            },
            "error_y": {
             "color": "#2a3f5f"
            },
            "marker": {
             "line": {
              "color": "#E5ECF6",
              "width": 0.5
             },
             "pattern": {
              "fillmode": "overlay",
              "size": 10,
              "solidity": 0.2
             }
            },
            "type": "bar"
           }
          ],
          "barpolar": [
           {
            "marker": {
             "line": {
              "color": "#E5ECF6",
              "width": 0.5
             },
             "pattern": {
              "fillmode": "overlay",
              "size": 10,
              "solidity": 0.2
             }
            },
            "type": "barpolar"
           }
          ],
          "carpet": [
           {
            "aaxis": {
             "endlinecolor": "#2a3f5f",
             "gridcolor": "white",
             "linecolor": "white",
             "minorgridcolor": "white",
             "startlinecolor": "#2a3f5f"
            },
            "baxis": {
             "endlinecolor": "#2a3f5f",
             "gridcolor": "white",
             "linecolor": "white",
             "minorgridcolor": "white",
             "startlinecolor": "#2a3f5f"
            },
            "type": "carpet"
           }
          ],
          "choropleth": [
           {
            "colorbar": {
             "outlinewidth": 0,
             "ticks": ""
            },
            "type": "choropleth"
           }
          ],
          "contour": [
           {
            "colorbar": {
             "outlinewidth": 0,
             "ticks": ""
            },
            "colorscale": [
             [
              0,
              "#0d0887"
             ],
             [
              0.1111111111111111,
              "#46039f"
             ],
             [
              0.2222222222222222,
              "#7201a8"
             ],
             [
              0.3333333333333333,
              "#9c179e"
             ],
             [
              0.4444444444444444,
              "#bd3786"
             ],
             [
              0.5555555555555556,
              "#d8576b"
             ],
             [
              0.6666666666666666,
              "#ed7953"
             ],
             [
              0.7777777777777778,
              "#fb9f3a"
             ],
             [
              0.8888888888888888,
              "#fdca26"
             ],
             [
              1,
              "#f0f921"
             ]
            ],
            "type": "contour"
           }
          ],
          "contourcarpet": [
           {
            "colorbar": {
             "outlinewidth": 0,
             "ticks": ""
            },
            "type": "contourcarpet"
           }
          ],
          "heatmap": [
           {
            "colorbar": {
             "outlinewidth": 0,
             "ticks": ""
            },
            "colorscale": [
             [
              0,
              "#0d0887"
             ],
             [
              0.1111111111111111,
              "#46039f"
             ],
             [
              0.2222222222222222,
              "#7201a8"
             ],
             [
              0.3333333333333333,
              "#9c179e"
             ],
             [
              0.4444444444444444,
              "#bd3786"
             ],
             [
              0.5555555555555556,
              "#d8576b"
             ],
             [
              0.6666666666666666,
              "#ed7953"
             ],
             [
              0.7777777777777778,
              "#fb9f3a"
             ],
             [
              0.8888888888888888,
              "#fdca26"
             ],
             [
              1,
              "#f0f921"
             ]
            ],
            "type": "heatmap"
           }
          ],
          "heatmapgl": [
           {
            "colorbar": {
             "outlinewidth": 0,
             "ticks": ""
            },
            "colorscale": [
             [
              0,
              "#0d0887"
             ],
             [
              0.1111111111111111,
              "#46039f"
             ],
             [
              0.2222222222222222,
              "#7201a8"
             ],
             [
              0.3333333333333333,
              "#9c179e"
             ],
             [
              0.4444444444444444,
              "#bd3786"
             ],
             [
              0.5555555555555556,
              "#d8576b"
             ],
             [
              0.6666666666666666,
              "#ed7953"
             ],
             [
              0.7777777777777778,
              "#fb9f3a"
             ],
             [
              0.8888888888888888,
              "#fdca26"
             ],
             [
              1,
              "#f0f921"
             ]
            ],
            "type": "heatmapgl"
           }
          ],
          "histogram": [
           {
            "marker": {
             "pattern": {
              "fillmode": "overlay",
              "size": 10,
              "solidity": 0.2
             }
            },
            "type": "histogram"
           }
          ],
          "histogram2d": [
           {
            "colorbar": {
             "outlinewidth": 0,
             "ticks": ""
            },
            "colorscale": [
             [
              0,
              "#0d0887"
             ],
             [
              0.1111111111111111,
              "#46039f"
             ],
             [
              0.2222222222222222,
              "#7201a8"
             ],
             [
              0.3333333333333333,
              "#9c179e"
             ],
             [
              0.4444444444444444,
              "#bd3786"
             ],
             [
              0.5555555555555556,
              "#d8576b"
             ],
             [
              0.6666666666666666,
              "#ed7953"
             ],
             [
              0.7777777777777778,
              "#fb9f3a"
             ],
             [
              0.8888888888888888,
              "#fdca26"
             ],
             [
              1,
              "#f0f921"
             ]
            ],
            "type": "histogram2d"
           }
          ],
          "histogram2dcontour": [
           {
            "colorbar": {
             "outlinewidth": 0,
             "ticks": ""
            },
            "colorscale": [
             [
              0,
              "#0d0887"
             ],
             [
              0.1111111111111111,
              "#46039f"
             ],
             [
              0.2222222222222222,
              "#7201a8"
             ],
             [
              0.3333333333333333,
              "#9c179e"
             ],
             [
              0.4444444444444444,
              "#bd3786"
             ],
             [
              0.5555555555555556,
              "#d8576b"
             ],
             [
              0.6666666666666666,
              "#ed7953"
             ],
             [
              0.7777777777777778,
              "#fb9f3a"
             ],
             [
              0.8888888888888888,
              "#fdca26"
             ],
             [
              1,
              "#f0f921"
             ]
            ],
            "type": "histogram2dcontour"
           }
          ],
          "mesh3d": [
           {
            "colorbar": {
             "outlinewidth": 0,
             "ticks": ""
            },
            "type": "mesh3d"
           }
          ],
          "parcoords": [
           {
            "line": {
             "colorbar": {
              "outlinewidth": 0,
              "ticks": ""
             }
            },
            "type": "parcoords"
           }
          ],
          "pie": [
           {
            "automargin": true,
            "type": "pie"
           }
          ],
          "scatter": [
           {
            "fillpattern": {
             "fillmode": "overlay",
             "size": 10,
             "solidity": 0.2
            },
            "type": "scatter"
           }
          ],
          "scatter3d": [
           {
            "line": {
             "colorbar": {
              "outlinewidth": 0,
              "ticks": ""
             }
            },
            "marker": {
             "colorbar": {
              "outlinewidth": 0,
              "ticks": ""
             }
            },
            "type": "scatter3d"
           }
          ],
          "scattercarpet": [
           {
            "marker": {
             "colorbar": {
              "outlinewidth": 0,
              "ticks": ""
             }
            },
            "type": "scattercarpet"
           }
          ],
          "scattergeo": [
           {
            "marker": {
             "colorbar": {
              "outlinewidth": 0,
              "ticks": ""
             }
            },
            "type": "scattergeo"
           }
          ],
          "scattergl": [
           {
            "marker": {
             "colorbar": {
              "outlinewidth": 0,
              "ticks": ""
             }
            },
            "type": "scattergl"
           }
          ],
          "scattermapbox": [
           {
            "marker": {
             "colorbar": {
              "outlinewidth": 0,
              "ticks": ""
             }
            },
            "type": "scattermapbox"
           }
          ],
          "scatterpolar": [
           {
            "marker": {
             "colorbar": {
              "outlinewidth": 0,
              "ticks": ""
             }
            },
            "type": "scatterpolar"
           }
          ],
          "scatterpolargl": [
           {
            "marker": {
             "colorbar": {
              "outlinewidth": 0,
              "ticks": ""
             }
            },
            "type": "scatterpolargl"
           }
          ],
          "scatterternary": [
           {
            "marker": {
             "colorbar": {
              "outlinewidth": 0,
              "ticks": ""
             }
            },
            "type": "scatterternary"
           }
          ],
          "surface": [
           {
            "colorbar": {
             "outlinewidth": 0,
             "ticks": ""
            },
            "colorscale": [
             [
              0,
              "#0d0887"
             ],
             [
              0.1111111111111111,
              "#46039f"
             ],
             [
              0.2222222222222222,
              "#7201a8"
             ],
             [
              0.3333333333333333,
              "#9c179e"
             ],
             [
              0.4444444444444444,
              "#bd3786"
             ],
             [
              0.5555555555555556,
              "#d8576b"
             ],
             [
              0.6666666666666666,
              "#ed7953"
             ],
             [
              0.7777777777777778,
              "#fb9f3a"
             ],
             [
              0.8888888888888888,
              "#fdca26"
             ],
             [
              1,
              "#f0f921"
             ]
            ],
            "type": "surface"
           }
          ],
          "table": [
           {
            "cells": {
             "fill": {
              "color": "#EBF0F8"
             },
             "line": {
              "color": "white"
             }
            },
            "header": {
             "fill": {
              "color": "#C8D4E3"
             },
             "line": {
              "color": "white"
             }
            },
            "type": "table"
           }
          ]
         },
         "layout": {
          "annotationdefaults": {
           "arrowcolor": "#2a3f5f",
           "arrowhead": 0,
           "arrowwidth": 1
          },
          "autotypenumbers": "strict",
          "coloraxis": {
           "colorbar": {
            "outlinewidth": 0,
            "ticks": ""
           }
          },
          "colorscale": {
           "diverging": [
            [
             0,
             "#8e0152"
            ],
            [
             0.1,
             "#c51b7d"
            ],
            [
             0.2,
             "#de77ae"
            ],
            [
             0.3,
             "#f1b6da"
            ],
            [
             0.4,
             "#fde0ef"
            ],
            [
             0.5,
             "#f7f7f7"
            ],
            [
             0.6,
             "#e6f5d0"
            ],
            [
             0.7,
             "#b8e186"
            ],
            [
             0.8,
             "#7fbc41"
            ],
            [
             0.9,
             "#4d9221"
            ],
            [
             1,
             "#276419"
            ]
           ],
           "sequential": [
            [
             0,
             "#0d0887"
            ],
            [
             0.1111111111111111,
             "#46039f"
            ],
            [
             0.2222222222222222,
             "#7201a8"
            ],
            [
             0.3333333333333333,
             "#9c179e"
            ],
            [
             0.4444444444444444,
             "#bd3786"
            ],
            [
             0.5555555555555556,
             "#d8576b"
            ],
            [
             0.6666666666666666,
             "#ed7953"
            ],
            [
             0.7777777777777778,
             "#fb9f3a"
            ],
            [
             0.8888888888888888,
             "#fdca26"
            ],
            [
             1,
             "#f0f921"
            ]
           ],
           "sequentialminus": [
            [
             0,
             "#0d0887"
            ],
            [
             0.1111111111111111,
             "#46039f"
            ],
            [
             0.2222222222222222,
             "#7201a8"
            ],
            [
             0.3333333333333333,
             "#9c179e"
            ],
            [
             0.4444444444444444,
             "#bd3786"
            ],
            [
             0.5555555555555556,
             "#d8576b"
            ],
            [
             0.6666666666666666,
             "#ed7953"
            ],
            [
             0.7777777777777778,
             "#fb9f3a"
            ],
            [
             0.8888888888888888,
             "#fdca26"
            ],
            [
             1,
             "#f0f921"
            ]
           ]
          },
          "colorway": [
           "#636efa",
           "#EF553B",
           "#00cc96",
           "#ab63fa",
           "#FFA15A",
           "#19d3f3",
           "#FF6692",
           "#B6E880",
           "#FF97FF",
           "#FECB52"
          ],
          "font": {
           "color": "#2a3f5f"
          },
          "geo": {
           "bgcolor": "white",
           "lakecolor": "white",
           "landcolor": "#E5ECF6",
           "showlakes": true,
           "showland": true,
           "subunitcolor": "white"
          },
          "hoverlabel": {
           "align": "left"
          },
          "hovermode": "closest",
          "mapbox": {
           "style": "light"
          },
          "paper_bgcolor": "white",
          "plot_bgcolor": "#E5ECF6",
          "polar": {
           "angularaxis": {
            "gridcolor": "white",
            "linecolor": "white",
            "ticks": ""
           },
           "bgcolor": "#E5ECF6",
           "radialaxis": {
            "gridcolor": "white",
            "linecolor": "white",
            "ticks": ""
           }
          },
          "scene": {
           "xaxis": {
            "backgroundcolor": "#E5ECF6",
            "gridcolor": "white",
            "gridwidth": 2,
            "linecolor": "white",
            "showbackground": true,
            "ticks": "",
            "zerolinecolor": "white"
           },
           "yaxis": {
            "backgroundcolor": "#E5ECF6",
            "gridcolor": "white",
            "gridwidth": 2,
            "linecolor": "white",
            "showbackground": true,
            "ticks": "",
            "zerolinecolor": "white"
           },
           "zaxis": {
            "backgroundcolor": "#E5ECF6",
            "gridcolor": "white",
            "gridwidth": 2,
            "linecolor": "white",
            "showbackground": true,
            "ticks": "",
            "zerolinecolor": "white"
           }
          },
          "shapedefaults": {
           "line": {
            "color": "#2a3f5f"
           }
          },
          "ternary": {
           "aaxis": {
            "gridcolor": "white",
            "linecolor": "white",
            "ticks": ""
           },
           "baxis": {
            "gridcolor": "white",
            "linecolor": "white",
            "ticks": ""
           },
           "bgcolor": "#E5ECF6",
           "caxis": {
            "gridcolor": "white",
            "linecolor": "white",
            "ticks": ""
           }
          },
          "title": {
           "x": 0.05
          },
          "xaxis": {
           "automargin": true,
           "gridcolor": "white",
           "linecolor": "white",
           "ticks": "",
           "title": {
            "standoff": 15
           },
           "zerolinecolor": "white",
           "zerolinewidth": 2
          },
          "yaxis": {
           "automargin": true,
           "gridcolor": "white",
           "linecolor": "white",
           "ticks": "",
           "title": {
            "standoff": 15
           },
           "zerolinecolor": "white",
           "zerolinewidth": 2
          }
         }
        },
        "title": {
         "text": "Nombre de voix Validées par candidat selon le département"
        },
        "xaxis": {
         "anchor": "y",
         "domain": [
          0,
          1
         ],
         "title": {
          "text": "Département"
         }
        },
        "yaxis": {
         "anchor": "x",
         "domain": [
          0,
          1
         ],
         "title": {
          "text": "Nombre de voix"
         }
        }
       }
      }
     },
     "metadata": {},
     "output_type": "display_data"
    }
   ],
   "source": [
    "#Résultat par Candidat et par département\n",
    "fig = px.bar(\n",
    "    result,\n",
    "    x=\"cd_departement\",\n",
    "    y=\"nb_voix\",\n",
    "    color=\"nom_complet\",\n",
    "    title=\"Nombre de voix Validées par candidat selon le département\",\n",
    "    labels={\"cd_departement\": \"Département\", \"nb_voix\": \"Nombre de voix\", \"nom_complet\": \"Candidat\"},\n",
    "    barmode=\"stack\",\n",
    ")\n",
    "\n",
    "# Afficher le graphique\n",
    "fig.show()"
   ]
  },
  {
   "cell_type": "code",
   "execution_count": 11,
   "metadata": {},
   "outputs": [
    {
     "data": {
      "text/plain": [
       "array(['01', '02', '03', '04', '05', '06', '07', '08', '09', '10', '11',\n",
       "       '12', '13', '14', '15', '16', '17', '18', '19', '21', '22', '23',\n",
       "       '24', '25', '26', '27', '28', '29', '2A', '2B', '30', '31', '32',\n",
       "       '33', '34', '35', '36', '37', '38', '39', '40', '41', '42', '43',\n",
       "       '44', '45', '46', '47', '48', '49', '50', '51', '52', '53', '54',\n",
       "       '55', '56', '57', '58', '59', '60', '61', '62', '63', '64', '65',\n",
       "       '66', '67', '68', '69', '70', '71', '72', '73', '74', '75', '76',\n",
       "       '77', '78', '79', '80', '81', '82', '83', '84', '85', '86', '87',\n",
       "       '88', '89', '90', '91', '92', '93', '94', '95', '971', '972',\n",
       "       '973', '974', '975', '976', '977', '978', '986', '987', '988',\n",
       "       'fr_etranger'], dtype=object)"
      ]
     },
     "execution_count": 11,
     "metadata": {},
     "output_type": "execute_result"
    }
   ],
   "source": [
    "test=result['cd_departement'].unique()\n",
    "test"
   ]
  },
  {
   "cell_type": "markdown",
   "metadata": {},
   "source": [
    "A enlever du DF '971', '972', '973', '974', '975', '976', '977', '978', '986', '987', '988','fr_etranger'"
   ]
  },
  {
   "cell_type": "markdown",
   "metadata": {},
   "source": [
    "#### Region"
   ]
  },
  {
   "cell_type": "code",
   "execution_count": 12,
   "metadata": {},
   "outputs": [
    {
     "data": {
      "text/html": [
       "<div>\n",
       "<style scoped>\n",
       "    .dataframe tbody tr th:only-of-type {\n",
       "        vertical-align: middle;\n",
       "    }\n",
       "\n",
       "    .dataframe tbody tr th {\n",
       "        vertical-align: top;\n",
       "    }\n",
       "\n",
       "    .dataframe thead th {\n",
       "        text-align: right;\n",
       "    }\n",
       "</style>\n",
       "<table border=\"1\" class=\"dataframe\">\n",
       "  <thead>\n",
       "    <tr style=\"text-align: right;\">\n",
       "      <th></th>\n",
       "      <th>region</th>\n",
       "      <th>nom_complet</th>\n",
       "      <th>nb_voix</th>\n",
       "      <th>sensibilite_politique</th>\n",
       "    </tr>\n",
       "  </thead>\n",
       "  <tbody>\n",
       "    <tr>\n",
       "      <th>0</th>\n",
       "      <td>Auvergne-Rhône-Alpes</td>\n",
       "      <td>Anne HIDALGO</td>\n",
       "      <td>77566</td>\n",
       "      <td>Gauche</td>\n",
       "    </tr>\n",
       "    <tr>\n",
       "      <th>1</th>\n",
       "      <td>Auvergne-Rhône-Alpes</td>\n",
       "      <td>Emmanuel MACRON</td>\n",
       "      <td>1174972</td>\n",
       "      <td>Centre</td>\n",
       "    </tr>\n",
       "    <tr>\n",
       "      <th>2</th>\n",
       "      <td>Auvergne-Rhône-Alpes</td>\n",
       "      <td>Fabien ROUSSEL</td>\n",
       "      <td>96403</td>\n",
       "      <td>Gauche</td>\n",
       "    </tr>\n",
       "    <tr>\n",
       "      <th>3</th>\n",
       "      <td>Auvergne-Rhône-Alpes</td>\n",
       "      <td>Jean LASSALLE</td>\n",
       "      <td>136414</td>\n",
       "      <td>Centre</td>\n",
       "    </tr>\n",
       "    <tr>\n",
       "      <th>4</th>\n",
       "      <td>Auvergne-Rhône-Alpes</td>\n",
       "      <td>Jean-Luc MÉLENCHON</td>\n",
       "      <td>897349</td>\n",
       "      <td>Gauche</td>\n",
       "    </tr>\n",
       "    <tr>\n",
       "      <th>...</th>\n",
       "      <td>...</td>\n",
       "      <td>...</td>\n",
       "      <td>...</td>\n",
       "      <td>...</td>\n",
       "    </tr>\n",
       "    <tr>\n",
       "      <th>340</th>\n",
       "      <td>Île-de-France</td>\n",
       "      <td>Yannick JADOT</td>\n",
       "      <td>296087</td>\n",
       "      <td>Gauche</td>\n",
       "    </tr>\n",
       "    <tr>\n",
       "      <th>341</th>\n",
       "      <td>Île-de-France</td>\n",
       "      <td>abstentions</td>\n",
       "      <td>1760727</td>\n",
       "      <td>Non_comptabilise</td>\n",
       "    </tr>\n",
       "    <tr>\n",
       "      <th>342</th>\n",
       "      <td>Île-de-France</td>\n",
       "      <td>blancs</td>\n",
       "      <td>76616</td>\n",
       "      <td>Non_comptabilise</td>\n",
       "    </tr>\n",
       "    <tr>\n",
       "      <th>343</th>\n",
       "      <td>Île-de-France</td>\n",
       "      <td>nuls</td>\n",
       "      <td>27967</td>\n",
       "      <td>Non_comptabilise</td>\n",
       "    </tr>\n",
       "    <tr>\n",
       "      <th>344</th>\n",
       "      <td>Île-de-France</td>\n",
       "      <td>Éric ZEMMOUR</td>\n",
       "      <td>409396</td>\n",
       "      <td>Droite</td>\n",
       "    </tr>\n",
       "  </tbody>\n",
       "</table>\n",
       "<p>345 rows × 4 columns</p>\n",
       "</div>"
      ],
      "text/plain": [
       "                   region         nom_complet  nb_voix sensibilite_politique\n",
       "0    Auvergne-Rhône-Alpes        Anne HIDALGO    77566                Gauche\n",
       "1    Auvergne-Rhône-Alpes     Emmanuel MACRON  1174972                Centre\n",
       "2    Auvergne-Rhône-Alpes      Fabien ROUSSEL    96403                Gauche\n",
       "3    Auvergne-Rhône-Alpes       Jean LASSALLE   136414                Centre\n",
       "4    Auvergne-Rhône-Alpes  Jean-Luc MÉLENCHON   897349                Gauche\n",
       "..                    ...                 ...      ...                   ...\n",
       "340         Île-de-France       Yannick JADOT   296087                Gauche\n",
       "341         Île-de-France         abstentions  1760727      Non_comptabilise\n",
       "342         Île-de-France              blancs    76616      Non_comptabilise\n",
       "343         Île-de-France                nuls    27967      Non_comptabilise\n",
       "344         Île-de-France        Éric ZEMMOUR   409396                Droite\n",
       "\n",
       "[345 rows x 4 columns]"
      ]
     },
     "execution_count": 12,
     "metadata": {},
     "output_type": "execute_result"
    }
   ],
   "source": [
    "#dep_60=result[result['nom_complet'] == 'Anne HIDALGO']\n",
    "result_region = pd.DataFrame(result.groupby(['region', 'nom_complet'], as_index=False).agg({'nb_voix': 'sum','sensibilite_politique': 'first'}))\n",
    "result_region"
   ]
  },
  {
   "cell_type": "code",
   "execution_count": 13,
   "metadata": {},
   "outputs": [
    {
     "data": {
      "application/vnd.plotly.v1+json": {
       "config": {
        "plotlyServerURL": "https://plot.ly"
       },
       "data": [
        {
         "alignmentgroup": "True",
         "hovertemplate": "Candidat=Anne HIDALGO<br>Région=%{x}<br>Nombre de voix=%{y}<extra></extra>",
         "legendgroup": "Anne HIDALGO",
         "marker": {
          "color": "#636efa",
          "pattern": {
           "shape": ""
          }
         },
         "name": "Anne HIDALGO",
         "offsetgroup": "Anne HIDALGO",
         "orientation": "v",
         "showlegend": true,
         "textposition": "auto",
         "type": "bar",
         "x": [
          "Auvergne-Rhône-Alpes",
          "Bourgogne-Franche-Comté",
          "Bretagne",
          "Centre-Val de Loire",
          "Corse",
          "Français de l'étranger",
          "Grand Est",
          "Guadeloupe",
          "Guyane",
          "Hauts-de-France",
          "La Réunion",
          "Martinique",
          "Mayotte",
          "Normandie",
          "Nouvelle-Aquitaine",
          "Nouvelle-Calédonie",
          "Occitanie",
          "Pays de la Loire",
          "Polynésie française",
          "Provence-Alpes-Côte d'Azur",
          "Saint-Pierre-et-Miquelon",
          "Wallis-et-Futuna",
          "Île-de-France"
         ],
         "xaxis": "x",
         "y": [
          77566,
          26543,
          43596,
          23162,
          1583,
          12489,
          40030,
          2266,
          535,
          40814,
          5549,
          3935,
          318,
          30235,
          77306,
          963,
          77124,
          43291,
          865,
          29501,
          75,
          118,
          78522
         ],
         "yaxis": "y"
        },
        {
         "alignmentgroup": "True",
         "hovertemplate": "Candidat=Emmanuel MACRON<br>Région=%{x}<br>Nombre de voix=%{y}<extra></extra>",
         "legendgroup": "Emmanuel MACRON",
         "marker": {
          "color": "#EF553B",
          "pattern": {
           "shape": ""
          }
         },
         "name": "Emmanuel MACRON",
         "offsetgroup": "Emmanuel MACRON",
         "orientation": "v",
         "showlegend": true,
         "textposition": "auto",
         "type": "bar",
         "x": [
          "Auvergne-Rhône-Alpes",
          "Bourgogne-Franche-Comté",
          "Bretagne",
          "Centre-Val de Loire",
          "Corse",
          "Français de l'étranger",
          "Grand Est",
          "Guadeloupe",
          "Guyane",
          "Hauts-de-France",
          "La Réunion",
          "Martinique",
          "Mayotte",
          "Normandie",
          "Nouvelle-Aquitaine",
          "Nouvelle-Calédonie",
          "Occitanie",
          "Pays de la Loire",
          "Polynésie française",
          "Provence-Alpes-Côte d'Azur",
          "Saint-Pierre-et-Miquelon",
          "Wallis-et-Futuna",
          "Île-de-France"
         ],
         "xaxis": "x",
         "y": [
          1174972,
          394119,
          647172,
          383851,
          26705,
          224957,
          762241,
          18137,
          5101,
          772619,
          62542,
          20043,
          5936,
          521769,
          945122,
          28561,
          777444,
          707890,
          24106,
          619272,
          534,
          2115,
          1655780
         ],
         "yaxis": "y"
        },
        {
         "alignmentgroup": "True",
         "hovertemplate": "Candidat=Fabien ROUSSEL<br>Région=%{x}<br>Nombre de voix=%{y}<extra></extra>",
         "legendgroup": "Fabien ROUSSEL",
         "marker": {
          "color": "#00cc96",
          "pattern": {
           "shape": ""
          }
         },
         "name": "Fabien ROUSSEL",
         "offsetgroup": "Fabien ROUSSEL",
         "orientation": "v",
         "showlegend": true,
         "textposition": "auto",
         "type": "bar",
         "x": [
          "Auvergne-Rhône-Alpes",
          "Bourgogne-Franche-Comté",
          "Bretagne",
          "Centre-Val de Loire",
          "Corse",
          "Français de l'étranger",
          "Grand Est",
          "Guadeloupe",
          "Guyane",
          "Hauts-de-France",
          "La Réunion",
          "Martinique",
          "Mayotte",
          "Normandie",
          "Nouvelle-Aquitaine",
          "Nouvelle-Calédonie",
          "Occitanie",
          "Pays de la Loire",
          "Polynésie française",
          "Provence-Alpes-Côte d'Azur",
          "Saint-Pierre-et-Miquelon",
          "Wallis-et-Futuna",
          "Île-de-France"
         ],
         "xaxis": "x",
         "y": [
          96403,
          33932,
          51193,
          33590,
          4537,
          3266,
          47422,
          668,
          246,
          94776,
          3074,
          747,
          206,
          46358,
          96771,
          399,
          83452,
          45058,
          368,
          54718,
          19,
          34,
          105137
         ],
         "yaxis": "y"
        },
        {
         "alignmentgroup": "True",
         "hovertemplate": "Candidat=Jean LASSALLE<br>Région=%{x}<br>Nombre de voix=%{y}<extra></extra>",
         "legendgroup": "Jean LASSALLE",
         "marker": {
          "color": "#ab63fa",
          "pattern": {
           "shape": ""
          }
         },
         "name": "Jean LASSALLE",
         "offsetgroup": "Jean LASSALLE",
         "orientation": "v",
         "showlegend": true,
         "textposition": "auto",
         "type": "bar",
         "x": [
          "Auvergne-Rhône-Alpes",
          "Bourgogne-Franche-Comté",
          "Bretagne",
          "Centre-Val de Loire",
          "Corse",
          "Français de l'étranger",
          "Grand Est",
          "Guadeloupe",
          "Guyane",
          "Hauts-de-France",
          "La Réunion",
          "Martinique",
          "Mayotte",
          "Normandie",
          "Nouvelle-Aquitaine",
          "Nouvelle-Calédonie",
          "Occitanie",
          "Pays de la Loire",
          "Polynésie française",
          "Provence-Alpes-Côte d'Azur",
          "Saint-Pierre-et-Miquelon",
          "Wallis-et-Futuna",
          "Île-de-France"
         ],
         "xaxis": "x",
         "y": [
          136414,
          49557,
          58653,
          38659,
          15330,
          5964,
          77439,
          1033,
          516,
          62487,
          4844,
          1162,
          359,
          45488,
          201726,
          1031,
          184956,
          54592,
          610,
          72830,
          108,
          78,
          87343
         ],
         "yaxis": "y"
        },
        {
         "alignmentgroup": "True",
         "hovertemplate": "Candidat=Jean-Luc MÉLENCHON<br>Région=%{x}<br>Nombre de voix=%{y}<extra></extra>",
         "legendgroup": "Jean-Luc MÉLENCHON",
         "marker": {
          "color": "#FFA15A",
          "pattern": {
           "shape": ""
          }
         },
         "name": "Jean-Luc MÉLENCHON",
         "offsetgroup": "Jean-Luc MÉLENCHON",
         "orientation": "v",
         "showlegend": true,
         "textposition": "auto",
         "type": "bar",
         "x": [
          "Auvergne-Rhône-Alpes",
          "Bourgogne-Franche-Comté",
          "Bretagne",
          "Centre-Val de Loire",
          "Corse",
          "Français de l'étranger",
          "Grand Est",
          "Guadeloupe",
          "Guyane",
          "Hauts-de-France",
          "La Réunion",
          "Martinique",
          "Mayotte",
          "Normandie",
          "Nouvelle-Aquitaine",
          "Nouvelle-Calédonie",
          "Occitanie",
          "Pays de la Loire",
          "Polynésie française",
          "Provence-Alpes-Côte d'Azur",
          "Saint-Pierre-et-Miquelon",
          "Wallis-et-Futuna",
          "Île-de-France"
         ],
         "xaxis": "x",
         "y": [
          897349,
          277901,
          407527,
          251259,
          19698,
          109394,
          492408,
          75862,
          18143,
          577487,
          139604,
          65292,
          8398,
          335590,
          681218,
          9711,
          741948,
          408969,
          7990,
          524211,
          1105,
          501,
          1658601
         ],
         "yaxis": "y"
        },
        {
         "alignmentgroup": "True",
         "hovertemplate": "Candidat=Marine LE PEN<br>Région=%{x}<br>Nombre de voix=%{y}<extra></extra>",
         "legendgroup": "Marine LE PEN",
         "marker": {
          "color": "#19d3f3",
          "pattern": {
           "shape": ""
          }
         },
         "name": "Marine LE PEN",
         "offsetgroup": "Marine LE PEN",
         "orientation": "v",
         "showlegend": true,
         "textposition": "auto",
         "type": "bar",
         "x": [
          "Auvergne-Rhône-Alpes",
          "Bourgogne-Franche-Comté",
          "Bretagne",
          "Centre-Val de Loire",
          "Corse",
          "Français de l'étranger",
          "Grand Est",
          "Guadeloupe",
          "Guyane",
          "Hauts-de-France",
          "La Réunion",
          "Martinique",
          "Mayotte",
          "Normandie",
          "Nouvelle-Aquitaine",
          "Nouvelle-Calédonie",
          "Occitanie",
          "Pays de la Loire",
          "Polynésie française",
          "Provence-Alpes-Côte d'Azur",
          "Saint-Pierre-et-Miquelon",
          "Wallis-et-Futuna",
          "Île-de-France"
         ],
         "xaxis": "x",
         "y": [
          943122,
          409643,
          385393,
          347845,
          42137,
          26380,
          825196,
          24204,
          6334,
          1014182,
          85770,
          16495,
          14958,
          484106,
          779699,
          13273,
          815338,
          442025,
          11705,
          732078,
          459,
          579,
          711462
         ],
         "yaxis": "y"
        },
        {
         "alignmentgroup": "True",
         "hovertemplate": "Candidat=Nathalie ARTHAUD<br>Région=%{x}<br>Nombre de voix=%{y}<extra></extra>",
         "legendgroup": "Nathalie ARTHAUD",
         "marker": {
          "color": "#FF6692",
          "pattern": {
           "shape": ""
          }
         },
         "name": "Nathalie ARTHAUD",
         "offsetgroup": "Nathalie ARTHAUD",
         "orientation": "v",
         "showlegend": true,
         "textposition": "auto",
         "type": "bar",
         "x": [
          "Auvergne-Rhône-Alpes",
          "Bourgogne-Franche-Comté",
          "Bretagne",
          "Centre-Val de Loire",
          "Corse",
          "Français de l'étranger",
          "Grand Est",
          "Guadeloupe",
          "Guyane",
          "Hauts-de-France",
          "La Réunion",
          "Martinique",
          "Mayotte",
          "Normandie",
          "Nouvelle-Aquitaine",
          "Nouvelle-Calédonie",
          "Occitanie",
          "Pays de la Loire",
          "Polynésie française",
          "Provence-Alpes-Côte d'Azur",
          "Saint-Pierre-et-Miquelon",
          "Wallis-et-Futuna",
          "Île-de-France"
         ],
         "xaxis": "x",
         "y": [
          23136,
          10643,
          12965,
          9256,
          454,
          1300,
          18655,
          1084,
          297,
          20943,
          3538,
          1447,
          430,
          12839,
          18494,
          565,
          14875,
          13853,
          808,
          9457,
          22,
          98,
          21894
         ],
         "yaxis": "y"
        },
        {
         "alignmentgroup": "True",
         "hovertemplate": "Candidat=Nicolas DUPONT-AIGNAN<br>Région=%{x}<br>Nombre de voix=%{y}<extra></extra>",
         "legendgroup": "Nicolas DUPONT-AIGNAN",
         "marker": {
          "color": "#B6E880",
          "pattern": {
           "shape": ""
          }
         },
         "name": "Nicolas DUPONT-AIGNAN",
         "offsetgroup": "Nicolas DUPONT-AIGNAN",
         "orientation": "v",
         "showlegend": true,
         "textposition": "auto",
         "type": "bar",
         "x": [
          "Auvergne-Rhône-Alpes",
          "Bourgogne-Franche-Comté",
          "Bretagne",
          "Centre-Val de Loire",
          "Corse",
          "Français de l'étranger",
          "Grand Est",
          "Guadeloupe",
          "Guyane",
          "Hauts-de-France",
          "La Réunion",
          "Martinique",
          "Mayotte",
          "Normandie",
          "Nouvelle-Aquitaine",
          "Nouvelle-Calédonie",
          "Occitanie",
          "Pays de la Loire",
          "Polynésie française",
          "Provence-Alpes-Côte d'Azur",
          "Saint-Pierre-et-Miquelon",
          "Wallis-et-Futuna",
          "Île-de-France"
         ],
         "xaxis": "x",
         "y": [
          98446,
          38691,
          35116,
          31759,
          2589,
          7074,
          74916,
          2114,
          717,
          55386,
          8338,
          2989,
          530,
          38560,
          67645,
          2697,
          63243,
          44215,
          1969,
          60186,
          82,
          244,
          87331
         ],
         "yaxis": "y"
        },
        {
         "alignmentgroup": "True",
         "hovertemplate": "Candidat=Philippe POUTOU<br>Région=%{x}<br>Nombre de voix=%{y}<extra></extra>",
         "legendgroup": "Philippe POUTOU",
         "marker": {
          "color": "#FF97FF",
          "pattern": {
           "shape": ""
          }
         },
         "name": "Philippe POUTOU",
         "offsetgroup": "Philippe POUTOU",
         "orientation": "v",
         "showlegend": true,
         "textposition": "auto",
         "type": "bar",
         "x": [
          "Auvergne-Rhône-Alpes",
          "Bourgogne-Franche-Comté",
          "Bretagne",
          "Centre-Val de Loire",
          "Corse",
          "Français de l'étranger",
          "Grand Est",
          "Guadeloupe",
          "Guyane",
          "Hauts-de-France",
          "La Réunion",
          "Martinique",
          "Mayotte",
          "Normandie",
          "Nouvelle-Aquitaine",
          "Nouvelle-Calédonie",
          "Occitanie",
          "Pays de la Loire",
          "Polynésie française",
          "Provence-Alpes-Côte d'Azur",
          "Saint-Pierre-et-Miquelon",
          "Wallis-et-Futuna",
          "Île-de-France"
         ],
         "xaxis": "x",
         "y": [
          30586,
          12738,
          19913,
          11226,
          1370,
          3145,
          22241,
          713,
          462,
          21125,
          2705,
          977,
          328,
          16005,
          32597,
          560,
          23891,
          18441,
          451,
          16219,
          50,
          48,
          33050
         ],
         "yaxis": "y"
        },
        {
         "alignmentgroup": "True",
         "hovertemplate": "Candidat=Valérie PÉCRESSE<br>Région=%{x}<br>Nombre de voix=%{y}<extra></extra>",
         "legendgroup": "Valérie PÉCRESSE",
         "marker": {
          "color": "#FECB52",
          "pattern": {
           "shape": ""
          }
         },
         "name": "Valérie PÉCRESSE",
         "offsetgroup": "Valérie PÉCRESSE",
         "orientation": "v",
         "showlegend": true,
         "textposition": "auto",
         "type": "bar",
         "x": [
          "Auvergne-Rhône-Alpes",
          "Bourgogne-Franche-Comté",
          "Bretagne",
          "Centre-Val de Loire",
          "Corse",
          "Français de l'étranger",
          "Grand Est",
          "Guadeloupe",
          "Guyane",
          "Hauts-de-France",
          "La Réunion",
          "Martinique",
          "Mayotte",
          "Normandie",
          "Nouvelle-Aquitaine",
          "Nouvelle-Calédonie",
          "Occitanie",
          "Pays de la Loire",
          "Polynésie française",
          "Provence-Alpes-Côte d'Azur",
          "Saint-Pierre-et-Miquelon",
          "Wallis-et-Futuna",
          "Île-de-France"
         ],
         "xaxis": "x",
         "y": [
          217881,
          76655,
          92808,
          71690,
          9327,
          20956,
          120917,
          3979,
          997,
          107527,
          9738,
          4731,
          2810,
          79800,
          157205,
          4144,
          129101,
          106786,
          4725,
          116094,
          51,
          1354,
          339371
         ],
         "yaxis": "y"
        },
        {
         "alignmentgroup": "True",
         "hovertemplate": "Candidat=Yannick JADOT<br>Région=%{x}<br>Nombre de voix=%{y}<extra></extra>",
         "legendgroup": "Yannick JADOT",
         "marker": {
          "color": "#636efa",
          "pattern": {
           "shape": ""
          }
         },
         "name": "Yannick JADOT",
         "offsetgroup": "Yannick JADOT",
         "orientation": "v",
         "showlegend": true,
         "textposition": "auto",
         "type": "bar",
         "x": [
          "Auvergne-Rhône-Alpes",
          "Bourgogne-Franche-Comté",
          "Bretagne",
          "Centre-Val de Loire",
          "Corse",
          "Français de l'étranger",
          "Grand Est",
          "Guadeloupe",
          "Guyane",
          "Hauts-de-France",
          "La Réunion",
          "Martinique",
          "Mayotte",
          "Normandie",
          "Nouvelle-Aquitaine",
          "Nouvelle-Calédonie",
          "Occitanie",
          "Pays de la Loire",
          "Polynésie française",
          "Provence-Alpes-Côte d'Azur",
          "Saint-Pierre-et-Miquelon",
          "Wallis-et-Futuna",
          "Île-de-France"
         ],
         "xaxis": "x",
         "y": [
          224710,
          60235,
          122198,
          54401,
          4786,
          40774,
          111953,
          1927,
          940,
          95164,
          7994,
          1978,
          295,
          73269,
          151714,
          2161,
          139122,
          127935,
          2150,
          107625,
          116,
          72,
          296087
         ],
         "yaxis": "y"
        },
        {
         "alignmentgroup": "True",
         "hovertemplate": "Candidat=abstentions<br>Région=%{x}<br>Nombre de voix=%{y}<extra></extra>",
         "legendgroup": "abstentions",
         "marker": {
          "color": "#EF553B",
          "pattern": {
           "shape": ""
          }
         },
         "name": "abstentions",
         "offsetgroup": "abstentions",
         "orientation": "v",
         "showlegend": true,
         "textposition": "auto",
         "type": "bar",
         "x": [
          "Auvergne-Rhône-Alpes",
          "Bourgogne-Franche-Comté",
          "Bretagne",
          "Centre-Val de Loire",
          "Corse",
          "Français de l'étranger",
          "Grand Est",
          "Guadeloupe",
          "Guyane",
          "Hauts-de-France",
          "La Réunion",
          "Martinique",
          "Mayotte",
          "Normandie",
          "Nouvelle-Aquitaine",
          "Nouvelle-Calédonie",
          "Occitanie",
          "Pays de la Loire",
          "Polynésie française",
          "Provence-Alpes-Côte d'Azur",
          "Saint-Pierre-et-Miquelon",
          "Wallis-et-Futuna",
          "Île-de-France"
         ],
         "xaxis": "x",
         "y": [
          1228490,
          456682,
          543414,
          459528,
          90629,
          931455,
          1008344,
          174592,
          65754,
          1146209,
          313159,
          174588,
          55024,
          590804,
          962499,
          145807,
          940541,
          652018,
          142121,
          959575,
          2272,
          4125,
          1760727
         ],
         "yaxis": "y"
        },
        {
         "alignmentgroup": "True",
         "hovertemplate": "Candidat=blancs<br>Région=%{x}<br>Nombre de voix=%{y}<extra></extra>",
         "legendgroup": "blancs",
         "marker": {
          "color": "#00cc96",
          "pattern": {
           "shape": ""
          }
         },
         "name": "blancs",
         "offsetgroup": "blancs",
         "orientation": "v",
         "showlegend": true,
         "textposition": "auto",
         "type": "bar",
         "x": [
          "Auvergne-Rhône-Alpes",
          "Bourgogne-Franche-Comté",
          "Bretagne",
          "Centre-Val de Loire",
          "Corse",
          "Français de l'étranger",
          "Grand Est",
          "Guadeloupe",
          "Guyane",
          "Hauts-de-France",
          "La Réunion",
          "Martinique",
          "Mayotte",
          "Normandie",
          "Nouvelle-Aquitaine",
          "Nouvelle-Calédonie",
          "Occitanie",
          "Pays de la Loire",
          "Polynésie française",
          "Provence-Alpes-Côte d'Azur",
          "Saint-Pierre-et-Miquelon",
          "Wallis-et-Futuna",
          "Île-de-France"
         ],
         "xaxis": "x",
         "y": [
          70067,
          26392,
          31884,
          23216,
          2593,
          3193,
          42255,
          2719,
          825,
          42945,
          7361,
          4001,
          922,
          28947,
          53440,
          1777,
          47891,
          38934,
          1490,
          35917,
          47,
          27,
          76616
         ],
         "yaxis": "y"
        },
        {
         "alignmentgroup": "True",
         "hovertemplate": "Candidat=nuls<br>Région=%{x}<br>Nombre de voix=%{y}<extra></extra>",
         "legendgroup": "nuls",
         "marker": {
          "color": "#ab63fa",
          "pattern": {
           "shape": ""
          }
         },
         "name": "nuls",
         "offsetgroup": "nuls",
         "orientation": "v",
         "showlegend": true,
         "textposition": "auto",
         "type": "bar",
         "x": [
          "Auvergne-Rhône-Alpes",
          "Bourgogne-Franche-Comté",
          "Bretagne",
          "Centre-Val de Loire",
          "Corse",
          "Français de l'étranger",
          "Grand Est",
          "Guadeloupe",
          "Guyane",
          "Hauts-de-France",
          "La Réunion",
          "Martinique",
          "Mayotte",
          "Normandie",
          "Nouvelle-Aquitaine",
          "Nouvelle-Calédonie",
          "Occitanie",
          "Pays de la Loire",
          "Polynésie française",
          "Provence-Alpes-Côte d'Azur",
          "Saint-Pierre-et-Miquelon",
          "Wallis-et-Futuna",
          "Île-de-France"
         ],
         "xaxis": "x",
         "y": [
          25512,
          11621,
          13245,
          9311,
          2438,
          2147,
          18647,
          3627,
          553,
          24270,
          8253,
          3056,
          1191,
          10533,
          27129,
          689,
          24876,
          14554,
          1935,
          15471,
          25,
          17,
          27967
         ],
         "yaxis": "y"
        },
        {
         "alignmentgroup": "True",
         "hovertemplate": "Candidat=Éric ZEMMOUR<br>Région=%{x}<br>Nombre de voix=%{y}<extra></extra>",
         "legendgroup": "Éric ZEMMOUR",
         "marker": {
          "color": "#FFA15A",
          "pattern": {
           "shape": ""
          }
         },
         "name": "Éric ZEMMOUR",
         "offsetgroup": "Éric ZEMMOUR",
         "orientation": "v",
         "showlegend": true,
         "textposition": "auto",
         "type": "bar",
         "x": [
          "Auvergne-Rhône-Alpes",
          "Bourgogne-Franche-Comté",
          "Bretagne",
          "Centre-Val de Loire",
          "Corse",
          "Français de l'étranger",
          "Grand Est",
          "Guadeloupe",
          "Guyane",
          "Hauts-de-France",
          "La Réunion",
          "Martinique",
          "Mayotte",
          "Normandie",
          "Nouvelle-Aquitaine",
          "Nouvelle-Calédonie",
          "Occitanie",
          "Pays de la Loire",
          "Polynésie française",
          "Provence-Alpes-Côte d'Azur",
          "Saint-Pierre-et-Miquelon",
          "Wallis-et-Futuna",
          "Île-de-France"
         ],
         "xaxis": "x",
         "y": [
          312881,
          107057,
          96984,
          88575,
          18856,
          43252,
          200256,
          3098,
          1573,
          179416,
          13070,
          3153,
          482,
          99446,
          210476,
          6435,
          260127,
          114388,
          4283,
          310717,
          80,
          118,
          409396
         ],
         "yaxis": "y"
        }
       ],
       "layout": {
        "barmode": "stack",
        "legend": {
         "title": {
          "text": "Candidat"
         },
         "tracegroupgap": 0
        },
        "template": {
         "data": {
          "bar": [
           {
            "error_x": {
             "color": "#2a3f5f"
            },
            "error_y": {
             "color": "#2a3f5f"
            },
            "marker": {
             "line": {
              "color": "#E5ECF6",
              "width": 0.5
             },
             "pattern": {
              "fillmode": "overlay",
              "size": 10,
              "solidity": 0.2
             }
            },
            "type": "bar"
           }
          ],
          "barpolar": [
           {
            "marker": {
             "line": {
              "color": "#E5ECF6",
              "width": 0.5
             },
             "pattern": {
              "fillmode": "overlay",
              "size": 10,
              "solidity": 0.2
             }
            },
            "type": "barpolar"
           }
          ],
          "carpet": [
           {
            "aaxis": {
             "endlinecolor": "#2a3f5f",
             "gridcolor": "white",
             "linecolor": "white",
             "minorgridcolor": "white",
             "startlinecolor": "#2a3f5f"
            },
            "baxis": {
             "endlinecolor": "#2a3f5f",
             "gridcolor": "white",
             "linecolor": "white",
             "minorgridcolor": "white",
             "startlinecolor": "#2a3f5f"
            },
            "type": "carpet"
           }
          ],
          "choropleth": [
           {
            "colorbar": {
             "outlinewidth": 0,
             "ticks": ""
            },
            "type": "choropleth"
           }
          ],
          "contour": [
           {
            "colorbar": {
             "outlinewidth": 0,
             "ticks": ""
            },
            "colorscale": [
             [
              0,
              "#0d0887"
             ],
             [
              0.1111111111111111,
              "#46039f"
             ],
             [
              0.2222222222222222,
              "#7201a8"
             ],
             [
              0.3333333333333333,
              "#9c179e"
             ],
             [
              0.4444444444444444,
              "#bd3786"
             ],
             [
              0.5555555555555556,
              "#d8576b"
             ],
             [
              0.6666666666666666,
              "#ed7953"
             ],
             [
              0.7777777777777778,
              "#fb9f3a"
             ],
             [
              0.8888888888888888,
              "#fdca26"
             ],
             [
              1,
              "#f0f921"
             ]
            ],
            "type": "contour"
           }
          ],
          "contourcarpet": [
           {
            "colorbar": {
             "outlinewidth": 0,
             "ticks": ""
            },
            "type": "contourcarpet"
           }
          ],
          "heatmap": [
           {
            "colorbar": {
             "outlinewidth": 0,
             "ticks": ""
            },
            "colorscale": [
             [
              0,
              "#0d0887"
             ],
             [
              0.1111111111111111,
              "#46039f"
             ],
             [
              0.2222222222222222,
              "#7201a8"
             ],
             [
              0.3333333333333333,
              "#9c179e"
             ],
             [
              0.4444444444444444,
              "#bd3786"
             ],
             [
              0.5555555555555556,
              "#d8576b"
             ],
             [
              0.6666666666666666,
              "#ed7953"
             ],
             [
              0.7777777777777778,
              "#fb9f3a"
             ],
             [
              0.8888888888888888,
              "#fdca26"
             ],
             [
              1,
              "#f0f921"
             ]
            ],
            "type": "heatmap"
           }
          ],
          "heatmapgl": [
           {
            "colorbar": {
             "outlinewidth": 0,
             "ticks": ""
            },
            "colorscale": [
             [
              0,
              "#0d0887"
             ],
             [
              0.1111111111111111,
              "#46039f"
             ],
             [
              0.2222222222222222,
              "#7201a8"
             ],
             [
              0.3333333333333333,
              "#9c179e"
             ],
             [
              0.4444444444444444,
              "#bd3786"
             ],
             [
              0.5555555555555556,
              "#d8576b"
             ],
             [
              0.6666666666666666,
              "#ed7953"
             ],
             [
              0.7777777777777778,
              "#fb9f3a"
             ],
             [
              0.8888888888888888,
              "#fdca26"
             ],
             [
              1,
              "#f0f921"
             ]
            ],
            "type": "heatmapgl"
           }
          ],
          "histogram": [
           {
            "marker": {
             "pattern": {
              "fillmode": "overlay",
              "size": 10,
              "solidity": 0.2
             }
            },
            "type": "histogram"
           }
          ],
          "histogram2d": [
           {
            "colorbar": {
             "outlinewidth": 0,
             "ticks": ""
            },
            "colorscale": [
             [
              0,
              "#0d0887"
             ],
             [
              0.1111111111111111,
              "#46039f"
             ],
             [
              0.2222222222222222,
              "#7201a8"
             ],
             [
              0.3333333333333333,
              "#9c179e"
             ],
             [
              0.4444444444444444,
              "#bd3786"
             ],
             [
              0.5555555555555556,
              "#d8576b"
             ],
             [
              0.6666666666666666,
              "#ed7953"
             ],
             [
              0.7777777777777778,
              "#fb9f3a"
             ],
             [
              0.8888888888888888,
              "#fdca26"
             ],
             [
              1,
              "#f0f921"
             ]
            ],
            "type": "histogram2d"
           }
          ],
          "histogram2dcontour": [
           {
            "colorbar": {
             "outlinewidth": 0,
             "ticks": ""
            },
            "colorscale": [
             [
              0,
              "#0d0887"
             ],
             [
              0.1111111111111111,
              "#46039f"
             ],
             [
              0.2222222222222222,
              "#7201a8"
             ],
             [
              0.3333333333333333,
              "#9c179e"
             ],
             [
              0.4444444444444444,
              "#bd3786"
             ],
             [
              0.5555555555555556,
              "#d8576b"
             ],
             [
              0.6666666666666666,
              "#ed7953"
             ],
             [
              0.7777777777777778,
              "#fb9f3a"
             ],
             [
              0.8888888888888888,
              "#fdca26"
             ],
             [
              1,
              "#f0f921"
             ]
            ],
            "type": "histogram2dcontour"
           }
          ],
          "mesh3d": [
           {
            "colorbar": {
             "outlinewidth": 0,
             "ticks": ""
            },
            "type": "mesh3d"
           }
          ],
          "parcoords": [
           {
            "line": {
             "colorbar": {
              "outlinewidth": 0,
              "ticks": ""
             }
            },
            "type": "parcoords"
           }
          ],
          "pie": [
           {
            "automargin": true,
            "type": "pie"
           }
          ],
          "scatter": [
           {
            "fillpattern": {
             "fillmode": "overlay",
             "size": 10,
             "solidity": 0.2
            },
            "type": "scatter"
           }
          ],
          "scatter3d": [
           {
            "line": {
             "colorbar": {
              "outlinewidth": 0,
              "ticks": ""
             }
            },
            "marker": {
             "colorbar": {
              "outlinewidth": 0,
              "ticks": ""
             }
            },
            "type": "scatter3d"
           }
          ],
          "scattercarpet": [
           {
            "marker": {
             "colorbar": {
              "outlinewidth": 0,
              "ticks": ""
             }
            },
            "type": "scattercarpet"
           }
          ],
          "scattergeo": [
           {
            "marker": {
             "colorbar": {
              "outlinewidth": 0,
              "ticks": ""
             }
            },
            "type": "scattergeo"
           }
          ],
          "scattergl": [
           {
            "marker": {
             "colorbar": {
              "outlinewidth": 0,
              "ticks": ""
             }
            },
            "type": "scattergl"
           }
          ],
          "scattermapbox": [
           {
            "marker": {
             "colorbar": {
              "outlinewidth": 0,
              "ticks": ""
             }
            },
            "type": "scattermapbox"
           }
          ],
          "scatterpolar": [
           {
            "marker": {
             "colorbar": {
              "outlinewidth": 0,
              "ticks": ""
             }
            },
            "type": "scatterpolar"
           }
          ],
          "scatterpolargl": [
           {
            "marker": {
             "colorbar": {
              "outlinewidth": 0,
              "ticks": ""
             }
            },
            "type": "scatterpolargl"
           }
          ],
          "scatterternary": [
           {
            "marker": {
             "colorbar": {
              "outlinewidth": 0,
              "ticks": ""
             }
            },
            "type": "scatterternary"
           }
          ],
          "surface": [
           {
            "colorbar": {
             "outlinewidth": 0,
             "ticks": ""
            },
            "colorscale": [
             [
              0,
              "#0d0887"
             ],
             [
              0.1111111111111111,
              "#46039f"
             ],
             [
              0.2222222222222222,
              "#7201a8"
             ],
             [
              0.3333333333333333,
              "#9c179e"
             ],
             [
              0.4444444444444444,
              "#bd3786"
             ],
             [
              0.5555555555555556,
              "#d8576b"
             ],
             [
              0.6666666666666666,
              "#ed7953"
             ],
             [
              0.7777777777777778,
              "#fb9f3a"
             ],
             [
              0.8888888888888888,
              "#fdca26"
             ],
             [
              1,
              "#f0f921"
             ]
            ],
            "type": "surface"
           }
          ],
          "table": [
           {
            "cells": {
             "fill": {
              "color": "#EBF0F8"
             },
             "line": {
              "color": "white"
             }
            },
            "header": {
             "fill": {
              "color": "#C8D4E3"
             },
             "line": {
              "color": "white"
             }
            },
            "type": "table"
           }
          ]
         },
         "layout": {
          "annotationdefaults": {
           "arrowcolor": "#2a3f5f",
           "arrowhead": 0,
           "arrowwidth": 1
          },
          "autotypenumbers": "strict",
          "coloraxis": {
           "colorbar": {
            "outlinewidth": 0,
            "ticks": ""
           }
          },
          "colorscale": {
           "diverging": [
            [
             0,
             "#8e0152"
            ],
            [
             0.1,
             "#c51b7d"
            ],
            [
             0.2,
             "#de77ae"
            ],
            [
             0.3,
             "#f1b6da"
            ],
            [
             0.4,
             "#fde0ef"
            ],
            [
             0.5,
             "#f7f7f7"
            ],
            [
             0.6,
             "#e6f5d0"
            ],
            [
             0.7,
             "#b8e186"
            ],
            [
             0.8,
             "#7fbc41"
            ],
            [
             0.9,
             "#4d9221"
            ],
            [
             1,
             "#276419"
            ]
           ],
           "sequential": [
            [
             0,
             "#0d0887"
            ],
            [
             0.1111111111111111,
             "#46039f"
            ],
            [
             0.2222222222222222,
             "#7201a8"
            ],
            [
             0.3333333333333333,
             "#9c179e"
            ],
            [
             0.4444444444444444,
             "#bd3786"
            ],
            [
             0.5555555555555556,
             "#d8576b"
            ],
            [
             0.6666666666666666,
             "#ed7953"
            ],
            [
             0.7777777777777778,
             "#fb9f3a"
            ],
            [
             0.8888888888888888,
             "#fdca26"
            ],
            [
             1,
             "#f0f921"
            ]
           ],
           "sequentialminus": [
            [
             0,
             "#0d0887"
            ],
            [
             0.1111111111111111,
             "#46039f"
            ],
            [
             0.2222222222222222,
             "#7201a8"
            ],
            [
             0.3333333333333333,
             "#9c179e"
            ],
            [
             0.4444444444444444,
             "#bd3786"
            ],
            [
             0.5555555555555556,
             "#d8576b"
            ],
            [
             0.6666666666666666,
             "#ed7953"
            ],
            [
             0.7777777777777778,
             "#fb9f3a"
            ],
            [
             0.8888888888888888,
             "#fdca26"
            ],
            [
             1,
             "#f0f921"
            ]
           ]
          },
          "colorway": [
           "#636efa",
           "#EF553B",
           "#00cc96",
           "#ab63fa",
           "#FFA15A",
           "#19d3f3",
           "#FF6692",
           "#B6E880",
           "#FF97FF",
           "#FECB52"
          ],
          "font": {
           "color": "#2a3f5f"
          },
          "geo": {
           "bgcolor": "white",
           "lakecolor": "white",
           "landcolor": "#E5ECF6",
           "showlakes": true,
           "showland": true,
           "subunitcolor": "white"
          },
          "hoverlabel": {
           "align": "left"
          },
          "hovermode": "closest",
          "mapbox": {
           "style": "light"
          },
          "paper_bgcolor": "white",
          "plot_bgcolor": "#E5ECF6",
          "polar": {
           "angularaxis": {
            "gridcolor": "white",
            "linecolor": "white",
            "ticks": ""
           },
           "bgcolor": "#E5ECF6",
           "radialaxis": {
            "gridcolor": "white",
            "linecolor": "white",
            "ticks": ""
           }
          },
          "scene": {
           "xaxis": {
            "backgroundcolor": "#E5ECF6",
            "gridcolor": "white",
            "gridwidth": 2,
            "linecolor": "white",
            "showbackground": true,
            "ticks": "",
            "zerolinecolor": "white"
           },
           "yaxis": {
            "backgroundcolor": "#E5ECF6",
            "gridcolor": "white",
            "gridwidth": 2,
            "linecolor": "white",
            "showbackground": true,
            "ticks": "",
            "zerolinecolor": "white"
           },
           "zaxis": {
            "backgroundcolor": "#E5ECF6",
            "gridcolor": "white",
            "gridwidth": 2,
            "linecolor": "white",
            "showbackground": true,
            "ticks": "",
            "zerolinecolor": "white"
           }
          },
          "shapedefaults": {
           "line": {
            "color": "#2a3f5f"
           }
          },
          "ternary": {
           "aaxis": {
            "gridcolor": "white",
            "linecolor": "white",
            "ticks": ""
           },
           "baxis": {
            "gridcolor": "white",
            "linecolor": "white",
            "ticks": ""
           },
           "bgcolor": "#E5ECF6",
           "caxis": {
            "gridcolor": "white",
            "linecolor": "white",
            "ticks": ""
           }
          },
          "title": {
           "x": 0.05
          },
          "xaxis": {
           "automargin": true,
           "gridcolor": "white",
           "linecolor": "white",
           "ticks": "",
           "title": {
            "standoff": 15
           },
           "zerolinecolor": "white",
           "zerolinewidth": 2
          },
          "yaxis": {
           "automargin": true,
           "gridcolor": "white",
           "linecolor": "white",
           "ticks": "",
           "title": {
            "standoff": 15
           },
           "zerolinecolor": "white",
           "zerolinewidth": 2
          }
         }
        },
        "title": {
         "text": "Nombre de voix par candidat selon la Région"
        },
        "xaxis": {
         "anchor": "y",
         "domain": [
          0,
          1
         ],
         "title": {
          "text": "Région"
         }
        },
        "yaxis": {
         "anchor": "x",
         "domain": [
          0,
          1
         ],
         "title": {
          "text": "Nombre de voix"
         }
        }
       }
      }
     },
     "metadata": {},
     "output_type": "display_data"
    }
   ],
   "source": [
    "#Résultat par Candidat et par département sans les abstentions, blancs et nuls\n",
    "fig = px.bar(\n",
    "    result_region,\n",
    "    x=\"region\",\n",
    "    y=\"nb_voix\",\n",
    "    color=\"nom_complet\",\n",
    "    title=\"Nombre de voix par candidat selon la Région\",\n",
    "    labels={\"region\": \"Région\", \"nb_voix\": \"Nombre de voix\", \"nom_complet\": \"Candidat\"},\n",
    "    barmode=\"stack\",\n",
    ")\n",
    "\n",
    "# Afficher le graphique\n",
    "fig.show()"
   ]
  },
  {
   "cell_type": "markdown",
   "metadata": {},
   "source": [
    "A APPLIQUER AU DF CI-DESSUS"
   ]
  },
  {
   "cell_type": "markdown",
   "metadata": {},
   "source": [
    "#### Répartition Gauche/Droite"
   ]
  },
  {
   "cell_type": "code",
   "execution_count": 14,
   "metadata": {},
   "outputs": [
    {
     "data": {
      "text/html": [
       "<div>\n",
       "<style scoped>\n",
       "    .dataframe tbody tr th:only-of-type {\n",
       "        vertical-align: middle;\n",
       "    }\n",
       "\n",
       "    .dataframe tbody tr th {\n",
       "        vertical-align: top;\n",
       "    }\n",
       "\n",
       "    .dataframe thead th {\n",
       "        text-align: right;\n",
       "    }\n",
       "</style>\n",
       "<table border=\"1\" class=\"dataframe\">\n",
       "  <thead>\n",
       "    <tr style=\"text-align: right;\">\n",
       "      <th></th>\n",
       "      <th>sensibilite_politique</th>\n",
       "      <th>nb_voix</th>\n",
       "    </tr>\n",
       "  </thead>\n",
       "  <tbody>\n",
       "    <tr>\n",
       "      <th>0</th>\n",
       "      <td>Centre</td>\n",
       "      <td>10884445</td>\n",
       "    </tr>\n",
       "    <tr>\n",
       "      <th>1</th>\n",
       "      <td>Droite</td>\n",
       "      <td>13023231</td>\n",
       "    </tr>\n",
       "    <tr>\n",
       "      <th>2</th>\n",
       "      <td>Gauche</td>\n",
       "      <td>11225271</td>\n",
       "    </tr>\n",
       "    <tr>\n",
       "      <th>3</th>\n",
       "      <td>Non_comptabilise</td>\n",
       "      <td>13614929</td>\n",
       "    </tr>\n",
       "  </tbody>\n",
       "</table>\n",
       "</div>"
      ],
      "text/plain": [
       "  sensibilite_politique   nb_voix\n",
       "0                Centre  10884445\n",
       "1                Droite  13023231\n",
       "2                Gauche  11225271\n",
       "3      Non_comptabilise  13614929"
      ]
     },
     "execution_count": 14,
     "metadata": {},
     "output_type": "execute_result"
    }
   ],
   "source": [
    "result_sensibilite_politique = pd.DataFrame(df_1ertour.groupby(['sensibilite_politique'])['nb_voix'].sum().reset_index())\n",
    "result_sensibilite_politique"
   ]
  },
  {
   "cell_type": "code",
   "execution_count": 15,
   "metadata": {},
   "outputs": [
    {
     "data": {
      "application/vnd.plotly.v1+json": {
       "config": {
        "plotlyServerURL": "https://plot.ly"
       },
       "data": [
        {
         "alignmentgroup": "True",
         "hovertemplate": "sensibilite_politique=%{y}<br>Nombre de voix=%{x}<extra></extra>",
         "legendgroup": "Centre",
         "marker": {
          "color": "#636efa",
          "pattern": {
           "shape": ""
          }
         },
         "name": "Centre",
         "offsetgroup": "Centre",
         "orientation": "h",
         "showlegend": true,
         "textposition": "auto",
         "type": "bar",
         "x": [
          10884445
         ],
         "xaxis": "x",
         "y": [
          "Centre"
         ],
         "yaxis": "y"
        },
        {
         "alignmentgroup": "True",
         "hovertemplate": "sensibilite_politique=%{y}<br>Nombre de voix=%{x}<extra></extra>",
         "legendgroup": "Droite",
         "marker": {
          "color": "#EF553B",
          "pattern": {
           "shape": ""
          }
         },
         "name": "Droite",
         "offsetgroup": "Droite",
         "orientation": "h",
         "showlegend": true,
         "textposition": "auto",
         "type": "bar",
         "x": [
          13023231
         ],
         "xaxis": "x",
         "y": [
          "Droite"
         ],
         "yaxis": "y"
        },
        {
         "alignmentgroup": "True",
         "hovertemplate": "sensibilite_politique=%{y}<br>Nombre de voix=%{x}<extra></extra>",
         "legendgroup": "Gauche",
         "marker": {
          "color": "#00cc96",
          "pattern": {
           "shape": ""
          }
         },
         "name": "Gauche",
         "offsetgroup": "Gauche",
         "orientation": "h",
         "showlegend": true,
         "textposition": "auto",
         "type": "bar",
         "x": [
          11225271
         ],
         "xaxis": "x",
         "y": [
          "Gauche"
         ],
         "yaxis": "y"
        },
        {
         "alignmentgroup": "True",
         "hovertemplate": "sensibilite_politique=%{y}<br>Nombre de voix=%{x}<extra></extra>",
         "legendgroup": "Non_comptabilise",
         "marker": {
          "color": "#ab63fa",
          "pattern": {
           "shape": ""
          }
         },
         "name": "Non_comptabilise",
         "offsetgroup": "Non_comptabilise",
         "orientation": "h",
         "showlegend": true,
         "textposition": "auto",
         "type": "bar",
         "x": [
          13614929
         ],
         "xaxis": "x",
         "y": [
          "Non_comptabilise"
         ],
         "yaxis": "y"
        }
       ],
       "layout": {
        "barmode": "stack",
        "height": 500,
        "legend": {
         "title": {
          "text": "sensibilite_politique"
         },
         "tracegroupgap": 0
        },
        "template": {
         "data": {
          "bar": [
           {
            "error_x": {
             "color": "#2a3f5f"
            },
            "error_y": {
             "color": "#2a3f5f"
            },
            "marker": {
             "line": {
              "color": "#E5ECF6",
              "width": 0.5
             },
             "pattern": {
              "fillmode": "overlay",
              "size": 10,
              "solidity": 0.2
             }
            },
            "type": "bar"
           }
          ],
          "barpolar": [
           {
            "marker": {
             "line": {
              "color": "#E5ECF6",
              "width": 0.5
             },
             "pattern": {
              "fillmode": "overlay",
              "size": 10,
              "solidity": 0.2
             }
            },
            "type": "barpolar"
           }
          ],
          "carpet": [
           {
            "aaxis": {
             "endlinecolor": "#2a3f5f",
             "gridcolor": "white",
             "linecolor": "white",
             "minorgridcolor": "white",
             "startlinecolor": "#2a3f5f"
            },
            "baxis": {
             "endlinecolor": "#2a3f5f",
             "gridcolor": "white",
             "linecolor": "white",
             "minorgridcolor": "white",
             "startlinecolor": "#2a3f5f"
            },
            "type": "carpet"
           }
          ],
          "choropleth": [
           {
            "colorbar": {
             "outlinewidth": 0,
             "ticks": ""
            },
            "type": "choropleth"
           }
          ],
          "contour": [
           {
            "colorbar": {
             "outlinewidth": 0,
             "ticks": ""
            },
            "colorscale": [
             [
              0,
              "#0d0887"
             ],
             [
              0.1111111111111111,
              "#46039f"
             ],
             [
              0.2222222222222222,
              "#7201a8"
             ],
             [
              0.3333333333333333,
              "#9c179e"
             ],
             [
              0.4444444444444444,
              "#bd3786"
             ],
             [
              0.5555555555555556,
              "#d8576b"
             ],
             [
              0.6666666666666666,
              "#ed7953"
             ],
             [
              0.7777777777777778,
              "#fb9f3a"
             ],
             [
              0.8888888888888888,
              "#fdca26"
             ],
             [
              1,
              "#f0f921"
             ]
            ],
            "type": "contour"
           }
          ],
          "contourcarpet": [
           {
            "colorbar": {
             "outlinewidth": 0,
             "ticks": ""
            },
            "type": "contourcarpet"
           }
          ],
          "heatmap": [
           {
            "colorbar": {
             "outlinewidth": 0,
             "ticks": ""
            },
            "colorscale": [
             [
              0,
              "#0d0887"
             ],
             [
              0.1111111111111111,
              "#46039f"
             ],
             [
              0.2222222222222222,
              "#7201a8"
             ],
             [
              0.3333333333333333,
              "#9c179e"
             ],
             [
              0.4444444444444444,
              "#bd3786"
             ],
             [
              0.5555555555555556,
              "#d8576b"
             ],
             [
              0.6666666666666666,
              "#ed7953"
             ],
             [
              0.7777777777777778,
              "#fb9f3a"
             ],
             [
              0.8888888888888888,
              "#fdca26"
             ],
             [
              1,
              "#f0f921"
             ]
            ],
            "type": "heatmap"
           }
          ],
          "heatmapgl": [
           {
            "colorbar": {
             "outlinewidth": 0,
             "ticks": ""
            },
            "colorscale": [
             [
              0,
              "#0d0887"
             ],
             [
              0.1111111111111111,
              "#46039f"
             ],
             [
              0.2222222222222222,
              "#7201a8"
             ],
             [
              0.3333333333333333,
              "#9c179e"
             ],
             [
              0.4444444444444444,
              "#bd3786"
             ],
             [
              0.5555555555555556,
              "#d8576b"
             ],
             [
              0.6666666666666666,
              "#ed7953"
             ],
             [
              0.7777777777777778,
              "#fb9f3a"
             ],
             [
              0.8888888888888888,
              "#fdca26"
             ],
             [
              1,
              "#f0f921"
             ]
            ],
            "type": "heatmapgl"
           }
          ],
          "histogram": [
           {
            "marker": {
             "pattern": {
              "fillmode": "overlay",
              "size": 10,
              "solidity": 0.2
             }
            },
            "type": "histogram"
           }
          ],
          "histogram2d": [
           {
            "colorbar": {
             "outlinewidth": 0,
             "ticks": ""
            },
            "colorscale": [
             [
              0,
              "#0d0887"
             ],
             [
              0.1111111111111111,
              "#46039f"
             ],
             [
              0.2222222222222222,
              "#7201a8"
             ],
             [
              0.3333333333333333,
              "#9c179e"
             ],
             [
              0.4444444444444444,
              "#bd3786"
             ],
             [
              0.5555555555555556,
              "#d8576b"
             ],
             [
              0.6666666666666666,
              "#ed7953"
             ],
             [
              0.7777777777777778,
              "#fb9f3a"
             ],
             [
              0.8888888888888888,
              "#fdca26"
             ],
             [
              1,
              "#f0f921"
             ]
            ],
            "type": "histogram2d"
           }
          ],
          "histogram2dcontour": [
           {
            "colorbar": {
             "outlinewidth": 0,
             "ticks": ""
            },
            "colorscale": [
             [
              0,
              "#0d0887"
             ],
             [
              0.1111111111111111,
              "#46039f"
             ],
             [
              0.2222222222222222,
              "#7201a8"
             ],
             [
              0.3333333333333333,
              "#9c179e"
             ],
             [
              0.4444444444444444,
              "#bd3786"
             ],
             [
              0.5555555555555556,
              "#d8576b"
             ],
             [
              0.6666666666666666,
              "#ed7953"
             ],
             [
              0.7777777777777778,
              "#fb9f3a"
             ],
             [
              0.8888888888888888,
              "#fdca26"
             ],
             [
              1,
              "#f0f921"
             ]
            ],
            "type": "histogram2dcontour"
           }
          ],
          "mesh3d": [
           {
            "colorbar": {
             "outlinewidth": 0,
             "ticks": ""
            },
            "type": "mesh3d"
           }
          ],
          "parcoords": [
           {
            "line": {
             "colorbar": {
              "outlinewidth": 0,
              "ticks": ""
             }
            },
            "type": "parcoords"
           }
          ],
          "pie": [
           {
            "automargin": true,
            "type": "pie"
           }
          ],
          "scatter": [
           {
            "fillpattern": {
             "fillmode": "overlay",
             "size": 10,
             "solidity": 0.2
            },
            "type": "scatter"
           }
          ],
          "scatter3d": [
           {
            "line": {
             "colorbar": {
              "outlinewidth": 0,
              "ticks": ""
             }
            },
            "marker": {
             "colorbar": {
              "outlinewidth": 0,
              "ticks": ""
             }
            },
            "type": "scatter3d"
           }
          ],
          "scattercarpet": [
           {
            "marker": {
             "colorbar": {
              "outlinewidth": 0,
              "ticks": ""
             }
            },
            "type": "scattercarpet"
           }
          ],
          "scattergeo": [
           {
            "marker": {
             "colorbar": {
              "outlinewidth": 0,
              "ticks": ""
             }
            },
            "type": "scattergeo"
           }
          ],
          "scattergl": [
           {
            "marker": {
             "colorbar": {
              "outlinewidth": 0,
              "ticks": ""
             }
            },
            "type": "scattergl"
           }
          ],
          "scattermapbox": [
           {
            "marker": {
             "colorbar": {
              "outlinewidth": 0,
              "ticks": ""
             }
            },
            "type": "scattermapbox"
           }
          ],
          "scatterpolar": [
           {
            "marker": {
             "colorbar": {
              "outlinewidth": 0,
              "ticks": ""
             }
            },
            "type": "scatterpolar"
           }
          ],
          "scatterpolargl": [
           {
            "marker": {
             "colorbar": {
              "outlinewidth": 0,
              "ticks": ""
             }
            },
            "type": "scatterpolargl"
           }
          ],
          "scatterternary": [
           {
            "marker": {
             "colorbar": {
              "outlinewidth": 0,
              "ticks": ""
             }
            },
            "type": "scatterternary"
           }
          ],
          "surface": [
           {
            "colorbar": {
             "outlinewidth": 0,
             "ticks": ""
            },
            "colorscale": [
             [
              0,
              "#0d0887"
             ],
             [
              0.1111111111111111,
              "#46039f"
             ],
             [
              0.2222222222222222,
              "#7201a8"
             ],
             [
              0.3333333333333333,
              "#9c179e"
             ],
             [
              0.4444444444444444,
              "#bd3786"
             ],
             [
              0.5555555555555556,
              "#d8576b"
             ],
             [
              0.6666666666666666,
              "#ed7953"
             ],
             [
              0.7777777777777778,
              "#fb9f3a"
             ],
             [
              0.8888888888888888,
              "#fdca26"
             ],
             [
              1,
              "#f0f921"
             ]
            ],
            "type": "surface"
           }
          ],
          "table": [
           {
            "cells": {
             "fill": {
              "color": "#EBF0F8"
             },
             "line": {
              "color": "white"
             }
            },
            "header": {
             "fill": {
              "color": "#C8D4E3"
             },
             "line": {
              "color": "white"
             }
            },
            "type": "table"
           }
          ]
         },
         "layout": {
          "annotationdefaults": {
           "arrowcolor": "#2a3f5f",
           "arrowhead": 0,
           "arrowwidth": 1
          },
          "autotypenumbers": "strict",
          "coloraxis": {
           "colorbar": {
            "outlinewidth": 0,
            "ticks": ""
           }
          },
          "colorscale": {
           "diverging": [
            [
             0,
             "#8e0152"
            ],
            [
             0.1,
             "#c51b7d"
            ],
            [
             0.2,
             "#de77ae"
            ],
            [
             0.3,
             "#f1b6da"
            ],
            [
             0.4,
             "#fde0ef"
            ],
            [
             0.5,
             "#f7f7f7"
            ],
            [
             0.6,
             "#e6f5d0"
            ],
            [
             0.7,
             "#b8e186"
            ],
            [
             0.8,
             "#7fbc41"
            ],
            [
             0.9,
             "#4d9221"
            ],
            [
             1,
             "#276419"
            ]
           ],
           "sequential": [
            [
             0,
             "#0d0887"
            ],
            [
             0.1111111111111111,
             "#46039f"
            ],
            [
             0.2222222222222222,
             "#7201a8"
            ],
            [
             0.3333333333333333,
             "#9c179e"
            ],
            [
             0.4444444444444444,
             "#bd3786"
            ],
            [
             0.5555555555555556,
             "#d8576b"
            ],
            [
             0.6666666666666666,
             "#ed7953"
            ],
            [
             0.7777777777777778,
             "#fb9f3a"
            ],
            [
             0.8888888888888888,
             "#fdca26"
            ],
            [
             1,
             "#f0f921"
            ]
           ],
           "sequentialminus": [
            [
             0,
             "#0d0887"
            ],
            [
             0.1111111111111111,
             "#46039f"
            ],
            [
             0.2222222222222222,
             "#7201a8"
            ],
            [
             0.3333333333333333,
             "#9c179e"
            ],
            [
             0.4444444444444444,
             "#bd3786"
            ],
            [
             0.5555555555555556,
             "#d8576b"
            ],
            [
             0.6666666666666666,
             "#ed7953"
            ],
            [
             0.7777777777777778,
             "#fb9f3a"
            ],
            [
             0.8888888888888888,
             "#fdca26"
            ],
            [
             1,
             "#f0f921"
            ]
           ]
          },
          "colorway": [
           "#636efa",
           "#EF553B",
           "#00cc96",
           "#ab63fa",
           "#FFA15A",
           "#19d3f3",
           "#FF6692",
           "#B6E880",
           "#FF97FF",
           "#FECB52"
          ],
          "font": {
           "color": "#2a3f5f"
          },
          "geo": {
           "bgcolor": "white",
           "lakecolor": "white",
           "landcolor": "#E5ECF6",
           "showlakes": true,
           "showland": true,
           "subunitcolor": "white"
          },
          "hoverlabel": {
           "align": "left"
          },
          "hovermode": "closest",
          "mapbox": {
           "style": "light"
          },
          "paper_bgcolor": "white",
          "plot_bgcolor": "#E5ECF6",
          "polar": {
           "angularaxis": {
            "gridcolor": "white",
            "linecolor": "white",
            "ticks": ""
           },
           "bgcolor": "#E5ECF6",
           "radialaxis": {
            "gridcolor": "white",
            "linecolor": "white",
            "ticks": ""
           }
          },
          "scene": {
           "xaxis": {
            "backgroundcolor": "#E5ECF6",
            "gridcolor": "white",
            "gridwidth": 2,
            "linecolor": "white",
            "showbackground": true,
            "ticks": "",
            "zerolinecolor": "white"
           },
           "yaxis": {
            "backgroundcolor": "#E5ECF6",
            "gridcolor": "white",
            "gridwidth": 2,
            "linecolor": "white",
            "showbackground": true,
            "ticks": "",
            "zerolinecolor": "white"
           },
           "zaxis": {
            "backgroundcolor": "#E5ECF6",
            "gridcolor": "white",
            "gridwidth": 2,
            "linecolor": "white",
            "showbackground": true,
            "ticks": "",
            "zerolinecolor": "white"
           }
          },
          "shapedefaults": {
           "line": {
            "color": "#2a3f5f"
           }
          },
          "ternary": {
           "aaxis": {
            "gridcolor": "white",
            "linecolor": "white",
            "ticks": ""
           },
           "baxis": {
            "gridcolor": "white",
            "linecolor": "white",
            "ticks": ""
           },
           "bgcolor": "#E5ECF6",
           "caxis": {
            "gridcolor": "white",
            "linecolor": "white",
            "ticks": ""
           }
          },
          "title": {
           "x": 0.05
          },
          "xaxis": {
           "automargin": true,
           "gridcolor": "white",
           "linecolor": "white",
           "ticks": "",
           "title": {
            "standoff": 15
           },
           "zerolinecolor": "white",
           "zerolinewidth": 2
          },
          "yaxis": {
           "automargin": true,
           "gridcolor": "white",
           "linecolor": "white",
           "ticks": "",
           "title": {
            "standoff": 15
           },
           "zerolinecolor": "white",
           "zerolinewidth": 2
          }
         }
        },
        "title": {
         "text": "Nombre de voix par sensibilite_politique"
        },
        "xaxis": {
         "anchor": "y",
         "domain": [
          0,
          1
         ],
         "title": {
          "text": "Nombre de voix"
         }
        },
        "yaxis": {
         "anchor": "x",
         "categoryarray": [
          "Non_comptabilise",
          "Gauche",
          "Droite",
          "Centre"
         ],
         "categoryorder": "array",
         "domain": [
          0,
          1
         ],
         "title": {
          "text": "sensibilite_politique"
         }
        }
       }
      }
     },
     "metadata": {},
     "output_type": "display_data"
    }
   ],
   "source": [
    "#Avec les non-Comptabilisé\n",
    "fig = px.bar(\n",
    "    result_sensibilite_politique,\n",
    "    x=\"nb_voix\",\n",
    "    y=\"sensibilite_politique\",\n",
    "    color=\"sensibilite_politique\",\n",
    "    title=\"Nombre de voix par sensibilite_politique\",\n",
    "    labels={\"nb_voix\": \"Nombre de voix\", \"sensibilite_politique\": \"sensibilite_politique\"},\n",
    "    barmode=\"stack\"\n",
    ")\n",
    "fig.update_layout(\n",
    "    xaxis_title=\"Nombre de voix\",\n",
    "    yaxis_title=\"sensibilite_politique\",\n",
    "    barmode=\"stack\",\n",
    "    height=500  # Ajuster la hauteur pour améliorer la lisibilité\n",
    ")\n",
    "fig.show()"
   ]
  },
  {
   "cell_type": "markdown",
   "metadata": {},
   "source": [
    "#### Sans Abstentions / Blancs / Nuls"
   ]
  },
  {
   "cell_type": "code",
   "execution_count": 16,
   "metadata": {},
   "outputs": [
    {
     "data": {
      "text/html": [
       "<div>\n",
       "<style scoped>\n",
       "    .dataframe tbody tr th:only-of-type {\n",
       "        vertical-align: middle;\n",
       "    }\n",
       "\n",
       "    .dataframe tbody tr th {\n",
       "        vertical-align: top;\n",
       "    }\n",
       "\n",
       "    .dataframe thead th {\n",
       "        text-align: right;\n",
       "    }\n",
       "</style>\n",
       "<table border=\"1\" class=\"dataframe\">\n",
       "  <thead>\n",
       "    <tr style=\"text-align: right;\">\n",
       "      <th></th>\n",
       "      <th>region</th>\n",
       "      <th>sensibilite_politique</th>\n",
       "      <th>nb_voix</th>\n",
       "    </tr>\n",
       "  </thead>\n",
       "  <tbody>\n",
       "    <tr>\n",
       "      <th>0</th>\n",
       "      <td>0</td>\n",
       "      <td>Centre</td>\n",
       "      <td>2278</td>\n",
       "    </tr>\n",
       "    <tr>\n",
       "      <th>1</th>\n",
       "      <td>0</td>\n",
       "      <td>Droite</td>\n",
       "      <td>3245</td>\n",
       "    </tr>\n",
       "    <tr>\n",
       "      <th>2</th>\n",
       "      <td>0</td>\n",
       "      <td>Gauche</td>\n",
       "      <td>2845</td>\n",
       "    </tr>\n",
       "    <tr>\n",
       "      <th>3</th>\n",
       "      <td>Auvergne-Rhône-AlpesAuvergne-Rhône-Alpes</td>\n",
       "      <td>Centre</td>\n",
       "      <td>1311386</td>\n",
       "    </tr>\n",
       "    <tr>\n",
       "      <th>4</th>\n",
       "      <td>Auvergne-Rhône-AlpesAuvergne-Rhône-AlpesAuverg...</td>\n",
       "      <td>Droite</td>\n",
       "      <td>1572330</td>\n",
       "    </tr>\n",
       "    <tr>\n",
       "      <th>...</th>\n",
       "      <td>...</td>\n",
       "      <td>...</td>\n",
       "      <td>...</td>\n",
       "    </tr>\n",
       "    <tr>\n",
       "      <th>67</th>\n",
       "      <td>Wallis-et-FutunaWallis-et-FutunaWallis-et-Futu...</td>\n",
       "      <td>Droite</td>\n",
       "      <td>2295</td>\n",
       "    </tr>\n",
       "    <tr>\n",
       "      <th>68</th>\n",
       "      <td>Wallis-et-FutunaWallis-et-FutunaWallis-et-Futu...</td>\n",
       "      <td>Gauche</td>\n",
       "      <td>871</td>\n",
       "    </tr>\n",
       "    <tr>\n",
       "      <th>69</th>\n",
       "      <td>Île-de-FranceÎle-de-France</td>\n",
       "      <td>Centre</td>\n",
       "      <td>1743123</td>\n",
       "    </tr>\n",
       "    <tr>\n",
       "      <th>70</th>\n",
       "      <td>Île-de-FranceÎle-de-FranceÎle-de-FranceÎle-de-...</td>\n",
       "      <td>Droite</td>\n",
       "      <td>1547560</td>\n",
       "    </tr>\n",
       "    <tr>\n",
       "      <th>71</th>\n",
       "      <td>Île-de-FranceÎle-de-FranceÎle-de-FranceÎle-de-...</td>\n",
       "      <td>Gauche</td>\n",
       "      <td>2193291</td>\n",
       "    </tr>\n",
       "  </tbody>\n",
       "</table>\n",
       "<p>72 rows × 3 columns</p>\n",
       "</div>"
      ],
      "text/plain": [
       "                                               region sensibilite_politique  \\\n",
       "0                                                   0                Centre   \n",
       "1                                                   0                Droite   \n",
       "2                                                   0                Gauche   \n",
       "3            Auvergne-Rhône-AlpesAuvergne-Rhône-Alpes                Centre   \n",
       "4   Auvergne-Rhône-AlpesAuvergne-Rhône-AlpesAuverg...                Droite   \n",
       "..                                                ...                   ...   \n",
       "67  Wallis-et-FutunaWallis-et-FutunaWallis-et-Futu...                Droite   \n",
       "68  Wallis-et-FutunaWallis-et-FutunaWallis-et-Futu...                Gauche   \n",
       "69                         Île-de-FranceÎle-de-France                Centre   \n",
       "70  Île-de-FranceÎle-de-FranceÎle-de-FranceÎle-de-...                Droite   \n",
       "71  Île-de-FranceÎle-de-FranceÎle-de-FranceÎle-de-...                Gauche   \n",
       "\n",
       "    nb_voix  \n",
       "0      2278  \n",
       "1      3245  \n",
       "2      2845  \n",
       "3   1311386  \n",
       "4   1572330  \n",
       "..      ...  \n",
       "67     2295  \n",
       "68      871  \n",
       "69  1743123  \n",
       "70  1547560  \n",
       "71  2193291  \n",
       "\n",
       "[72 rows x 3 columns]"
      ]
     },
     "execution_count": 16,
     "metadata": {},
     "output_type": "execute_result"
    }
   ],
   "source": [
    "#Enlever les nom_comptabilisé du DF\n",
    "result_sans_abstention = pd.DataFrame(result[result['nom_complet'] != \"abstentions\"])\n",
    "result_sans_abstention= pd.DataFrame(result_sans_abstention[result_sans_abstention['nom_complet'] != \"blancs\"])\n",
    "result_sans_abstention= pd.DataFrame(result_sans_abstention[result_sans_abstention['nom_complet'] != \"nuls\"])\n",
    "result_sans_abstention\n",
    "\n",
    "#PB a revoir (Faire une aggrégation sur la région pour éviter les doublons) --> Voir pour reprendre les modèles au dessus!\n",
    "result_sensibilite_politique = pd.DataFrame(result_sans_abstention.groupby(['cd_departement', 'sensibilite_politique'])[['nb_voix','region']].sum().reset_index())\n",
    "result_sensibilite_politique\n",
    "\n",
    "#PB a revoir\n",
    "result_sensibilite_politique_region = pd.DataFrame(result_sensibilite_politique.groupby(['region', 'sensibilite_politique'])['nb_voix'].sum().reset_index())\n",
    "result_sensibilite_politique_region"
   ]
  },
  {
   "cell_type": "markdown",
   "metadata": {},
   "source": [
    "### Résultat Général"
   ]
  },
  {
   "cell_type": "code",
   "execution_count": 17,
   "metadata": {},
   "outputs": [
    {
     "name": "stderr",
     "output_type": "stream",
     "text": [
      "/tmp/ipykernel_12991/4211651000.py:1: DtypeWarning:\n",
      "\n",
      "Columns (2,3,6,22,24) have mixed types. Specify dtype option on import or set low_memory=False.\n",
      "\n"
     ]
    },
    {
     "data": {
      "text/html": [
       "<div>\n",
       "<style scoped>\n",
       "    .dataframe tbody tr th:only-of-type {\n",
       "        vertical-align: middle;\n",
       "    }\n",
       "\n",
       "    .dataframe tbody tr th {\n",
       "        vertical-align: top;\n",
       "    }\n",
       "\n",
       "    .dataframe thead th {\n",
       "        text-align: right;\n",
       "    }\n",
       "</style>\n",
       "<table border=\"1\" class=\"dataframe\">\n",
       "  <thead>\n",
       "    <tr style=\"text-align: right;\">\n",
       "      <th></th>\n",
       "      <th>id_election</th>\n",
       "      <th>id_brut_miom</th>\n",
       "      <th>Code du département</th>\n",
       "      <th>Libellé du département</th>\n",
       "      <th>Code de la commune</th>\n",
       "      <th>Libellé de la commune</th>\n",
       "      <th>Code du b.vote</th>\n",
       "      <th>Inscrits</th>\n",
       "      <th>Abstentions</th>\n",
       "      <th>% Abs/Ins</th>\n",
       "      <th>...</th>\n",
       "      <th>Nuls</th>\n",
       "      <th>% Nuls/Ins</th>\n",
       "      <th>% Nuls/Vot</th>\n",
       "      <th>Exprimés</th>\n",
       "      <th>% Exp/Ins</th>\n",
       "      <th>% Exp/Vot</th>\n",
       "      <th>Code de la circonscription</th>\n",
       "      <th>Libellé de la circonscription</th>\n",
       "      <th>Code du canton</th>\n",
       "      <th>Libellé du canton</th>\n",
       "    </tr>\n",
       "  </thead>\n",
       "  <tbody>\n",
       "    <tr>\n",
       "      <th>0</th>\n",
       "      <td>2019_euro_t1</td>\n",
       "      <td>01001_0001</td>\n",
       "      <td>01</td>\n",
       "      <td>Ain</td>\n",
       "      <td>1</td>\n",
       "      <td>L'Abergement-Clémenciat</td>\n",
       "      <td>0001</td>\n",
       "      <td>601</td>\n",
       "      <td>268</td>\n",
       "      <td>44.59</td>\n",
       "      <td>...</td>\n",
       "      <td>18</td>\n",
       "      <td>3.00</td>\n",
       "      <td>5.41</td>\n",
       "      <td>314</td>\n",
       "      <td>52.25</td>\n",
       "      <td>94.29</td>\n",
       "      <td>NaN</td>\n",
       "      <td>NaN</td>\n",
       "      <td>NaN</td>\n",
       "      <td>NaN</td>\n",
       "    </tr>\n",
       "    <tr>\n",
       "      <th>1</th>\n",
       "      <td>2019_euro_t1</td>\n",
       "      <td>01002_0001</td>\n",
       "      <td>01</td>\n",
       "      <td>Ain</td>\n",
       "      <td>2</td>\n",
       "      <td>L'Abergement-De-Varey</td>\n",
       "      <td>0001</td>\n",
       "      <td>210</td>\n",
       "      <td>69</td>\n",
       "      <td>32.86</td>\n",
       "      <td>...</td>\n",
       "      <td>2</td>\n",
       "      <td>0.95</td>\n",
       "      <td>1.42</td>\n",
       "      <td>135</td>\n",
       "      <td>64.29</td>\n",
       "      <td>95.74</td>\n",
       "      <td>NaN</td>\n",
       "      <td>NaN</td>\n",
       "      <td>NaN</td>\n",
       "      <td>NaN</td>\n",
       "    </tr>\n",
       "    <tr>\n",
       "      <th>2</th>\n",
       "      <td>2019_euro_t1</td>\n",
       "      <td>01004_0001</td>\n",
       "      <td>01</td>\n",
       "      <td>Ain</td>\n",
       "      <td>4</td>\n",
       "      <td>Ambérieu-En-Bugey</td>\n",
       "      <td>0001</td>\n",
       "      <td>1050</td>\n",
       "      <td>548</td>\n",
       "      <td>52.19</td>\n",
       "      <td>...</td>\n",
       "      <td>13</td>\n",
       "      <td>1.24</td>\n",
       "      <td>2.59</td>\n",
       "      <td>474</td>\n",
       "      <td>45.14</td>\n",
       "      <td>94.42</td>\n",
       "      <td>NaN</td>\n",
       "      <td>NaN</td>\n",
       "      <td>NaN</td>\n",
       "      <td>NaN</td>\n",
       "    </tr>\n",
       "    <tr>\n",
       "      <th>3</th>\n",
       "      <td>2019_euro_t1</td>\n",
       "      <td>01004_0002</td>\n",
       "      <td>01</td>\n",
       "      <td>Ain</td>\n",
       "      <td>4</td>\n",
       "      <td>Ambérieu-En-Bugey</td>\n",
       "      <td>0002</td>\n",
       "      <td>1106</td>\n",
       "      <td>527</td>\n",
       "      <td>47.65</td>\n",
       "      <td>...</td>\n",
       "      <td>24</td>\n",
       "      <td>2.17</td>\n",
       "      <td>4.15</td>\n",
       "      <td>540</td>\n",
       "      <td>48.82</td>\n",
       "      <td>93.26</td>\n",
       "      <td>NaN</td>\n",
       "      <td>NaN</td>\n",
       "      <td>NaN</td>\n",
       "      <td>NaN</td>\n",
       "    </tr>\n",
       "    <tr>\n",
       "      <th>4</th>\n",
       "      <td>2019_euro_t1</td>\n",
       "      <td>01004_0003</td>\n",
       "      <td>01</td>\n",
       "      <td>Ain</td>\n",
       "      <td>4</td>\n",
       "      <td>Ambérieu-En-Bugey</td>\n",
       "      <td>0003</td>\n",
       "      <td>1058</td>\n",
       "      <td>485</td>\n",
       "      <td>45.84</td>\n",
       "      <td>...</td>\n",
       "      <td>8</td>\n",
       "      <td>0.76</td>\n",
       "      <td>1.40</td>\n",
       "      <td>551</td>\n",
       "      <td>52.08</td>\n",
       "      <td>96.16</td>\n",
       "      <td>NaN</td>\n",
       "      <td>NaN</td>\n",
       "      <td>NaN</td>\n",
       "      <td>NaN</td>\n",
       "    </tr>\n",
       "    <tr>\n",
       "      <th>...</th>\n",
       "      <td>...</td>\n",
       "      <td>...</td>\n",
       "      <td>...</td>\n",
       "      <td>...</td>\n",
       "      <td>...</td>\n",
       "      <td>...</td>\n",
       "      <td>...</td>\n",
       "      <td>...</td>\n",
       "      <td>...</td>\n",
       "      <td>...</td>\n",
       "      <td>...</td>\n",
       "      <td>...</td>\n",
       "      <td>...</td>\n",
       "      <td>...</td>\n",
       "      <td>...</td>\n",
       "      <td>...</td>\n",
       "      <td>...</td>\n",
       "      <td>...</td>\n",
       "      <td>...</td>\n",
       "      <td>...</td>\n",
       "      <td>...</td>\n",
       "    </tr>\n",
       "    <tr>\n",
       "      <th>3013068</th>\n",
       "      <td>2014_muni_t2</td>\n",
       "      <td>ZP057_0002</td>\n",
       "      <td>ZP</td>\n",
       "      <td>NaN</td>\n",
       "      <td>57</td>\n",
       "      <td>Ua-Pou</td>\n",
       "      <td>0002</td>\n",
       "      <td>157</td>\n",
       "      <td>15</td>\n",
       "      <td>9.55</td>\n",
       "      <td>...</td>\n",
       "      <td>1</td>\n",
       "      <td>0.64</td>\n",
       "      <td>0.70</td>\n",
       "      <td>141</td>\n",
       "      <td>89.81</td>\n",
       "      <td>99.30</td>\n",
       "      <td>NaN</td>\n",
       "      <td>NaN</td>\n",
       "      <td>NaN</td>\n",
       "      <td>NaN</td>\n",
       "    </tr>\n",
       "    <tr>\n",
       "      <th>3013069</th>\n",
       "      <td>2014_muni_t2</td>\n",
       "      <td>ZP057_0006</td>\n",
       "      <td>ZP</td>\n",
       "      <td>NaN</td>\n",
       "      <td>57</td>\n",
       "      <td>Ua-Pou</td>\n",
       "      <td>0006</td>\n",
       "      <td>70</td>\n",
       "      <td>7</td>\n",
       "      <td>10.00</td>\n",
       "      <td>...</td>\n",
       "      <td>0</td>\n",
       "      <td>0.00</td>\n",
       "      <td>0.00</td>\n",
       "      <td>63</td>\n",
       "      <td>90.00</td>\n",
       "      <td>100.00</td>\n",
       "      <td>NaN</td>\n",
       "      <td>NaN</td>\n",
       "      <td>NaN</td>\n",
       "      <td>NaN</td>\n",
       "    </tr>\n",
       "    <tr>\n",
       "      <th>3013070</th>\n",
       "      <td>2014_muni_t2</td>\n",
       "      <td>ZP058_0001</td>\n",
       "      <td>ZP</td>\n",
       "      <td>NaN</td>\n",
       "      <td>58</td>\n",
       "      <td>Uturoa</td>\n",
       "      <td>0001</td>\n",
       "      <td>1179</td>\n",
       "      <td>350</td>\n",
       "      <td>29.69</td>\n",
       "      <td>...</td>\n",
       "      <td>10</td>\n",
       "      <td>0.85</td>\n",
       "      <td>1.21</td>\n",
       "      <td>819</td>\n",
       "      <td>69.47</td>\n",
       "      <td>98.79</td>\n",
       "      <td>NaN</td>\n",
       "      <td>NaN</td>\n",
       "      <td>NaN</td>\n",
       "      <td>NaN</td>\n",
       "    </tr>\n",
       "    <tr>\n",
       "      <th>3013071</th>\n",
       "      <td>2014_muni_t2</td>\n",
       "      <td>ZP058_0002</td>\n",
       "      <td>ZP</td>\n",
       "      <td>NaN</td>\n",
       "      <td>58</td>\n",
       "      <td>Uturoa</td>\n",
       "      <td>0002</td>\n",
       "      <td>1029</td>\n",
       "      <td>225</td>\n",
       "      <td>21.87</td>\n",
       "      <td>...</td>\n",
       "      <td>8</td>\n",
       "      <td>0.78</td>\n",
       "      <td>1.00</td>\n",
       "      <td>796</td>\n",
       "      <td>77.36</td>\n",
       "      <td>99.00</td>\n",
       "      <td>NaN</td>\n",
       "      <td>NaN</td>\n",
       "      <td>NaN</td>\n",
       "      <td>NaN</td>\n",
       "    </tr>\n",
       "    <tr>\n",
       "      <th>3013072</th>\n",
       "      <td>2014_muni_t2</td>\n",
       "      <td>ZP058_0003</td>\n",
       "      <td>ZP</td>\n",
       "      <td>NaN</td>\n",
       "      <td>58</td>\n",
       "      <td>Uturoa</td>\n",
       "      <td>0003</td>\n",
       "      <td>1120</td>\n",
       "      <td>222</td>\n",
       "      <td>19.82</td>\n",
       "      <td>...</td>\n",
       "      <td>20</td>\n",
       "      <td>1.79</td>\n",
       "      <td>2.23</td>\n",
       "      <td>878</td>\n",
       "      <td>78.39</td>\n",
       "      <td>97.77</td>\n",
       "      <td>NaN</td>\n",
       "      <td>NaN</td>\n",
       "      <td>NaN</td>\n",
       "      <td>NaN</td>\n",
       "    </tr>\n",
       "  </tbody>\n",
       "</table>\n",
       "<p>3013073 rows × 25 columns</p>\n",
       "</div>"
      ],
      "text/plain": [
       "          id_election id_brut_miom Code du département Libellé du département  \\\n",
       "0        2019_euro_t1   01001_0001                  01                    Ain   \n",
       "1        2019_euro_t1   01002_0001                  01                    Ain   \n",
       "2        2019_euro_t1   01004_0001                  01                    Ain   \n",
       "3        2019_euro_t1   01004_0002                  01                    Ain   \n",
       "4        2019_euro_t1   01004_0003                  01                    Ain   \n",
       "...               ...          ...                 ...                    ...   \n",
       "3013068  2014_muni_t2   ZP057_0002                  ZP                    NaN   \n",
       "3013069  2014_muni_t2   ZP057_0006                  ZP                    NaN   \n",
       "3013070  2014_muni_t2   ZP058_0001                  ZP                    NaN   \n",
       "3013071  2014_muni_t2   ZP058_0002                  ZP                    NaN   \n",
       "3013072  2014_muni_t2   ZP058_0003                  ZP                    NaN   \n",
       "\n",
       "         Code de la commune    Libellé de la commune Code du b.vote  Inscrits  \\\n",
       "0                         1  L'Abergement-Clémenciat           0001       601   \n",
       "1                         2    L'Abergement-De-Varey           0001       210   \n",
       "2                         4        Ambérieu-En-Bugey           0001      1050   \n",
       "3                         4        Ambérieu-En-Bugey           0002      1106   \n",
       "4                         4        Ambérieu-En-Bugey           0003      1058   \n",
       "...                     ...                      ...            ...       ...   \n",
       "3013068                  57                   Ua-Pou           0002       157   \n",
       "3013069                  57                   Ua-Pou           0006        70   \n",
       "3013070                  58                   Uturoa           0001      1179   \n",
       "3013071                  58                   Uturoa           0002      1029   \n",
       "3013072                  58                   Uturoa           0003      1120   \n",
       "\n",
       "         Abstentions  % Abs/Ins  ...  Nuls  % Nuls/Ins  % Nuls/Vot  Exprimés  \\\n",
       "0                268      44.59  ...    18        3.00        5.41       314   \n",
       "1                 69      32.86  ...     2        0.95        1.42       135   \n",
       "2                548      52.19  ...    13        1.24        2.59       474   \n",
       "3                527      47.65  ...    24        2.17        4.15       540   \n",
       "4                485      45.84  ...     8        0.76        1.40       551   \n",
       "...              ...        ...  ...   ...         ...         ...       ...   \n",
       "3013068           15       9.55  ...     1        0.64        0.70       141   \n",
       "3013069            7      10.00  ...     0        0.00        0.00        63   \n",
       "3013070          350      29.69  ...    10        0.85        1.21       819   \n",
       "3013071          225      21.87  ...     8        0.78        1.00       796   \n",
       "3013072          222      19.82  ...    20        1.79        2.23       878   \n",
       "\n",
       "         % Exp/Ins  % Exp/Vot  Code de la circonscription  \\\n",
       "0            52.25      94.29                         NaN   \n",
       "1            64.29      95.74                         NaN   \n",
       "2            45.14      94.42                         NaN   \n",
       "3            48.82      93.26                         NaN   \n",
       "4            52.08      96.16                         NaN   \n",
       "...            ...        ...                         ...   \n",
       "3013068      89.81      99.30                         NaN   \n",
       "3013069      90.00     100.00                         NaN   \n",
       "3013070      69.47      98.79                         NaN   \n",
       "3013071      77.36      99.00                         NaN   \n",
       "3013072      78.39      97.77                         NaN   \n",
       "\n",
       "         Libellé de la circonscription  Code du canton  Libellé du canton  \n",
       "0                                  NaN             NaN                NaN  \n",
       "1                                  NaN             NaN                NaN  \n",
       "2                                  NaN             NaN                NaN  \n",
       "3                                  NaN             NaN                NaN  \n",
       "4                                  NaN             NaN                NaN  \n",
       "...                                ...             ...                ...  \n",
       "3013068                            NaN             NaN                NaN  \n",
       "3013069                            NaN             NaN                NaN  \n",
       "3013070                            NaN             NaN                NaN  \n",
       "3013071                            NaN             NaN                NaN  \n",
       "3013072                            NaN             NaN                NaN  \n",
       "\n",
       "[3013073 rows x 25 columns]"
      ]
     },
     "execution_count": 17,
     "metadata": {},
     "output_type": "execute_result"
    }
   ],
   "source": [
    "df_result_general=pd.read_csv('Data/elections/elections_general_results.csv', delimiter=';')\n",
    "df_result_general"
   ]
  },
  {
   "cell_type": "code",
   "execution_count": 18,
   "metadata": {},
   "outputs": [],
   "source": [
    "# #Vérifie s'il y a des colonnes vides dans le df\n",
    "# empty_columns = df_result_general.columns[df_result_general.isna().all()].tolist()\n",
    "# print(empty_columns)\n",
    "\n",
    "# df_result_general.describe()\n",
    "# df_result_general.info()\n",
    "# df_result_general.columns\n",
    "# #  Index(['id_election', 'id_brut_miom', 'Code du département',\n",
    "# #        'Libellé du département', 'Code de la commune', 'Libellé de la commune',\n",
    "# #        'Code du b.vote', 'Inscrits', 'Abstentions', '% Abs/Ins', 'Votants',\n",
    "# #        '% Vot/Ins', 'Blancs', '% Blancs/Ins', '% Blancs/Vot', 'Nuls',\n",
    "# #        '% Nuls/Ins', '% Nuls/Vot', 'Exprimés', '% Exp/Ins', '% Exp/Vot',\n",
    "# #        'Code de la circonscription', 'Libellé de la circonscription',\n",
    "# #        'Code du canton', 'Libellé du canton'],\n",
    "# #      dtype='object')"
   ]
  },
  {
   "cell_type": "code",
   "execution_count": 19,
   "metadata": {},
   "outputs": [
    {
     "data": {
      "text/html": [
       "<div>\n",
       "<style scoped>\n",
       "    .dataframe tbody tr th:only-of-type {\n",
       "        vertical-align: middle;\n",
       "    }\n",
       "\n",
       "    .dataframe tbody tr th {\n",
       "        vertical-align: top;\n",
       "    }\n",
       "\n",
       "    .dataframe thead th {\n",
       "        text-align: right;\n",
       "    }\n",
       "</style>\n",
       "<table border=\"1\" class=\"dataframe\">\n",
       "  <thead>\n",
       "    <tr style=\"text-align: right;\">\n",
       "      <th></th>\n",
       "      <th>ib_bureau de vote</th>\n",
       "      <th>id_election</th>\n",
       "    </tr>\n",
       "  </thead>\n",
       "  <tbody>\n",
       "    <tr>\n",
       "      <th>0</th>\n",
       "      <td>01001_0001</td>\n",
       "      <td>2019_euro_t1</td>\n",
       "    </tr>\n",
       "    <tr>\n",
       "      <th>1</th>\n",
       "      <td>01002_0001</td>\n",
       "      <td>2019_euro_t1</td>\n",
       "    </tr>\n",
       "    <tr>\n",
       "      <th>2</th>\n",
       "      <td>01004_0001</td>\n",
       "      <td>2019_euro_t1</td>\n",
       "    </tr>\n",
       "    <tr>\n",
       "      <th>3</th>\n",
       "      <td>01004_0002</td>\n",
       "      <td>2019_euro_t1</td>\n",
       "    </tr>\n",
       "    <tr>\n",
       "      <th>4</th>\n",
       "      <td>01004_0003</td>\n",
       "      <td>2019_euro_t1</td>\n",
       "    </tr>\n",
       "    <tr>\n",
       "      <th>...</th>\n",
       "      <td>...</td>\n",
       "      <td>...</td>\n",
       "    </tr>\n",
       "    <tr>\n",
       "      <th>3013068</th>\n",
       "      <td>ZP057_0002</td>\n",
       "      <td>2014_muni_t2</td>\n",
       "    </tr>\n",
       "    <tr>\n",
       "      <th>3013069</th>\n",
       "      <td>ZP057_0006</td>\n",
       "      <td>2014_muni_t2</td>\n",
       "    </tr>\n",
       "    <tr>\n",
       "      <th>3013070</th>\n",
       "      <td>ZP058_0001</td>\n",
       "      <td>2014_muni_t2</td>\n",
       "    </tr>\n",
       "    <tr>\n",
       "      <th>3013071</th>\n",
       "      <td>ZP058_0002</td>\n",
       "      <td>2014_muni_t2</td>\n",
       "    </tr>\n",
       "    <tr>\n",
       "      <th>3013072</th>\n",
       "      <td>ZP058_0003</td>\n",
       "      <td>2014_muni_t2</td>\n",
       "    </tr>\n",
       "  </tbody>\n",
       "</table>\n",
       "<p>3013073 rows × 2 columns</p>\n",
       "</div>"
      ],
      "text/plain": [
       "        ib_bureau de vote   id_election\n",
       "0              01001_0001  2019_euro_t1\n",
       "1              01002_0001  2019_euro_t1\n",
       "2              01004_0001  2019_euro_t1\n",
       "3              01004_0002  2019_euro_t1\n",
       "4              01004_0003  2019_euro_t1\n",
       "...                   ...           ...\n",
       "3013068        ZP057_0002  2014_muni_t2\n",
       "3013069        ZP057_0006  2014_muni_t2\n",
       "3013070        ZP058_0001  2014_muni_t2\n",
       "3013071        ZP058_0002  2014_muni_t2\n",
       "3013072        ZP058_0003  2014_muni_t2\n",
       "\n",
       "[3013073 rows x 2 columns]"
      ]
     },
     "execution_count": 19,
     "metadata": {},
     "output_type": "execute_result"
    }
   ],
   "source": [
    "result = []\n",
    "\n",
    "# Parcourir chaque ligne du DataFrame\n",
    "for i, row in df_result_general.iterrows():\n",
    "    # #Concaténation\n",
    "    # if pd.isna(row[\"prenom\"]):\n",
    "    #     nom_complet = row[\"nom\"]\n",
    "    # else:\n",
    "    #     nom_complet = f\"{row['prenom']} {row['nom']}\"\n",
    "\n",
    "    result.append({\n",
    "\n",
    "        \"ib_bureau de vote\": row[\"id_brut_miom\"],\n",
    "        \"id_election\": row[\"id_election\"],\n",
    "        # \"lib_commune\": row[\"libelle_commune\"],\n",
    "        # \"cd_departement\": row[\"code_departement\"],\n",
    "        # \"lib_departement\":row[\"libelle_departement\"],\n",
    "        # \"nom_complet\": nom_complet,\n",
    "        # \"nb_voix\": row[\"voix\"]\n",
    "    })\n",
    "    \n",
    "df_result_general_renommer = pd.DataFrame(result)\n",
    "df_result_general_renommer"
   ]
  },
  {
   "cell_type": "code",
   "execution_count": 20,
   "metadata": {},
   "outputs": [
    {
     "data": {
      "text/html": [
       "<div>\n",
       "<style scoped>\n",
       "    .dataframe tbody tr th:only-of-type {\n",
       "        vertical-align: middle;\n",
       "    }\n",
       "\n",
       "    .dataframe tbody tr th {\n",
       "        vertical-align: top;\n",
       "    }\n",
       "\n",
       "    .dataframe thead th {\n",
       "        text-align: right;\n",
       "    }\n",
       "</style>\n",
       "<table border=\"1\" class=\"dataframe\">\n",
       "  <thead>\n",
       "    <tr style=\"text-align: right;\">\n",
       "      <th></th>\n",
       "      <th>id_election</th>\n",
       "      <th>id_brut_miom</th>\n",
       "      <th>Code du département</th>\n",
       "      <th>Libellé du département</th>\n",
       "      <th>Code de la commune</th>\n",
       "      <th>Libellé de la commune</th>\n",
       "      <th>Code du b.vote</th>\n",
       "      <th>Inscrits</th>\n",
       "      <th>Abstentions</th>\n",
       "      <th>% Abs/Ins</th>\n",
       "      <th>...</th>\n",
       "      <th>Nuls</th>\n",
       "      <th>% Nuls/Ins</th>\n",
       "      <th>% Nuls/Vot</th>\n",
       "      <th>Exprimés</th>\n",
       "      <th>% Exp/Ins</th>\n",
       "      <th>% Exp/Vot</th>\n",
       "      <th>Code de la circonscription</th>\n",
       "      <th>Libellé de la circonscription</th>\n",
       "      <th>Code du canton</th>\n",
       "      <th>Libellé du canton</th>\n",
       "    </tr>\n",
       "  </thead>\n",
       "  <tbody>\n",
       "    <tr>\n",
       "      <th>359560</th>\n",
       "      <td>2017_pres_t1</td>\n",
       "      <td>01001_0001</td>\n",
       "      <td>01</td>\n",
       "      <td>Ain</td>\n",
       "      <td>1</td>\n",
       "      <td>L'Abergement-Clémenciat</td>\n",
       "      <td>0001</td>\n",
       "      <td>598</td>\n",
       "      <td>92</td>\n",
       "      <td>15.38</td>\n",
       "      <td>...</td>\n",
       "      <td>9</td>\n",
       "      <td>1.51</td>\n",
       "      <td>1.78</td>\n",
       "      <td>495</td>\n",
       "      <td>82.78</td>\n",
       "      <td>97.83</td>\n",
       "      <td>4.0</td>\n",
       "      <td>4Ème Circonscription</td>\n",
       "      <td>NaN</td>\n",
       "      <td>NaN</td>\n",
       "    </tr>\n",
       "    <tr>\n",
       "      <th>359561</th>\n",
       "      <td>2017_pres_t1</td>\n",
       "      <td>01002_0001</td>\n",
       "      <td>01</td>\n",
       "      <td>Ain</td>\n",
       "      <td>2</td>\n",
       "      <td>L'Abergement-De-Varey</td>\n",
       "      <td>0001</td>\n",
       "      <td>209</td>\n",
       "      <td>25</td>\n",
       "      <td>11.96</td>\n",
       "      <td>...</td>\n",
       "      <td>2</td>\n",
       "      <td>0.96</td>\n",
       "      <td>1.09</td>\n",
       "      <td>176</td>\n",
       "      <td>84.21</td>\n",
       "      <td>95.65</td>\n",
       "      <td>5.0</td>\n",
       "      <td>5Ème Circonscription</td>\n",
       "      <td>NaN</td>\n",
       "      <td>NaN</td>\n",
       "    </tr>\n",
       "    <tr>\n",
       "      <th>359562</th>\n",
       "      <td>2017_pres_t1</td>\n",
       "      <td>01004_0001</td>\n",
       "      <td>01</td>\n",
       "      <td>Ain</td>\n",
       "      <td>4</td>\n",
       "      <td>Ambérieu-En-Bugey</td>\n",
       "      <td>0001</td>\n",
       "      <td>1116</td>\n",
       "      <td>233</td>\n",
       "      <td>20.88</td>\n",
       "      <td>...</td>\n",
       "      <td>6</td>\n",
       "      <td>0.54</td>\n",
       "      <td>0.68</td>\n",
       "      <td>860</td>\n",
       "      <td>77.06</td>\n",
       "      <td>97.40</td>\n",
       "      <td>5.0</td>\n",
       "      <td>5Ème Circonscription</td>\n",
       "      <td>NaN</td>\n",
       "      <td>NaN</td>\n",
       "    </tr>\n",
       "    <tr>\n",
       "      <th>359563</th>\n",
       "      <td>2017_pres_t1</td>\n",
       "      <td>01004_0002</td>\n",
       "      <td>01</td>\n",
       "      <td>Ain</td>\n",
       "      <td>4</td>\n",
       "      <td>Ambérieu-En-Bugey</td>\n",
       "      <td>0002</td>\n",
       "      <td>1128</td>\n",
       "      <td>256</td>\n",
       "      <td>22.70</td>\n",
       "      <td>...</td>\n",
       "      <td>3</td>\n",
       "      <td>0.27</td>\n",
       "      <td>0.34</td>\n",
       "      <td>850</td>\n",
       "      <td>75.35</td>\n",
       "      <td>97.48</td>\n",
       "      <td>5.0</td>\n",
       "      <td>5Ème Circonscription</td>\n",
       "      <td>NaN</td>\n",
       "      <td>NaN</td>\n",
       "    </tr>\n",
       "    <tr>\n",
       "      <th>359564</th>\n",
       "      <td>2017_pres_t1</td>\n",
       "      <td>01004_0003</td>\n",
       "      <td>01</td>\n",
       "      <td>Ain</td>\n",
       "      <td>4</td>\n",
       "      <td>Ambérieu-En-Bugey</td>\n",
       "      <td>0003</td>\n",
       "      <td>1116</td>\n",
       "      <td>227</td>\n",
       "      <td>20.34</td>\n",
       "      <td>...</td>\n",
       "      <td>4</td>\n",
       "      <td>0.36</td>\n",
       "      <td>0.45</td>\n",
       "      <td>874</td>\n",
       "      <td>78.32</td>\n",
       "      <td>98.31</td>\n",
       "      <td>5.0</td>\n",
       "      <td>5Ème Circonscription</td>\n",
       "      <td>NaN</td>\n",
       "      <td>NaN</td>\n",
       "    </tr>\n",
       "    <tr>\n",
       "      <th>...</th>\n",
       "      <td>...</td>\n",
       "      <td>...</td>\n",
       "      <td>...</td>\n",
       "      <td>...</td>\n",
       "      <td>...</td>\n",
       "      <td>...</td>\n",
       "      <td>...</td>\n",
       "      <td>...</td>\n",
       "      <td>...</td>\n",
       "      <td>...</td>\n",
       "      <td>...</td>\n",
       "      <td>...</td>\n",
       "      <td>...</td>\n",
       "      <td>...</td>\n",
       "      <td>...</td>\n",
       "      <td>...</td>\n",
       "      <td>...</td>\n",
       "      <td>...</td>\n",
       "      <td>...</td>\n",
       "      <td>...</td>\n",
       "      <td>...</td>\n",
       "    </tr>\n",
       "    <tr>\n",
       "      <th>633410</th>\n",
       "      <td>2017_pres_t2</td>\n",
       "      <td>ZZ226_0001</td>\n",
       "      <td>ZZ</td>\n",
       "      <td>Français Établis Hors De France</td>\n",
       "      <td>226</td>\n",
       "      <td>Wuhan</td>\n",
       "      <td>0001</td>\n",
       "      <td>369</td>\n",
       "      <td>155</td>\n",
       "      <td>42.01</td>\n",
       "      <td>...</td>\n",
       "      <td>2</td>\n",
       "      <td>0.54</td>\n",
       "      <td>0.93</td>\n",
       "      <td>204</td>\n",
       "      <td>55.28</td>\n",
       "      <td>95.33</td>\n",
       "      <td>11.0</td>\n",
       "      <td>11Ème Circonscription</td>\n",
       "      <td>NaN</td>\n",
       "      <td>NaN</td>\n",
       "    </tr>\n",
       "    <tr>\n",
       "      <th>633411</th>\n",
       "      <td>2017_pres_t2</td>\n",
       "      <td>ZZ227_0001</td>\n",
       "      <td>ZZ</td>\n",
       "      <td>Français Établis Hors De France</td>\n",
       "      <td>227</td>\n",
       "      <td>Yaounde</td>\n",
       "      <td>0001</td>\n",
       "      <td>1517</td>\n",
       "      <td>788</td>\n",
       "      <td>51.94</td>\n",
       "      <td>...</td>\n",
       "      <td>4</td>\n",
       "      <td>0.26</td>\n",
       "      <td>0.55</td>\n",
       "      <td>690</td>\n",
       "      <td>45.48</td>\n",
       "      <td>94.65</td>\n",
       "      <td>10.0</td>\n",
       "      <td>10Ème Circonscription</td>\n",
       "      <td>NaN</td>\n",
       "      <td>NaN</td>\n",
       "    </tr>\n",
       "    <tr>\n",
       "      <th>633412</th>\n",
       "      <td>2017_pres_t2</td>\n",
       "      <td>ZZ228_0001</td>\n",
       "      <td>ZZ</td>\n",
       "      <td>Français Établis Hors De France</td>\n",
       "      <td>228</td>\n",
       "      <td>Zagreb</td>\n",
       "      <td>0001</td>\n",
       "      <td>656</td>\n",
       "      <td>411</td>\n",
       "      <td>62.65</td>\n",
       "      <td>...</td>\n",
       "      <td>1</td>\n",
       "      <td>0.15</td>\n",
       "      <td>0.41</td>\n",
       "      <td>235</td>\n",
       "      <td>35.82</td>\n",
       "      <td>95.92</td>\n",
       "      <td>7.0</td>\n",
       "      <td>7Ème Circonscription</td>\n",
       "      <td>NaN</td>\n",
       "      <td>NaN</td>\n",
       "    </tr>\n",
       "    <tr>\n",
       "      <th>633413</th>\n",
       "      <td>2017_pres_t2</td>\n",
       "      <td>ZZ229_0001</td>\n",
       "      <td>ZZ</td>\n",
       "      <td>Français Établis Hors De France</td>\n",
       "      <td>229</td>\n",
       "      <td>Zurich</td>\n",
       "      <td>0001</td>\n",
       "      <td>21488</td>\n",
       "      <td>10241</td>\n",
       "      <td>47.66</td>\n",
       "      <td>...</td>\n",
       "      <td>56</td>\n",
       "      <td>0.26</td>\n",
       "      <td>0.50</td>\n",
       "      <td>10888</td>\n",
       "      <td>50.67</td>\n",
       "      <td>96.81</td>\n",
       "      <td>6.0</td>\n",
       "      <td>6Ème Circonscription</td>\n",
       "      <td>NaN</td>\n",
       "      <td>NaN</td>\n",
       "    </tr>\n",
       "    <tr>\n",
       "      <th>633414</th>\n",
       "      <td>2017_pres_t2</td>\n",
       "      <td>ZZ231_0001</td>\n",
       "      <td>ZZ</td>\n",
       "      <td>Français Établis Hors De France</td>\n",
       "      <td>231</td>\n",
       "      <td>Taipeh</td>\n",
       "      <td>0001</td>\n",
       "      <td>1212</td>\n",
       "      <td>573</td>\n",
       "      <td>47.28</td>\n",
       "      <td>...</td>\n",
       "      <td>4</td>\n",
       "      <td>0.33</td>\n",
       "      <td>0.63</td>\n",
       "      <td>619</td>\n",
       "      <td>51.07</td>\n",
       "      <td>96.87</td>\n",
       "      <td>11.0</td>\n",
       "      <td>11Ème Circonscription</td>\n",
       "      <td>NaN</td>\n",
       "      <td>NaN</td>\n",
       "    </tr>\n",
       "  </tbody>\n",
       "</table>\n",
       "<p>138484 rows × 25 columns</p>\n",
       "</div>"
      ],
      "text/plain": [
       "         id_election id_brut_miom Code du département  \\\n",
       "359560  2017_pres_t1   01001_0001                  01   \n",
       "359561  2017_pres_t1   01002_0001                  01   \n",
       "359562  2017_pres_t1   01004_0001                  01   \n",
       "359563  2017_pres_t1   01004_0002                  01   \n",
       "359564  2017_pres_t1   01004_0003                  01   \n",
       "...              ...          ...                 ...   \n",
       "633410  2017_pres_t2   ZZ226_0001                  ZZ   \n",
       "633411  2017_pres_t2   ZZ227_0001                  ZZ   \n",
       "633412  2017_pres_t2   ZZ228_0001                  ZZ   \n",
       "633413  2017_pres_t2   ZZ229_0001                  ZZ   \n",
       "633414  2017_pres_t2   ZZ231_0001                  ZZ   \n",
       "\n",
       "                 Libellé du département  Code de la commune  \\\n",
       "359560                              Ain                   1   \n",
       "359561                              Ain                   2   \n",
       "359562                              Ain                   4   \n",
       "359563                              Ain                   4   \n",
       "359564                              Ain                   4   \n",
       "...                                 ...                 ...   \n",
       "633410  Français Établis Hors De France                 226   \n",
       "633411  Français Établis Hors De France                 227   \n",
       "633412  Français Établis Hors De France                 228   \n",
       "633413  Français Établis Hors De France                 229   \n",
       "633414  Français Établis Hors De France                 231   \n",
       "\n",
       "          Libellé de la commune Code du b.vote  Inscrits  Abstentions  \\\n",
       "359560  L'Abergement-Clémenciat           0001       598           92   \n",
       "359561    L'Abergement-De-Varey           0001       209           25   \n",
       "359562        Ambérieu-En-Bugey           0001      1116          233   \n",
       "359563        Ambérieu-En-Bugey           0002      1128          256   \n",
       "359564        Ambérieu-En-Bugey           0003      1116          227   \n",
       "...                         ...            ...       ...          ...   \n",
       "633410                    Wuhan           0001       369          155   \n",
       "633411                  Yaounde           0001      1517          788   \n",
       "633412                   Zagreb           0001       656          411   \n",
       "633413                   Zurich           0001     21488        10241   \n",
       "633414                   Taipeh           0001      1212          573   \n",
       "\n",
       "        % Abs/Ins  ...  Nuls  % Nuls/Ins  % Nuls/Vot  Exprimés  % Exp/Ins  \\\n",
       "359560      15.38  ...     9        1.51        1.78       495      82.78   \n",
       "359561      11.96  ...     2        0.96        1.09       176      84.21   \n",
       "359562      20.88  ...     6        0.54        0.68       860      77.06   \n",
       "359563      22.70  ...     3        0.27        0.34       850      75.35   \n",
       "359564      20.34  ...     4        0.36        0.45       874      78.32   \n",
       "...           ...  ...   ...         ...         ...       ...        ...   \n",
       "633410      42.01  ...     2        0.54        0.93       204      55.28   \n",
       "633411      51.94  ...     4        0.26        0.55       690      45.48   \n",
       "633412      62.65  ...     1        0.15        0.41       235      35.82   \n",
       "633413      47.66  ...    56        0.26        0.50     10888      50.67   \n",
       "633414      47.28  ...     4        0.33        0.63       619      51.07   \n",
       "\n",
       "        % Exp/Vot  Code de la circonscription  Libellé de la circonscription  \\\n",
       "359560      97.83                         4.0           4Ème Circonscription   \n",
       "359561      95.65                         5.0           5Ème Circonscription   \n",
       "359562      97.40                         5.0           5Ème Circonscription   \n",
       "359563      97.48                         5.0           5Ème Circonscription   \n",
       "359564      98.31                         5.0           5Ème Circonscription   \n",
       "...           ...                         ...                            ...   \n",
       "633410      95.33                        11.0          11Ème Circonscription   \n",
       "633411      94.65                        10.0          10Ème Circonscription   \n",
       "633412      95.92                         7.0           7Ème Circonscription   \n",
       "633413      96.81                         6.0           6Ème Circonscription   \n",
       "633414      96.87                        11.0          11Ème Circonscription   \n",
       "\n",
       "        Code du canton  Libellé du canton  \n",
       "359560             NaN                NaN  \n",
       "359561             NaN                NaN  \n",
       "359562             NaN                NaN  \n",
       "359563             NaN                NaN  \n",
       "359564             NaN                NaN  \n",
       "...                ...                ...  \n",
       "633410             NaN                NaN  \n",
       "633411             NaN                NaN  \n",
       "633412             NaN                NaN  \n",
       "633413             NaN                NaN  \n",
       "633414             NaN                NaN  \n",
       "\n",
       "[138484 rows x 25 columns]"
      ]
     },
     "execution_count": 20,
     "metadata": {},
     "output_type": "execute_result"
    }
   ],
   "source": [
    "df_result_general_2017=df_result_general[(df_result_general['id_election'] =='2017_pres_t2') | (df_result_general['id_election'] == '2017_pres_t1')]\n",
    "df_result_general_2017"
   ]
  },
  {
   "cell_type": "markdown",
   "metadata": {},
   "source": [
    "### Résultat Candidat"
   ]
  },
  {
   "cell_type": "code",
   "execution_count": 21,
   "metadata": {},
   "outputs": [
    {
     "ename": "FileNotFoundError",
     "evalue": "[Errno 2] No such file or directory: 'Data/elections/elections_candidats_results.csv'",
     "output_type": "error",
     "traceback": [
      "\u001b[0;31m---------------------------------------------------------------------------\u001b[0m",
      "\u001b[0;31mFileNotFoundError\u001b[0m                         Traceback (most recent call last)",
      "Cell \u001b[0;32mIn[21], line 1\u001b[0m\n\u001b[0;32m----> 1\u001b[0m df_result_candidat\u001b[38;5;241m=\u001b[39mpd\u001b[38;5;241m.\u001b[39mread_csv(\u001b[38;5;124m'\u001b[39m\u001b[38;5;124mData/elections/elections_candidats_results.csv\u001b[39m\u001b[38;5;124m'\u001b[39m, delimiter\u001b[38;5;241m=\u001b[39m\u001b[38;5;124m'\u001b[39m\u001b[38;5;124m;\u001b[39m\u001b[38;5;124m'\u001b[39m)\n\u001b[1;32m      2\u001b[0m empty_columns \u001b[38;5;241m=\u001b[39m df_result_candidat\u001b[38;5;241m.\u001b[39mcolumns[df_result_candidat\u001b[38;5;241m.\u001b[39misna()\u001b[38;5;241m.\u001b[39mall()]\u001b[38;5;241m.\u001b[39mtolist()\n\u001b[1;32m      3\u001b[0m \u001b[38;5;28mprint\u001b[39m(empty_columns)\n",
      "File \u001b[0;32m~/anaconda3/lib/python3.12/site-packages/pandas/io/parsers/readers.py:1026\u001b[0m, in \u001b[0;36mread_csv\u001b[0;34m(filepath_or_buffer, sep, delimiter, header, names, index_col, usecols, dtype, engine, converters, true_values, false_values, skipinitialspace, skiprows, skipfooter, nrows, na_values, keep_default_na, na_filter, verbose, skip_blank_lines, parse_dates, infer_datetime_format, keep_date_col, date_parser, date_format, dayfirst, cache_dates, iterator, chunksize, compression, thousands, decimal, lineterminator, quotechar, quoting, doublequote, escapechar, comment, encoding, encoding_errors, dialect, on_bad_lines, delim_whitespace, low_memory, memory_map, float_precision, storage_options, dtype_backend)\u001b[0m\n\u001b[1;32m   1013\u001b[0m kwds_defaults \u001b[38;5;241m=\u001b[39m _refine_defaults_read(\n\u001b[1;32m   1014\u001b[0m     dialect,\n\u001b[1;32m   1015\u001b[0m     delimiter,\n\u001b[0;32m   (...)\u001b[0m\n\u001b[1;32m   1022\u001b[0m     dtype_backend\u001b[38;5;241m=\u001b[39mdtype_backend,\n\u001b[1;32m   1023\u001b[0m )\n\u001b[1;32m   1024\u001b[0m kwds\u001b[38;5;241m.\u001b[39mupdate(kwds_defaults)\n\u001b[0;32m-> 1026\u001b[0m \u001b[38;5;28;01mreturn\u001b[39;00m _read(filepath_or_buffer, kwds)\n",
      "File \u001b[0;32m~/anaconda3/lib/python3.12/site-packages/pandas/io/parsers/readers.py:620\u001b[0m, in \u001b[0;36m_read\u001b[0;34m(filepath_or_buffer, kwds)\u001b[0m\n\u001b[1;32m    617\u001b[0m _validate_names(kwds\u001b[38;5;241m.\u001b[39mget(\u001b[38;5;124m\"\u001b[39m\u001b[38;5;124mnames\u001b[39m\u001b[38;5;124m\"\u001b[39m, \u001b[38;5;28;01mNone\u001b[39;00m))\n\u001b[1;32m    619\u001b[0m \u001b[38;5;66;03m# Create the parser.\u001b[39;00m\n\u001b[0;32m--> 620\u001b[0m parser \u001b[38;5;241m=\u001b[39m TextFileReader(filepath_or_buffer, \u001b[38;5;241m*\u001b[39m\u001b[38;5;241m*\u001b[39mkwds)\n\u001b[1;32m    622\u001b[0m \u001b[38;5;28;01mif\u001b[39;00m chunksize \u001b[38;5;129;01mor\u001b[39;00m iterator:\n\u001b[1;32m    623\u001b[0m     \u001b[38;5;28;01mreturn\u001b[39;00m parser\n",
      "File \u001b[0;32m~/anaconda3/lib/python3.12/site-packages/pandas/io/parsers/readers.py:1620\u001b[0m, in \u001b[0;36mTextFileReader.__init__\u001b[0;34m(self, f, engine, **kwds)\u001b[0m\n\u001b[1;32m   1617\u001b[0m     \u001b[38;5;28mself\u001b[39m\u001b[38;5;241m.\u001b[39moptions[\u001b[38;5;124m\"\u001b[39m\u001b[38;5;124mhas_index_names\u001b[39m\u001b[38;5;124m\"\u001b[39m] \u001b[38;5;241m=\u001b[39m kwds[\u001b[38;5;124m\"\u001b[39m\u001b[38;5;124mhas_index_names\u001b[39m\u001b[38;5;124m\"\u001b[39m]\n\u001b[1;32m   1619\u001b[0m \u001b[38;5;28mself\u001b[39m\u001b[38;5;241m.\u001b[39mhandles: IOHandles \u001b[38;5;241m|\u001b[39m \u001b[38;5;28;01mNone\u001b[39;00m \u001b[38;5;241m=\u001b[39m \u001b[38;5;28;01mNone\u001b[39;00m\n\u001b[0;32m-> 1620\u001b[0m \u001b[38;5;28mself\u001b[39m\u001b[38;5;241m.\u001b[39m_engine \u001b[38;5;241m=\u001b[39m \u001b[38;5;28mself\u001b[39m\u001b[38;5;241m.\u001b[39m_make_engine(f, \u001b[38;5;28mself\u001b[39m\u001b[38;5;241m.\u001b[39mengine)\n",
      "File \u001b[0;32m~/anaconda3/lib/python3.12/site-packages/pandas/io/parsers/readers.py:1880\u001b[0m, in \u001b[0;36mTextFileReader._make_engine\u001b[0;34m(self, f, engine)\u001b[0m\n\u001b[1;32m   1878\u001b[0m     \u001b[38;5;28;01mif\u001b[39;00m \u001b[38;5;124m\"\u001b[39m\u001b[38;5;124mb\u001b[39m\u001b[38;5;124m\"\u001b[39m \u001b[38;5;129;01mnot\u001b[39;00m \u001b[38;5;129;01min\u001b[39;00m mode:\n\u001b[1;32m   1879\u001b[0m         mode \u001b[38;5;241m+\u001b[39m\u001b[38;5;241m=\u001b[39m \u001b[38;5;124m\"\u001b[39m\u001b[38;5;124mb\u001b[39m\u001b[38;5;124m\"\u001b[39m\n\u001b[0;32m-> 1880\u001b[0m \u001b[38;5;28mself\u001b[39m\u001b[38;5;241m.\u001b[39mhandles \u001b[38;5;241m=\u001b[39m get_handle(\n\u001b[1;32m   1881\u001b[0m     f,\n\u001b[1;32m   1882\u001b[0m     mode,\n\u001b[1;32m   1883\u001b[0m     encoding\u001b[38;5;241m=\u001b[39m\u001b[38;5;28mself\u001b[39m\u001b[38;5;241m.\u001b[39moptions\u001b[38;5;241m.\u001b[39mget(\u001b[38;5;124m\"\u001b[39m\u001b[38;5;124mencoding\u001b[39m\u001b[38;5;124m\"\u001b[39m, \u001b[38;5;28;01mNone\u001b[39;00m),\n\u001b[1;32m   1884\u001b[0m     compression\u001b[38;5;241m=\u001b[39m\u001b[38;5;28mself\u001b[39m\u001b[38;5;241m.\u001b[39moptions\u001b[38;5;241m.\u001b[39mget(\u001b[38;5;124m\"\u001b[39m\u001b[38;5;124mcompression\u001b[39m\u001b[38;5;124m\"\u001b[39m, \u001b[38;5;28;01mNone\u001b[39;00m),\n\u001b[1;32m   1885\u001b[0m     memory_map\u001b[38;5;241m=\u001b[39m\u001b[38;5;28mself\u001b[39m\u001b[38;5;241m.\u001b[39moptions\u001b[38;5;241m.\u001b[39mget(\u001b[38;5;124m\"\u001b[39m\u001b[38;5;124mmemory_map\u001b[39m\u001b[38;5;124m\"\u001b[39m, \u001b[38;5;28;01mFalse\u001b[39;00m),\n\u001b[1;32m   1886\u001b[0m     is_text\u001b[38;5;241m=\u001b[39mis_text,\n\u001b[1;32m   1887\u001b[0m     errors\u001b[38;5;241m=\u001b[39m\u001b[38;5;28mself\u001b[39m\u001b[38;5;241m.\u001b[39moptions\u001b[38;5;241m.\u001b[39mget(\u001b[38;5;124m\"\u001b[39m\u001b[38;5;124mencoding_errors\u001b[39m\u001b[38;5;124m\"\u001b[39m, \u001b[38;5;124m\"\u001b[39m\u001b[38;5;124mstrict\u001b[39m\u001b[38;5;124m\"\u001b[39m),\n\u001b[1;32m   1888\u001b[0m     storage_options\u001b[38;5;241m=\u001b[39m\u001b[38;5;28mself\u001b[39m\u001b[38;5;241m.\u001b[39moptions\u001b[38;5;241m.\u001b[39mget(\u001b[38;5;124m\"\u001b[39m\u001b[38;5;124mstorage_options\u001b[39m\u001b[38;5;124m\"\u001b[39m, \u001b[38;5;28;01mNone\u001b[39;00m),\n\u001b[1;32m   1889\u001b[0m )\n\u001b[1;32m   1890\u001b[0m \u001b[38;5;28;01massert\u001b[39;00m \u001b[38;5;28mself\u001b[39m\u001b[38;5;241m.\u001b[39mhandles \u001b[38;5;129;01mis\u001b[39;00m \u001b[38;5;129;01mnot\u001b[39;00m \u001b[38;5;28;01mNone\u001b[39;00m\n\u001b[1;32m   1891\u001b[0m f \u001b[38;5;241m=\u001b[39m \u001b[38;5;28mself\u001b[39m\u001b[38;5;241m.\u001b[39mhandles\u001b[38;5;241m.\u001b[39mhandle\n",
      "File \u001b[0;32m~/anaconda3/lib/python3.12/site-packages/pandas/io/common.py:873\u001b[0m, in \u001b[0;36mget_handle\u001b[0;34m(path_or_buf, mode, encoding, compression, memory_map, is_text, errors, storage_options)\u001b[0m\n\u001b[1;32m    868\u001b[0m \u001b[38;5;28;01melif\u001b[39;00m \u001b[38;5;28misinstance\u001b[39m(handle, \u001b[38;5;28mstr\u001b[39m):\n\u001b[1;32m    869\u001b[0m     \u001b[38;5;66;03m# Check whether the filename is to be opened in binary mode.\u001b[39;00m\n\u001b[1;32m    870\u001b[0m     \u001b[38;5;66;03m# Binary mode does not support 'encoding' and 'newline'.\u001b[39;00m\n\u001b[1;32m    871\u001b[0m     \u001b[38;5;28;01mif\u001b[39;00m ioargs\u001b[38;5;241m.\u001b[39mencoding \u001b[38;5;129;01mand\u001b[39;00m \u001b[38;5;124m\"\u001b[39m\u001b[38;5;124mb\u001b[39m\u001b[38;5;124m\"\u001b[39m \u001b[38;5;129;01mnot\u001b[39;00m \u001b[38;5;129;01min\u001b[39;00m ioargs\u001b[38;5;241m.\u001b[39mmode:\n\u001b[1;32m    872\u001b[0m         \u001b[38;5;66;03m# Encoding\u001b[39;00m\n\u001b[0;32m--> 873\u001b[0m         handle \u001b[38;5;241m=\u001b[39m \u001b[38;5;28mopen\u001b[39m(\n\u001b[1;32m    874\u001b[0m             handle,\n\u001b[1;32m    875\u001b[0m             ioargs\u001b[38;5;241m.\u001b[39mmode,\n\u001b[1;32m    876\u001b[0m             encoding\u001b[38;5;241m=\u001b[39mioargs\u001b[38;5;241m.\u001b[39mencoding,\n\u001b[1;32m    877\u001b[0m             errors\u001b[38;5;241m=\u001b[39merrors,\n\u001b[1;32m    878\u001b[0m             newline\u001b[38;5;241m=\u001b[39m\u001b[38;5;124m\"\u001b[39m\u001b[38;5;124m\"\u001b[39m,\n\u001b[1;32m    879\u001b[0m         )\n\u001b[1;32m    880\u001b[0m     \u001b[38;5;28;01melse\u001b[39;00m:\n\u001b[1;32m    881\u001b[0m         \u001b[38;5;66;03m# Binary mode\u001b[39;00m\n\u001b[1;32m    882\u001b[0m         handle \u001b[38;5;241m=\u001b[39m \u001b[38;5;28mopen\u001b[39m(handle, ioargs\u001b[38;5;241m.\u001b[39mmode)\n",
      "\u001b[0;31mFileNotFoundError\u001b[0m: [Errno 2] No such file or directory: 'Data/elections/elections_candidats_results.csv'"
     ]
    }
   ],
   "source": [
    "df_result_candidat=pd.read_csv('Data/elections/elections_candidats_results.csv', delimiter=';')\n",
    "empty_columns = df_result_candidat.columns[df_result_candidat.isna().all()].tolist()\n",
    "print(empty_columns)"
   ]
  },
  {
   "cell_type": "markdown",
   "metadata": {},
   "source": [
    "Ne garder que les id_election = ['2017_pres_t2' '2017_pres_t1']"
   ]
  },
  {
   "cell_type": "code",
   "execution_count": null,
   "metadata": {},
   "outputs": [],
   "source": [
    "df_result_candidat_2017=df_result_candidat[(df_result_candidat['id_election'] =='2017_pres_t2') | (df_result_candidat['id_election'] == '2017_pres_t1')]\n",
    "df_result_candidat_2017"
   ]
  },
  {
   "cell_type": "code",
   "execution_count": null,
   "metadata": {},
   "outputs": [],
   "source": []
  },
  {
   "cell_type": "code",
   "execution_count": null,
   "metadata": {},
   "outputs": [],
   "source": []
  },
  {
   "cell_type": "markdown",
   "metadata": {},
   "source": [
    "### Résultat par bureau (CodeInsee/Commune/CodeDepartement)"
   ]
  },
  {
   "cell_type": "code",
   "execution_count": null,
   "metadata": {},
   "outputs": [],
   "source": [
    "df_p2022_resultats_bureaux_t1 = pd.read_csv('Data/p2022-resultats-bureaux-t1.csv', skipinitialspace=True, sep=',', low_memory=False)\n",
    "df_p2022_resultats_bureaux_t1.head()\n",
    "#df_bureau = df_p2022_resultats_bureaux_t1.drop(['Commune'], axis=1)\n",
    "df_bureau = df_p2022_resultats_bureaux_t1\n",
    "df_bureau=df_bureau[~df_bureau['CodeDepartement'].str.startswith('Z')]\n",
    "df_bureau['CodeDepartement'].unique()\n",
    "df_bureau"
   ]
  },
  {
   "cell_type": "code",
   "execution_count": null,
   "metadata": {},
   "outputs": [],
   "source": [
    "df_departement = df_bureau.groupby('CodeDepartement', as_index=False).sum()\n",
    "df_departement= df_bureau.drop(['Commune','CodeInsee','CodeBdeVote'], axis=1)\n",
    "df_departement.columns"
   ]
  },
  {
   "cell_type": "markdown",
   "metadata": {},
   "source": [
    "### Contours Circonscription"
   ]
  },
  {
   "cell_type": "markdown",
   "metadata": {},
   "source": [
    "#### Geoloc"
   ]
  },
  {
   "cell_type": "code",
   "execution_count": null,
   "metadata": {},
   "outputs": [],
   "source": [
    "df_geoloc = pd.read_csv('Data/points-extremes-des-departements-metropolitains-de-france.csv', skipinitialspace=True, sep=',', low_memory=False)\n",
    "df_geoloc"
   ]
  },
  {
   "cell_type": "markdown",
   "metadata": {},
   "source": [
    "#### Lecture et Transformation du GeoJson en DF"
   ]
  },
  {
   "cell_type": "markdown",
   "metadata": {},
   "source": [
    "##### Méthode1"
   ]
  },
  {
   "cell_type": "code",
   "execution_count": null,
   "metadata": {},
   "outputs": [],
   "source": [
    "import json\n",
    "path = 'Data/elections_contours-france-entiere-latest-v2.geojson'\n",
    "with open(path, 'r', encoding=\"utf-8\") as f:\n",
    "    geo_full = json.load(f)\n",
    "geo_full\n",
    "liste_geofull=geo_full['features']\n",
    "liste_geofull"
   ]
  },
  {
   "cell_type": "code",
   "execution_count": null,
   "metadata": {},
   "outputs": [],
   "source": [
    "cd_departement, nom_departement,cd_circonscription,nom_circonscription,cd_commune,nom_commune,num_bureauvote,cd_bureauvote,id_bv,coordinates=[],[],[],[],[],[],[],[],[],[]\n",
    "\n",
    "liste_geofull=geo_full['features']\n",
    "for elm in liste_geofull:\n",
    "    cd_departement.append(elm['properties']['codeDepartement'])\n",
    "    nom_departement.append(elm['properties']['nomDepartement'])\n",
    "    cd_circonscription.append(elm['properties']['codeCirconscription'])\n",
    "    nom_circonscription.append(elm['properties']['nomCirconscription']) \n",
    "    cd_commune.append(elm['properties']['codeCommune'])\n",
    "    nom_commune.append(elm['properties']['nomCommune'])\n",
    "    num_bureauvote.append(elm['properties']['numeroBureauVote'])\n",
    "    cd_bureauvote.append(elm['properties']['codeBureauVote'])\n",
    "    id_bv.append(elm['properties']['id_bv'])\n",
    "    coordinates.append(elm['geometry']['coordinates'][0])   \n",
    "   \n",
    "df_geofull=pd.DataFrame({\n",
    "    'cd_dpt' : cd_departement,\n",
    "    'nom_dpt' :nom_departement,\n",
    "    'cd_circon' :cd_circonscription,\n",
    "    'nom_circon' :nom_circonscription,\n",
    "    'cd_com' :cd_commune,\n",
    "    'nom_com' :nom_commune,\n",
    "    'num_bv' :num_bureauvote,\n",
    "    'cd_bv' :cd_bureauvote,\n",
    "    'id_bv' :id_bv,\n",
    "    'coordo' :coordinates})\n",
    "df_geofull"
   ]
  },
  {
   "cell_type": "code",
   "execution_count": null,
   "metadata": {},
   "outputs": [],
   "source": [
    "# elm1 = liste_geofull[0]\n",
    "# elm1['geometry']['coordinates'][0]"
   ]
  },
  {
   "cell_type": "code",
   "execution_count": null,
   "metadata": {},
   "outputs": [],
   "source": [
    "# import pandas as pd\n",
    "\n",
    "# data = []\n",
    "# for elm in liste_geofull:\n",
    "#     data.append({\n",
    "#         \"cd_departement\": elm['properties'].get('codeDepartement'),\n",
    "#         \"nom_departement\": elm['properties'].get('nomDepartement', None),\n",
    "#         \"cd_circonscription\": elm['properties'].get('codeCirconscription', None),\n",
    "#         \"nom_circonscription\": elm['properties'].get('nomCirconscription', None),\n",
    "#         \"cd_commune\": elm['properties'].get('codeCommune', None),\n",
    "#         \"nom_commune\": elm['properties'].get('nomCommune', None),\n",
    "#         \"num_bureauvote\": elm['properties'].get('numBureauVote', None),\n",
    "#         \"cd_bureauvote\": elm['properties'].get('codeBureauVote', None),\n",
    "#         \"id_bv\": elm['properties'].get('idBv', None),\n",
    "#         \"coordinates\": elm['geometry'].get('coordinates', None)[0][0]\n",
    "#     })\n",
    "# df = pd.DataFrame(data)\n",
    "# df.sample()"
   ]
  },
  {
   "cell_type": "code",
   "execution_count": null,
   "metadata": {},
   "outputs": [],
   "source": [
    "def get_depth(x):\n",
    "    if isinstance(x, list):\n",
    "        max_depth = 1 + max((get_depth(elm) for elm in x), default=0)\n",
    "        return max_depth\n",
    "    else:\n",
    "        return 0"
   ]
  },
  {
   "cell_type": "code",
   "execution_count": null,
   "metadata": {},
   "outputs": [],
   "source": [
    "df_geofull['depth'] = df_geofull.coordo.map(get_depth)\n"
   ]
  },
  {
   "cell_type": "code",
   "execution_count": null,
   "metadata": {},
   "outputs": [],
   "source": [
    "df_geofull.depth.unique()"
   ]
  },
  {
   "cell_type": "code",
   "execution_count": null,
   "metadata": {},
   "outputs": [],
   "source": [
    "def reduire_depth(x):\n",
    "    if isinstance(x, list):\n",
    "        max_depth = 1 + max((get_depth(elm) for elm in x), default=0)\n",
    "        if max_depth == 2:\n",
    "            return x\n",
    "        elif max_depth == 3:\n",
    "            y = [elm for liste in x for elm in liste]\n",
    "            return y\n",
    "    else:\n",
    "        return 0"
   ]
  },
  {
   "cell_type": "code",
   "execution_count": null,
   "metadata": {},
   "outputs": [],
   "source": [
    "df_geofull['coordonnees'] = df_geofull.coordo.map(reduire_depth)\n"
   ]
  },
  {
   "cell_type": "code",
   "execution_count": null,
   "metadata": {},
   "outputs": [],
   "source": [
    "df_geofull.head()\n"
   ]
  },
  {
   "cell_type": "code",
   "execution_count": null,
   "metadata": {},
   "outputs": [],
   "source": [
    "df_geofull = df_geofull.drop(columns=['coordonnees'])\n",
    "df_geofull=df_geofull.explode('coordo')\n",
    "df_geofull\n"
   ]
  },
  {
   "cell_type": "markdown",
   "metadata": {},
   "source": [
    "##### Méthode2"
   ]
  },
  {
   "cell_type": "code",
   "execution_count": null,
   "metadata": {},
   "outputs": [],
   "source": [
    "# geojson = pdg.read_geojson('Data/elections_contours-france-entiere-latest-v2.geojson')\n",
    "# df_geojson = geojson.to_dataframe()\n",
    "# df_geojson.head(10)\n",
    "# df_geojson.info()"
   ]
  },
  {
   "cell_type": "code",
   "execution_count": null,
   "metadata": {},
   "outputs": [],
   "source": [
    "\"\"\"df_test= df_geojson.copy()\n",
    "df_test.sample(5)\n",
    "df_test['geometry.coordinates'] = df_test['geometry.coordinates'].apply(\n",
    "    lambda x: x if isinstance(x, list) and all(isinstance(p, list) and len(p) == 2 for p in x) else []\n",
    ")\n",
    "for i in range(max_points):\n",
    "    df_test[f'longitude_{i+1}'] = df_test['geometry.coordinates'].apply(lambda x: x[i][0] if x and i < len(x) else None)\n",
    "    df_test[f'latitude_{i+1}'] = df_test['geometry.coordinates'].apply(lambda x: x[i][1] if x and i < len(x) else None)\n",
    "\n",
    "# Supprimer la colonne d'origine si nécessaire\n",
    "df = df_test.drop(columns=['geometry.coordinates'])\n",
    "\n",
    "print(df)\n",
    "\n",
    "df.columns.tolist()\n",
    "len(df['properties.nomCommune'].unique())\"\"\""
   ]
  },
  {
   "cell_type": "code",
   "execution_count": null,
   "metadata": {},
   "outputs": [],
   "source": [
    "# coordonnees = []\n",
    "\n",
    "# # Parcourir chaque ligne du DataFrame\n",
    "# for i, row in df_geojson.iterrows():\n",
    "#     coordonnees.append({\n",
    "#         \"Code_Commune\": row[\"properties.codeCommune\"],\n",
    "#         \"Nom_Commune\":row['properties.nomCommune'],\n",
    "#         \"Code_Departement\": row[\"properties.codeDepartement\"],\n",
    "#         \"Nom_Departement\": row[\"properties.nomDepartement\"],\n",
    "#         \"Code_Circonscription\": row[\"properties.codeCirconscription\"],\n",
    "#         \"Nom_Circonscription\": row[\"properties.nomCirconscription\"],\n",
    "#         \"Num_BureauVote\": row[\"properties.numeroBureauVote\"],\n",
    "#         \"Code_BureauVote\": row[\"properties.codeBureauVote\"],\n",
    "#         \"id_BureauVote\": row[\"properties.id_bv\"],\n",
    "#         \"Coordonnees\": row[\"geometry.coordinates\"]\n",
    "#     })\n",
    "# df_coordonnees = pd.DataFrame(coordonnees)\n",
    "# df_coordonnees.head()"
   ]
  }
 ],
 "metadata": {
  "kernelspec": {
   "display_name": "base",
   "language": "python",
   "name": "python3"
  },
  "language_info": {
   "codemirror_mode": {
    "name": "ipython",
    "version": 3
   },
   "file_extension": ".py",
   "mimetype": "text/x-python",
   "name": "python",
   "nbconvert_exporter": "python",
   "pygments_lexer": "ipython3",
   "version": "3.12.7"
  }
 },
 "nbformat": 4,
 "nbformat_minor": 2
}
